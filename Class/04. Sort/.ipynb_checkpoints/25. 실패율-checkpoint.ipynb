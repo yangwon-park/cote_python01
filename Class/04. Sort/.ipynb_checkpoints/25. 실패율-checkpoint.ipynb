{
 "cells": [
  {
   "cell_type": "markdown",
   "id": "5094c105",
   "metadata": {},
   "source": [
    "- [문제 출처](https://programmers.co.kr/learn/courses/30/lessons/42889)\n",
    "- 실패율 : 스테이지에 도달했으나 아직 클리어하지 못한 플레이어의 수 / 스테이지에 도달한 플레이어의 수\n",
    "- 전체 스테이지 개수 : N\n",
    "- 현재 멈춰있는 스테이지의 번호가 담긴 배열 : stages\n",
    "- 실패율이 높은 스테이지부터 내림차순으로 스테이지의 번호가 담겨 있는 배열을 return 하도록 solution 함수를 완성하세요."
   ]
  },
  {
   "cell_type": "code",
   "execution_count": 33,
   "id": "d9b8068c",
   "metadata": {},
   "outputs": [
    {
     "name": "stdout",
     "output_type": "stream",
     "text": [
      "4\n",
      "4 4 4 4 4\n"
     ]
    }
   ],
   "source": [
    "n = int(input())\n",
    "stages = list(map(int, input().split()))\n",
    "\n",
    "stages_prop = [0] * (n+1)\n",
    "\n",
    "def solution(n ,stages):\n",
    "    answer = []\n",
    "    length = len(stages)\n",
    "    \n",
    "    # i => 스테이지 번호\n",
    "    for i in range(1, n+1):\n",
    "        count = stages.count(i)\n",
    "        \n",
    "        # 실패율 계산\n",
    "        if length == 0:\n",
    "            fail = 0\n",
    "        else:\n",
    "            fail = count / length\n",
    "            \n",
    "        answer.append((i, fail))\n",
    "        length -= count\n",
    "        \n",
    "    answer = sorted(answer, key=lambda x: x[1], reverse = True)\n",
    "    \n",
    "    answer = [s[0] for s in answer]\n",
    "    print(answer)\n",
    "\n",
    "solution(n, stages)    "
   ]
  }
 ],
 "metadata": {
  "kernelspec": {
   "display_name": "Python3_7",
   "language": "python",
   "name": "3_7"
  },
  "language_info": {
   "codemirror_mode": {
    "name": "ipython",
    "version": 3
   },
   "file_extension": ".py",
   "mimetype": "text/x-python",
   "name": "python",
   "nbconvert_exporter": "python",
   "pygments_lexer": "ipython3",
   "version": "3.7.11"
  }
 },
 "nbformat": 4,
 "nbformat_minor": 5
}
