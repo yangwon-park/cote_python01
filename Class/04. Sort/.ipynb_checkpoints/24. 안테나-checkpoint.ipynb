{
 "cells": [
  {
   "cell_type": "markdown",
   "id": "39ae025a",
   "metadata": {},
   "source": [
    "- 일직선상의 마을에 여러 채의 집이 위치\n",
    "- 특정 위치의 집에 특별히 한 개의 안테나를 설치하기로 결정\n",
    "- 효율성을 위해 안테나로부터 모든 집까지의 거리의 총합이 최소가 되도록 설치\n",
    "- 안테나는 집이 위치한 곳에만 설치할 수 있고, 논리적으로 동일한 위치에 여러 개의 집이 존재하는 것이 가능\n",
    "- 즙들의 위치 값이 주어질 때, 안테나를 설치할 위치를 선택하는 프로그램을 작성하세요"
   ]
  },
  {
   "cell_type": "code",
   "execution_count": 19,
   "id": "55342f27",
   "metadata": {},
   "outputs": [
    {
     "name": "stdout",
     "output_type": "stream",
     "text": [
      "4\n",
      "5 1 7 9\n",
      "5\n"
     ]
    }
   ],
   "source": [
    "# 시간 초과\n",
    "n = int(input())\n",
    "\n",
    "coor = list(map(int, input().split()))\n",
    "\n",
    "result = []\n",
    "for i in coor:\n",
    "    dist = 0\n",
    "    for j in coor:\n",
    "        dist += abs(i-j)\n",
    "        \n",
    "    result.append(dist)\n",
    "    \n",
    "result_min = min(result)\n",
    "\n",
    "if result_min in result:\n",
    "    print(coor[result.index(result_min)])"
   ]
  },
  {
   "cell_type": "code",
   "execution_count": 21,
   "id": "fe4ecd53",
   "metadata": {},
   "outputs": [
    {
     "name": "stdout",
     "output_type": "stream",
     "text": [
      "4\n",
      "5 1 7 9\n",
      "5\n"
     ]
    }
   ],
   "source": [
    "# 집이 있는 위치들의 중간값에 위치하게 하면 최솟값 가능\n",
    "n = int(input())\n",
    "\n",
    "coor = list(map(int, input().split()))\n",
    "\n",
    "coor.sort()\n",
    "\n",
    "print(coor[(n-1)//2])"
   ]
  }
 ],
 "metadata": {
  "kernelspec": {
   "display_name": "Python3_7",
   "language": "python",
   "name": "3_7"
  },
  "language_info": {
   "codemirror_mode": {
    "name": "ipython",
    "version": 3
   },
   "file_extension": ".py",
   "mimetype": "text/x-python",
   "name": "python",
   "nbconvert_exporter": "python",
   "pygments_lexer": "ipython3",
   "version": "3.7.11"
  }
 },
 "nbformat": 4,
 "nbformat_minor": 5
}
