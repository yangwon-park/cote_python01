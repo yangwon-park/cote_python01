{
 "cells": [
  {
   "cell_type": "markdown",
   "id": "e2d6d428",
   "metadata": {},
   "source": [
    "    - 정렬된 두 묶음의 숫자 카드가 있을 때, 각 묶음의 카드 수를 A, B라 하자.\n",
    "    - 이 경우, 보통 두 묶음을 합쳐서 하나로 만드는 데에은 A + B 번의 비교를 해야 한다.\n",
    "    - 매우 많은 숫자 카드 묶음 중 두 묶음 씩 골라 서로 합쳐나간다면, 고르는 순서에 따라서 비교 횟수가 매우 달라짐\n",
    "    - 이 비교 횟수의 최솟값을 구하는 프로그램을 작성하세요."
   ]
  },
  {
   "cell_type": "code",
   "execution_count": 3,
   "id": "d03fb7b7",
   "metadata": {},
   "outputs": [
    {
     "name": "stdout",
     "output_type": "stream",
     "text": [
      "3\n",
      "10\n",
      "20\n",
      "40\n",
      "100\n"
     ]
    }
   ],
   "source": [
    "# 항상 작은 값들만 두개씩 묶어서 차례대로 더해주면 됨\n",
    "# => 최소 힙 사용\n",
    "import heapq\n",
    "n = int(input())\n",
    "\n",
    "card_list = []\n",
    "\n",
    "for _ in range(n):\n",
    "    card = int(input())\n",
    "    heapq.heappush(card_list, card)\n",
    "\n",
    "# 누적 합을 담을 변수    \n",
    "result = 0\n",
    "\n",
    "# 2개를 꺼내고 더한 값 1개를 다시 넣으므로\n",
    "# 힙의 크기는 계속 줄어든다\n",
    "while len(card_list) != 1:\n",
    "    # 가장 작은 2개의 카드 묶음 꺼내기\n",
    "    a = heapq.heappop(card_list)\n",
    "    b = heapq.heappop(card_list)\n",
    "    \n",
    "    # 2개의 카드 더하기\n",
    "    sum_ = a + b\n",
    "    result += sum_\n",
    "    \n",
    "    # 더한 값을 다시 최소 힙에 넣어줌\n",
    "    heapq.heappush(card_list, sum_)\n",
    "    \n",
    "print(result)"
   ]
  }
 ],
 "metadata": {
  "kernelspec": {
   "display_name": "Python3_7",
   "language": "python",
   "name": "3_7"
  },
  "language_info": {
   "codemirror_mode": {
    "name": "ipython",
    "version": 3
   },
   "file_extension": ".py",
   "mimetype": "text/x-python",
   "name": "python",
   "nbconvert_exporter": "python",
   "pygments_lexer": "ipython3",
   "version": "3.7.11"
  }
 },
 "nbformat": 4,
 "nbformat_minor": 5
}
