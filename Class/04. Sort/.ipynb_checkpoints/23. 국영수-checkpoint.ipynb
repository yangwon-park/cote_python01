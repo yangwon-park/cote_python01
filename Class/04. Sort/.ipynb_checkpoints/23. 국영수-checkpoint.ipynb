{
 "cells": [
  {
   "cell_type": "markdown",
   "id": "e654f837",
   "metadata": {},
   "source": [
    "- 학생 N명의 이름, 국어, 영어, 수학 점수가 주어짐\n",
    "- 다음과 조건으로 학생의 성적을 정렬하는 프로그램을 작성하세요\n",
    "    1. 국어 점수가 감소하는 순서\n",
    "    2. 국어 점수가 같으면 영어 점수가 증가하는 순서\n",
    "    3. 국어 점수와 영어 점수가 같으면 수학 점수가 감소하는 순서\n",
    "    4. 모든 점수가 같으면 이름이 사전 순으로 증가하는 순서 (아스키코드 상 대문자가 소문자보다 작으므로 앞에 옴)"
   ]
  },
  {
   "cell_type": "code",
   "execution_count": 11,
   "id": "5d84e280",
   "metadata": {},
   "outputs": [
    {
     "name": "stdout",
     "output_type": "stream",
     "text": [
      "12\n",
      "Junkyu 50 60 100\n",
      "Sangkeun 80 60 50\n",
      "Sunyoung 80 70 100\n",
      "Soong 50 60 90\n",
      "Haebin 50 60 100\n",
      "Kangsoo 60 80 100\n",
      "Donghyuk 80 60 100\n",
      "Sei 70 70 70\n",
      "Wonseob 70 70 90\n",
      "Sanghyun 70 70 80\n",
      "nsj 80 80 80\n",
      "Taewhan 50 60 90\n"
     ]
    }
   ],
   "source": [
    "n = int(input())\n",
    "\n",
    "score = []\n",
    "\n",
    "for _ in range(n):\n",
    "    name, kor, eng, mat = list(map(str, input().split()))\n",
    "    \n",
    "    score.append((name, int(kor), int(eng), int(mat)))\n",
    "\n",
    "# 조건에 주어진 정렬을 lambda 식을 활용하여 구현\n",
    "# 내림차순 정렬을 하고 싶은 경우, -를 붙여주면 간단하게 해결 가능\n",
    "sorted_score = sorted(score, key = lambda x: (-(x[1]), x[2], -(x[3]), x[0]))\n",
    "\n",
    "for i in range(len(sorted_score)):\n",
    "        print(sorted_score[i][0])"
   ]
  },
  {
   "cell_type": "code",
   "execution_count": 38,
   "id": "c4e5e35b",
   "metadata": {},
   "outputs": [
    {
     "name": "stdout",
     "output_type": "stream",
     "text": [
      "Donghyuk\n",
      "Sangkeun\n",
      "Sunyoung\n",
      "nsj\n",
      "Wonseob\n",
      "Sanghyun\n",
      "Sei\n",
      "Kangsoo\n",
      "Haebin\n",
      "Junkyu\n",
      "Soong\n",
      "Taewhan\n"
     ]
    }
   ],
   "source": []
  }
 ],
 "metadata": {
  "kernelspec": {
   "display_name": "Python3_7",
   "language": "python",
   "name": "3_7"
  },
  "language_info": {
   "codemirror_mode": {
    "name": "ipython",
    "version": 3
   },
   "file_extension": ".py",
   "mimetype": "text/x-python",
   "name": "python",
   "nbconvert_exporter": "python",
   "pygments_lexer": "ipython3",
   "version": "3.7.11"
  }
 },
 "nbformat": 4,
 "nbformat_minor": 5
}
