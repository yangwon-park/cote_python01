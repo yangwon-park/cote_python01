{
 "cells": [
  {
   "cell_type": "markdown",
   "id": "9c88e0fe",
   "metadata": {},
   "source": [
    "- 1~n번까지의 도시와 m개의 단방향 도로가 존재\n",
    "- 모든 도로의 거리 1 => 간선의 비용이 모두 동일 => **BFS 사용**\n",
    "- 특정한 도시 x로부터 출발하여 도달할 수 있는 모든 도시 중, 최단거리가 K인 도시의 번호를 오름차순 출력하는 프로그램을 작성\n",
    "    - 하나도 존재하지 않으면 -1 출력\n",
    "- x => x 는 0"
   ]
  },
  {
   "cell_type": "code",
   "execution_count": 25,
   "id": "6a76c3ed",
   "metadata": {},
   "outputs": [
    {
     "name": "stdout",
     "output_type": "stream",
     "text": [
      "4 4 1 1\n",
      "1 2\n",
      "1 3\n",
      "2 3\n",
      "2 4\n",
      "2\n",
      "3\n"
     ]
    }
   ],
   "source": [
    "from collections import deque\n",
    "\n",
    "n, m, k, x = map(int, input().split())\n",
    "\n",
    "city = [[] for _ in range(n+1)]\n",
    "\n",
    "for _ in range(m):\n",
    "    a, b = map(int, input().split())\n",
    "    \n",
    "    city[a].append(b)\n",
    "\n",
    "# 모든 도시에 대한 최단 거리 초기화\n",
    "# -1이면 미방문\n",
    "# 거리의 값이 k와 같은지 비교해야 하므로 boolean값으로 하지 않고, -1로 초기화\n",
    "dist = [-1] * (n+1)\n",
    "\n",
    "# 출발 도시 거리 0\n",
    "dist[x] = 0\n",
    "\n",
    "# deque(x)하면 안 들어감\n",
    "q = deque([x])\n",
    "\n",
    "while q:\n",
    "    now = q.popleft()\n",
    "    \n",
    "    # 현재 도시에서 이동할 수 있는 모든 도시 확인\n",
    "    for next_node in city[now]:\n",
    "        \n",
    "        # 아직 미방문이라면\n",
    "        if dist[next_node] == -1:\n",
    "            \n",
    "            # 최단 거리 갱신\n",
    "            dist[next_node] = dist[now] + 1\n",
    "            q.append(next_node)\n",
    "            \n",
    "# 최단 거리가 k가 아닌 경우를 검사하기 위한 boolean\n",
    "check = False\n",
    "\n",
    "# 최단 거리가 k인 모든 도시의 번호를 오름차순으로 출력            \n",
    "for i in range(1, n+1):\n",
    "    if dist[i] == k:\n",
    "        print(i)\n",
    "        check = True\n",
    "        \n",
    "if check == False:\n",
    "    print(-1)"
   ]
  }
 ],
 "metadata": {
  "kernelspec": {
   "display_name": "Python3_7",
   "language": "python",
   "name": "3_7"
  },
  "language_info": {
   "codemirror_mode": {
    "name": "ipython",
    "version": 3
   },
   "file_extension": ".py",
   "mimetype": "text/x-python",
   "name": "python",
   "nbconvert_exporter": "python",
   "pygments_lexer": "ipython3",
   "version": "3.7.11"
  }
 },
 "nbformat": 4,
 "nbformat_minor": 5
}
