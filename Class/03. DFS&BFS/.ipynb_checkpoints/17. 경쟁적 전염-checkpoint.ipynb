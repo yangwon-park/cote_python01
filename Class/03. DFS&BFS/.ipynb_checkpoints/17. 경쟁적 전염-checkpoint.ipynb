{
 "cells": [
  {
   "cell_type": "markdown",
   "id": "6550f786",
   "metadata": {},
   "source": [
    "- N x N 크기의 시험관\n",
    "- 바이러스의 종류 : 1 ~ K\n",
    "- 시험관 가장 왼쪽 위의 좌표 : (1, 1)\n",
    "- 바이러스는 1초마다 상 하 좌 우의 방향으로 증식\n",
    "- 매초 번호가 낮은 종류의 바이러스부터 먼저 증식\n",
    "- 특정한 칸에 이미 어떠한 바이러스가 있다면 증식 불가능\n",
    "- S초가 지난 후에 (X, Y) 에 존재하는 바이러스의 종류를 출력하는 프로그램을 작성하시오. 바이러스가 존재하지 않으면 0을 출력하시오."
   ]
  },
  {
   "cell_type": "code",
   "execution_count": 68,
   "id": "4f3c83c9",
   "metadata": {},
   "outputs": [
    {
     "name": "stdout",
     "output_type": "stream",
     "text": [
      "3 3\n",
      "1 0 2\n",
      "0 0 0\n",
      "3 0 0\n",
      "2 3 2\n",
      "3\n"
     ]
    }
   ],
   "source": [
    "from collections import deque\n",
    "\n",
    "n, k = map(int, input().split())\n",
    "graph = []\n",
    "\n",
    "# 바이러스에 대한 정보를 담는 리스트\n",
    "data = []\n",
    "\n",
    "for i in range(n):\n",
    "    graph.append(list(map(int, input().split())))\n",
    "    \n",
    "    for j in range(n):\n",
    "        \n",
    "        #해당 위치에 바이러스가 존재하는 경우\n",
    "        if graph[i][j] != 0:\n",
    "            # 바이러스 종류, 시간, 위치 X, 위치 Y 삽입\n",
    "            data.append((graph[i][j], 0, i, j))\n",
    "\n",
    "# 정렬 이후에 큐로 옮기기 (낮은 번호의 바이러스가 먼저 증식하므로)            \n",
    "data.sort()    \n",
    "q = deque(data)\n",
    "\n",
    "s, x, y = map(int, input().split())\n",
    "\n",
    "\n",
    "dx = [-1, 1, 0, 0]\n",
    "dy = [0, 0, -1, 1]\n",
    "def bfs():\n",
    "    \n",
    "    while q:\n",
    "        \n",
    "        virus, time, tx, ty = q.popleft()\n",
    "        \n",
    "        # 정확히 s초가 지나거나, 큐가 빌 때까지 반복\n",
    "        if time == s:\n",
    "            break\n",
    "        \n",
    "        # 현재 노드에서 주변 4가지 위치를 각각 확인\n",
    "        for i in range(4):\n",
    "            nx = tx + dx[i]\n",
    "            ny = ty + dy[i]\n",
    "            \n",
    "            # 해당 위치로 이동할 수 있는 경우\n",
    "            if 0 <= nx and nx < n and 0 <= ny and ny < n:\n",
    "                if graph[nx][ny] == 0:\n",
    "                    graph[nx][ny] = virus\n",
    "                    \n",
    "                    # 시간이 1초 지났으므로 + 1\n",
    "                    q.append((virus, time + 1, nx, ny))\n",
    "\n",
    "bfs()                    \n",
    "print(graph[x-1][y-1])                    "
   ]
  },
  {
   "cell_type": "code",
   "execution_count": 69,
   "id": "8da723ed",
   "metadata": {},
   "outputs": [
    {
     "data": {
      "text/plain": [
       "[[1, 1, 2], [1, 1, 2], [3, 3, 2]]"
      ]
     },
     "execution_count": 69,
     "metadata": {},
     "output_type": "execute_result"
    }
   ],
   "source": [
    "graph"
   ]
  },
  {
   "cell_type": "code",
   "execution_count": null,
   "id": "92929b7d",
   "metadata": {},
   "outputs": [],
   "source": []
  }
 ],
 "metadata": {
  "kernelspec": {
   "display_name": "Python3_7",
   "language": "python",
   "name": "3_7"
  },
  "language_info": {
   "codemirror_mode": {
    "name": "ipython",
    "version": 3
   },
   "file_extension": ".py",
   "mimetype": "text/x-python",
   "name": "python",
   "nbconvert_exporter": "python",
   "pygments_lexer": "ipython3",
   "version": "3.7.11"
  }
 },
 "nbformat": 4,
 "nbformat_minor": 5
}
