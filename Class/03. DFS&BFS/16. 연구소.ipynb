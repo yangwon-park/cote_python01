{
 "cells": [
  {
   "cell_type": "markdown",
   "id": "b3d469f7",
   "metadata": {},
   "source": [
    "- 바이러스 확산을 막기 위해 연구소에 벽을 세우려고 함\n",
    "- 연구소 크기 : N x M 직사각형\n",
    "- 1 x 1 크기의 정사각형으로 이루어져 있음\n",
    "- 빈칸, 벽으로 이루어져 있으며 벽은 칸 하나를 가득 차지\n",
    "- 바이러스는 인접한 빈칸으로 모두 퍼져나갈 수 있음\n",
    "- 새로 세울 수 있는 벽의 개수는 3개이며, 꼭 3개를 세워야 함\n",
    "- 0 : 빈칸, 1 : 벽, 2 : 바이러스\n",
    "- 벽을 세운 뒤, 바이러스가 퍼질 수 없는 곳을 안전 영역이라고 할 때, 안전 영역의 최댓값을 구하는 프로그램을 작성하시오"
   ]
  },
  {
   "cell_type": "code",
   "execution_count": 13,
   "id": "4adc46f1",
   "metadata": {},
   "outputs": [
    {
     "name": "stdout",
     "output_type": "stream",
     "text": [
      "3 3\n",
      "0 0 0\n",
      "0 0 0\n",
      "2 0 0\n",
      "5\n"
     ]
    }
   ],
   "source": [
    "n, m = map(int, input().split())\n",
    "data = [] # 초기 맵\n",
    "temp = [[0] * m for _ in range(n)] # 벽을 설치한 뒤의 맵 리스트\n",
    "\n",
    "for _ in range(n):\n",
    "    data.append(list(map(int, input().split())))\n",
    "    \n",
    "# 4가지 이동 방향에 대한 리스트\n",
    "# 상하좌우\n",
    "dx = [-1, 1, 0, 0]\n",
    "dy = [0, 0, 1, -1]\n",
    "\n",
    "result = 0\n",
    "\n",
    "# DFS을 이용해 각 바이러스가 사방으로 퍼지도록 하기\n",
    "def virus(x, y):\n",
    "    # 4방향 이동\n",
    "    for i in range(4):\n",
    "        nx = x + dx[i]\n",
    "        ny = y + dy[i]\n",
    "        \n",
    "        # 상 하 좌 우 중에서 바이러스가 사방으로 퍼지도록 하기\n",
    "        if nx >= 0 and nx < n and ny >= 0 and ny < m:\n",
    "            if temp[nx][ny] == 0:\n",
    "                temp[nx][ny] = 2\n",
    "                virus(nx, ny)\n",
    "                \n",
    "# 현재 맵에서 안전 영역의 크기를 계산\n",
    "def get_score():\n",
    "    score = 0\n",
    "    \n",
    "    for i in range(n):\n",
    "        for j in range(m):\n",
    "            if temp[i][j] == 0:\n",
    "                score += 1\n",
    "                \n",
    "    return score\n",
    "\n",
    "# DFS를 이용해 울타리를 설치하면서, 매번 안전 영역의 크기 계산\n",
    "def dfs(count):\n",
    "    global result\n",
    "    \n",
    "    # 울타리가 3개 설치된 경우\n",
    "    # 임시로 만든 지도에 실제 지도를 덮어씀\n",
    "    if count == 3:\n",
    "        for i in range(n):\n",
    "            for j in range(m):\n",
    "                temp[i][j] = data[i][j]\n",
    "         \n",
    "        # 각 바이러스 위치에서 전파 진행\n",
    "        for i in range(n):\n",
    "            for j in range(m):\n",
    "                if temp[i][j] == 2:\n",
    "                    virus(i, j)\n",
    "        \n",
    "        # 안전 영역의 최댓값 계산\n",
    "        result = max(result, get_score())\n",
    "        return\n",
    "    \n",
    "    # 빈 공간에 울타리 설치\n",
    "    # 0인 곳만 찾아서 벽을 설치\n",
    "    # 3개 설치하면 dfs 메소드 종료 => 1로 바뀌었던 애들 다시 0으로 바꿈\n",
    "    for i in range(n):\n",
    "        for j in range(m):\n",
    "            if data[i][j] == 0:\n",
    "                data[i][j] = 1\n",
    "                count += 1\n",
    "                dfs(count)\n",
    "                data[i][j] = 0\n",
    "                count -= 1\n",
    "                \n",
    "dfs(0)\n",
    "print(result)\n",
    "    "
   ]
  }
 ],
 "metadata": {
  "kernelspec": {
   "display_name": "Python3_7",
   "language": "python",
   "name": "3_7"
  },
  "language_info": {
   "codemirror_mode": {
    "name": "ipython",
    "version": 3
   },
   "file_extension": ".py",
   "mimetype": "text/x-python",
   "name": "python",
   "nbconvert_exporter": "python",
   "pygments_lexer": "ipython3",
   "version": "3.7.11"
  }
 },
 "nbformat": 4,
 "nbformat_minor": 5
}
