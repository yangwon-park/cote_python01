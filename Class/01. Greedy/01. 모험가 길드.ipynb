{
 "cells": [
  {
   "cell_type": "code",
   "execution_count": 34,
   "id": "7903d0f2",
   "metadata": {},
   "outputs": [
    {
     "name": "stdout",
     "output_type": "stream",
     "text": [
      "5\n",
      "3 3 3 3 3\n",
      "1\n"
     ]
    }
   ],
   "source": [
    "n = int(input())\n",
    "data = list(map(int, input().split()))\n",
    "data.sort()\n",
    "\n",
    "# 총 그룹의 수\n",
    "result = 0\n",
    "\n",
    "# 현재 그룹에 포함된 모험가의 수\n",
    "cnt = 0\n",
    "\n",
    "for i in data:\n",
    "    # 현재 그룹에 모험가 포함\n",
    "    cnt += 1\n",
    "    \n",
    "    # 현재 그룹에 포함된 모험가의 수가 현재 모험가의 공포도 이상이라면, 그룹 결성\n",
    "    if cnt >= i:\n",
    "        \n",
    "        # 그룹 개수 1개 증가\n",
    "        result += 1\n",
    "        \n",
    "        # 현재 그룹에 포함된 모험가의 수 초기화 => 처음부터 다시 카운트해야 공포도와 비교 시 영향 X\n",
    "        cnt = 0\n",
    "        \n",
    "print(result)"
   ]
  }
 ],
 "metadata": {
  "kernelspec": {
   "display_name": "Python3_7",
   "language": "python",
   "name": "3_7"
  },
  "language_info": {
   "codemirror_mode": {
    "name": "ipython",
    "version": 3
   },
   "file_extension": ".py",
   "mimetype": "text/x-python",
   "name": "python",
   "nbconvert_exporter": "python",
   "pygments_lexer": "ipython3",
   "version": "3.7.11"
  }
 },
 "nbformat": 4,
 "nbformat_minor": 5
}
