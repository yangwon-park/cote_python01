{
 "cells": [
  {
   "cell_type": "markdown",
   "id": "7e9baf54",
   "metadata": {},
   "source": [
    "- 2019 카카오 신입 공채\n",
    "- [링크 참고](https://programmers.co.kr/learn/courses/30/lessons/42891)"
   ]
  },
  {
   "cell_type": "code",
   "execution_count": 2,
   "id": "7fb0bc9c",
   "metadata": {},
   "outputs": [
    {
     "data": {
      "text/plain": [
       "1"
      ]
     },
     "execution_count": 2,
     "metadata": {},
     "output_type": "execute_result"
    }
   ],
   "source": [
    "# 우선순위 큐를 이용하여 문제를 풀자\n",
    "import heapq\n",
    "\n",
    "def solution(food_times, k):\n",
    "    # 전체 음식 먹는 시간이 k보다 작거나 같다면\n",
    "    # 먹을 음식이 남아있지 않다\n",
    "    if sum(food_times) <= k:\n",
    "        return -1\n",
    "\n",
    "    # 시간이 작은 음식부터 빼야하므로 우선순위 큐 사용\n",
    "    q = []\n",
    "    for i in range(len(food_times)):\n",
    "        \n",
    "        # (음식 시간, 음식 번호) 순으로 삽입 (시간이 기준)\n",
    "        heapq.heappush(q, (food_times[i], i+1))\n",
    "        \n",
    "    # 먹기 위해 사용한 시간\n",
    "    sum_value = 0\n",
    "    \n",
    "    # 직전에 다 먹은 음식\n",
    "    previous_time = 0\n",
    "    \n",
    "    # 남은 음식의 개수\n",
    "    length = len(food_times)\n",
    "\n",
    "    while sum_value + ((q[0][0] - previous_time) * length) <= k:\n",
    "        now = heapq.heappop(q)[0] \n",
    "        sum_value += (now - previous_time) * length\n",
    "        \n",
    "        # 다 먹은 음식 제외\n",
    "        length -= 1\n",
    "        \n",
    "        previous_time = now\n",
    "        \n",
    "    # 음식 번호 기준으로 재정렬\n",
    "    result = sorted(q, key=lambda x: x[1])\n",
    "    \n",
    "    return result[(k - sum_value) % length][1]\n",
    "    \n",
    "solution([3,1,2], 5)    "
   ]
  }
 ],
 "metadata": {
  "kernelspec": {
   "display_name": "Python3_7",
   "language": "python",
   "name": "3_7"
  },
  "language_info": {
   "codemirror_mode": {
    "name": "ipython",
    "version": 3
   },
   "file_extension": ".py",
   "mimetype": "text/x-python",
   "name": "python",
   "nbconvert_exporter": "python",
   "pygments_lexer": "ipython3",
   "version": "3.7.11"
  }
 },
 "nbformat": 4,
 "nbformat_minor": 5
}
