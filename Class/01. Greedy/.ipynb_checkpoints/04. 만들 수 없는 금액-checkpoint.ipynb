{
 "cells": [
  {
   "cell_type": "markdown",
   "id": "f6865974",
   "metadata": {},
   "source": [
    "- N개의 동전을 이용하여 만들 수 없는 양의 정수 금액 중 최솟값을 구하는 프로그램을 작성하시오."
   ]
  },
  {
   "cell_type": "code",
   "execution_count": 11,
   "id": "17597663",
   "metadata": {},
   "outputs": [
    {
     "name": "stdout",
     "output_type": "stream",
     "text": [
      "5\n",
      "3 2 1 1 9\n",
      "8\n"
     ]
    }
   ],
   "source": [
    "# 다시 풀어보자\n",
    "N = int(input())\n",
    "coin = list(map(int, input().split()))\n",
    "coin.sort()\n",
    "\n",
    "# 만들고자 하는 양의 정수\n",
    "# 1로 준 이유 : 가장 작은 양의 정수 => 못 만들면 바로 1이 정답\n",
    "target = 1\n",
    "\n",
    "# 정렬을 했으므로 가장 작은 숫자부터 반복\n",
    "for x in coin:\n",
    "    # 만들 수 없는 금액을 찾았을 때 반복 종료\n",
    "    if target < x:\n",
    "        break\n",
    "        \n",
    "    # target에 요소값을 더해주면서 만들어지는가 비교 가능\n",
    "    target += x\n",
    "\n",
    "print(target)"
   ]
  }
 ],
 "metadata": {
  "kernelspec": {
   "display_name": "Python3_7",
   "language": "python",
   "name": "3_7"
  },
  "language_info": {
   "codemirror_mode": {
    "name": "ipython",
    "version": 3
   },
   "file_extension": ".py",
   "mimetype": "text/x-python",
   "name": "python",
   "nbconvert_exporter": "python",
   "pygments_lexer": "ipython3",
   "version": "3.7.11"
  }
 },
 "nbformat": 4,
 "nbformat_minor": 5
}
