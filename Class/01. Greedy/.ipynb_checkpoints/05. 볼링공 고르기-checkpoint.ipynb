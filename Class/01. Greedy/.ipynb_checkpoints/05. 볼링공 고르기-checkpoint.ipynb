{
 "cells": [
  {
   "cell_type": "markdown",
   "id": "89543336",
   "metadata": {},
   "source": [
    "- 2019 SW 마에스트로 기출\n",
    "- N개의 볼링공이 있을 때, 두 사람이 서로 다른 무게의 볼링공을 고르는 경우의 수를 구하시오.\n",
    "- 볼링공의 무게는 1부터 M까지 자연수 형태로 존재\n",
    "- 무게가 같은 공이어도 서로 다른 공으로 간주\n",
    "- 공은 앞에서부터 1부터 N까지 차례대로 부여"
   ]
  },
  {
   "cell_type": "code",
   "execution_count": 15,
   "id": "21194b74",
   "metadata": {},
   "outputs": [
    {
     "name": "stdout",
     "output_type": "stream",
     "text": [
      "8 5\n",
      "1 5 4 3 2 4 5 2\n",
      "25\n"
     ]
    }
   ],
   "source": [
    "N, M = map(int, input().split())\n",
    "K = list(map(int, input().split()))\n",
    "\n",
    "# 경우의 수\n",
    "cnt = 0\n",
    "\n",
    "for i in range(N):\n",
    "    for j in range(i+1, N):\n",
    "        if K[i] == K[j]:\n",
    "            continue\n",
    "        else:\n",
    "            cnt += 1\n",
    "\n",
    "print(cnt)"
   ]
  }
 ],
 "metadata": {
  "kernelspec": {
   "display_name": "Python3_7",
   "language": "python",
   "name": "3_7"
  },
  "language_info": {
   "codemirror_mode": {
    "name": "ipython",
    "version": 3
   },
   "file_extension": ".py",
   "mimetype": "text/x-python",
   "name": "python",
   "nbconvert_exporter": "python",
   "pygments_lexer": "ipython3",
   "version": "3.7.11"
  }
 },
 "nbformat": 4,
 "nbformat_minor": 5
}
