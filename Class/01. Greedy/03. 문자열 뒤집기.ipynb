{
 "cells": [
  {
   "cell_type": "markdown",
   "id": "f62c7719",
   "metadata": {},
   "source": [
    "- 0, 1로만 이루어진 문자열 S가 주어질 때, S에 있는 모든 숫자를 같게 만들려고 한다.\n",
    "- S에서 연속된 하나 이상의 숫자를 잡고 모두 뒤집는다. (뒤집다 : 0 => 1 or 1 => 0)\n",
    "- 뒤집는 최소 횟수를 출력하시오.\n",
    "- ex) S = 0001100 => 11을 뒤집으면 => 00000000 => 1회"
   ]
  },
  {
   "cell_type": "code",
   "execution_count": 52,
   "id": "ee8ab5f4",
   "metadata": {},
   "outputs": [
    {
     "name": "stdout",
     "output_type": "stream",
     "text": [
      "00000\n",
      "0\n"
     ]
    }
   ],
   "source": [
    "S = input()\n",
    "\n",
    "c0 = 0\n",
    "c1 = 0\n",
    "\n",
    "# 숫자 값이 변할 때 마다 횟수를 1씩 증가\n",
    "# 마지막에 끝나는 숫자도 횟수 1 증가\n",
    "#   => 값이 변한 후 그 값으로 마지막 값까지 연속된 수였다면 \n",
    "#   => 뒤집어야하는 횟수로 간주\n",
    "# 그 중 작은 값 출력\n",
    "for i in range(len(S)-1):\n",
    "    if int(S[i]) == 0: \n",
    "        if S[i] != S[i+1]:\n",
    "            c0 += 1\n",
    "    else:\n",
    "        if S[i] != S[i+1]:\n",
    "            c1 += 1\n",
    "    \n",
    "    if int(S[len(S)-1]) == 0:\n",
    "        c0 += 1\n",
    "    else:\n",
    "        c1 += 1\n",
    "            \n",
    "print(min(c0, c1))"
   ]
  }
 ],
 "metadata": {
  "kernelspec": {
   "display_name": "Python3_7",
   "language": "python",
   "name": "3_7"
  },
  "language_info": {
   "codemirror_mode": {
    "name": "ipython",
    "version": 3
   },
   "file_extension": ".py",
   "mimetype": "text/x-python",
   "name": "python",
   "nbconvert_exporter": "python",
   "pygments_lexer": "ipython3",
   "version": "3.7.11"
  }
 },
 "nbformat": 4,
 "nbformat_minor": 5
}
