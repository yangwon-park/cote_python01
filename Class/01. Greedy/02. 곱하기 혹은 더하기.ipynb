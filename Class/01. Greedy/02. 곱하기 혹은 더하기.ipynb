{
 "cells": [
  {
   "cell_type": "markdown",
   "id": "137931d3",
   "metadata": {},
   "source": [
    "- 0 ~ 9로만 이루어진 문자열 S가 주어졌을 때, 왼쪽부터 오른쪽으로 하나씩 모든 숫자를 확인하여 'X' 혹은 '+' 연산으로 최댓값을 구하는 프로그램을 작성하시오. (단, 연산 순서는 무조건 왼쪽에서부터 이루어짐)"
   ]
  },
  {
   "cell_type": "code",
   "execution_count": 24,
   "id": "20c080d4",
   "metadata": {},
   "outputs": [
    {
     "name": "stdout",
     "output_type": "stream",
     "text": [
      "29084\n",
      "576\n"
     ]
    }
   ],
   "source": [
    "# 0일 때는 + 나머지는 x 하면 최댓값\n",
    "\n",
    "S = input()\n",
    "S = int(S)\n",
    "tot = 1\n",
    "\n",
    "while True:\n",
    "    k = S % 10\n",
    "    S = S // 10\n",
    "    if k != 0:\n",
    "        tot *= k\n",
    "    else:\n",
    "        tot += k\n",
    "    \n",
    "    if S == 0:\n",
    "        break\n",
    "        \n",
    "print(tot)"
   ]
  }
 ],
 "metadata": {
  "kernelspec": {
   "display_name": "Python3_7",
   "language": "python",
   "name": "3_7"
  },
  "language_info": {
   "codemirror_mode": {
    "name": "ipython",
    "version": 3
   },
   "file_extension": ".py",
   "mimetype": "text/x-python",
   "name": "python",
   "nbconvert_exporter": "python",
   "pygments_lexer": "ipython3",
   "version": "3.7.11"
  }
 },
 "nbformat": 4,
 "nbformat_minor": 5
}
