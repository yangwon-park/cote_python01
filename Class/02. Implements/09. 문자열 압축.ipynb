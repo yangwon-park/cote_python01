{
 "cells": [
  {
   "cell_type": "markdown",
   "id": "0b0edfa0",
   "metadata": {},
   "source": [
    "- [문제 출처](https://programmers.co.kr/learn/courses/30/lessons/60057)\n",
    "- 문자열에서 같은 값이 연속해서 나타나는 경우, 그 문자의 개수와 반복되는 값으로 표현하여 더 짧은 문자열을 만들자\n",
    "- 문자열은 제일 앞부터 정해진 길이만큼 잘라야한다\n",
    "- 이 때, 1개 이상의 단위로 줄여 가장 문자열이 압축되는 경우의 길이를 구하시오\n",
    "- ex) aabbaccc => 2a2ba3c\n",
    "- ex) ababcdcdababcdcd => 2ab2cd2ab2cd"
   ]
  },
  {
   "cell_type": "code",
   "execution_count": 11,
   "id": "a312d66c",
   "metadata": {},
   "outputs": [
    {
     "data": {
      "text/plain": [
       "7"
      ]
     },
     "execution_count": 11,
     "metadata": {},
     "output_type": "execute_result"
    }
   ],
   "source": [
    "def solution2(s):\n",
    "    answer = len(s)\n",
    "    \n",
    "    for i in range(1, answer//2 + 1):\n",
    "        result = ''\n",
    "        \n",
    "        #압축할 문자열\n",
    "        term = s[0:i]\n",
    "        \n",
    "        # 처음 자신을 포함해야 하니까 \n",
    "        # 개수는 1부터 시작\n",
    "        cnt = 1\n",
    "        \n",
    "        for j in range(i, answer, i):\n",
    "            if term == s[j : j + i]:\n",
    "                cnt += 1\n",
    "                \n",
    "            # 다른 문자열이 나왔다면 => 더 이상 압축하지 못함\n",
    "            else:\n",
    "                # cnt가 1이라면 term으로 주어진 문자열 자체를 의미하므로\n",
    "                # term을 그대로 더함\n",
    "                result += str(cnt) + term if cnt >= 2 else term\n",
    "                \n",
    "                # 비교할 문자를 다음 애로 바꿈\n",
    "                term = s[j : j + i]\n",
    "                \n",
    "                # 압축 문자열 비교가 끝났으므로\n",
    "                # 다음 비교를 위해 개수를 1로 초기화\n",
    "                cnt = 1\n",
    "            \n",
    "        # else문에 잡히지 않는 경우도 발생 => 남아있는 문자열\n",
    "        result += str(cnt) + term if cnt >= 2 else term\n",
    "        \n",
    "        # answer 변수에 압축한 결과인 문자열의 길이와 answer에 있던 값 중 작은 값 선택\n",
    "        # 최초 answer의 값 : 원본 문자열의 길이 => 하나도 압축 안 됐을 때의 길이\n",
    "        answer = min(answer, len(result))\n",
    "                \n",
    "    return answer\n",
    "\n",
    "solution2('aabbaccc')"
   ]
  },
  {
   "cell_type": "code",
   "execution_count": 4,
   "id": "d505ecda",
   "metadata": {},
   "outputs": [
    {
     "data": {
      "text/plain": [
       "3"
      ]
     },
     "execution_count": 4,
     "metadata": {},
     "output_type": "execute_result"
    }
   ],
   "source": [
    "def solution(s):\n",
    "    answer = len(s)\n",
    "    \n",
    "    # 1개 단위(step) 압축 단위를 늘려가며 확인\n",
    "    for step in range(1, len(s)//2 +1):\n",
    "        compressed= ''\n",
    "        \n",
    "        # 앞에서부터 step까지의 문자열 추출 => 자를 문자열\n",
    "        prev = s[0:step]\n",
    "        count = 1\n",
    "        \n",
    "        # 단위 크기만큼 증가시키며 이전 문자열과 비교\n",
    "        for j in range(step, len(s), step):\n",
    "            \n",
    "            # 이전 상태와 동일하다면 압축 횟수 증가\n",
    "            if prev == s[j:j+step]:\n",
    "                count += 1\n",
    "            else:\n",
    "                compressed += str(count) + prev if count >= 2 else prev\n",
    "                prev = s[j:j+step] # 상태 초기화\n",
    "                count = 1\n",
    "                \n",
    "        compressed += str(count) + prev if count >= 2 else prev\n",
    "\n",
    "        # 만들어지는 압축 문자열이 가장 짧은 것이 정답\n",
    "        # 만들어지지 않을 경우 원본 문자열 길이가 정답\n",
    "        answer = min(answer, len(compressed))\n",
    "        \n",
    "    return answer\n",
    "\n",
    "solution('abababab')\n",
    "        \n",
    "        \n",
    "        \n",
    "    "
   ]
  }
 ],
 "metadata": {
  "kernelspec": {
   "display_name": "Python3_7",
   "language": "python",
   "name": "3_7"
  },
  "language_info": {
   "codemirror_mode": {
    "name": "ipython",
    "version": 3
   },
   "file_extension": ".py",
   "mimetype": "text/x-python",
   "name": "python",
   "nbconvert_exporter": "python",
   "pygments_lexer": "ipython3",
   "version": "3.7.11"
  }
 },
 "nbformat": 4,
 "nbformat_minor": 5
}
