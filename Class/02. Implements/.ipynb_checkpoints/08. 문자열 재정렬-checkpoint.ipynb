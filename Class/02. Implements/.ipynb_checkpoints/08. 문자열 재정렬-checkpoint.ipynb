{
 "cells": [
  {
   "cell_type": "markdown",
   "id": "cbd305c8",
   "metadata": {},
   "source": [
    "- 알파벳 대문자와 숫자 (0~9)로만 구성된 문자열이 입력\n",
    "- 모든 알바펫을 오름차순으로 정렬하여 출력한 뒤, 그 뒤에 모든 숫자를  더한 값을 이어서 출력"
   ]
  },
  {
   "cell_type": "code",
   "execution_count": 27,
   "id": "cf41dab1",
   "metadata": {},
   "outputs": [
    {
     "name": "stdout",
     "output_type": "stream",
     "text": [
      "AJKDLSI412K4JSJ9D\n",
      "ADDIJJJKKLSS20"
     ]
    }
   ],
   "source": [
    "import copy\n",
    "from collections import deque\n",
    "\n",
    "S = input()\n",
    "# 정렬하면 앞에 정수형 문자들이 나와서 편하게 쓰기 위해 덱 사용\n",
    "S = deque(sorted(S))\n",
    "\n",
    "num = []\n",
    "\n",
    "# copy해서 사용하지 않으면, 덱 자체의 크기가 줄어서 'deque mutated during iteration' 에러가 발생\n",
    "for s in copy.deepcopy(S):\n",
    "    \n",
    "    # 정수형 문자인 경우에만 popleft()\n",
    "    if s.isdigit():\n",
    "        num.append(S.popleft())\n",
    "        \n",
    "num = [int(x) for x in num]\n",
    "sum_ = sum(num)\n",
    "\n",
    "# 뒤에 붙여줌\n",
    "S.append(str(sum_))\n",
    "\n",
    "for s in S:\n",
    "    print(s, end='')        "
   ]
  }
 ],
 "metadata": {
  "kernelspec": {
   "display_name": "Python3_7",
   "language": "python",
   "name": "3_7"
  },
  "language_info": {
   "codemirror_mode": {
    "name": "ipython",
    "version": 3
   },
   "file_extension": ".py",
   "mimetype": "text/x-python",
   "name": "python",
   "nbconvert_exporter": "python",
   "pygments_lexer": "ipython3",
   "version": "3.7.11"
  }
 },
 "nbformat": 4,
 "nbformat_minor": 5
}
