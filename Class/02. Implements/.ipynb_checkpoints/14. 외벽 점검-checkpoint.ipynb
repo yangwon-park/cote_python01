{
 "cells": [
  {
   "cell_type": "markdown",
   "id": "a0f04c41",
   "metadata": {},
   "source": [
    "- [문제 출처](https://programmers.co.kr/learn/courses/30/lessons/60062)\n",
    "- 레스토랑을 리모델링하자 (주기적으로 외벽 상태를 점검해야 한다)\n",
    "- 레스토랑의 구조\n",
    "    - 완전 원형\n",
    "        - **원형으로 나열된 문제의 경우 길이를 2배로 늘려서 원형을 일자 형태로 만드는 작업을 해주면 편하다**\n",
    "    - 외벽의 총 둘레 : n미터\n",
    "    - 취약 지점을 주기적으로 점검\n",
    "    - 편의상 레스토랑의 정북 방향을 0으로 표현\n",
    "    - 취약 지점의 위치는 정북에서부터 시계 방향으로 떨어진 거리로 나타냄\n",
    "    - 친구들은 시계 혹은 반시계로 외벽을 따라서만 이동\n",
    "- 점검 시간 : 1시간\n",
    "- 최소한의 친구들을 투입해 점검하고 나머지 친구들은 내부 공사를 도움\n",
    "- 문제 조건\n",
    "    - 외벽의 길이 n\n",
    "    - 취약 지점의 위치가 담긴 배열 weak (1 ~ 15) (오름차순 정렬)\n",
    "    - 각 친구들이 1시간 동안 이동할 수 있는 거리 dist (1 ~ 8)\n",
    "        - weak, dist의 값이 매우 작다 => 완전 탐색해도 괜찮다 => 모든 친구를 무작위로 나열하는 순열의 개수로 처리 가능\n",
    "    - 친구들을 모두 투입해도 취약 지점을 전부 점검할 수 없는 경우 -1 return    "
   ]
  },
  {
   "cell_type": "code",
   "execution_count": 5,
   "id": "c581302a",
   "metadata": {},
   "outputs": [],
   "source": [
    "from itertools import permutations\n",
    "\n",
    "def solution(n, weak, dist):\n",
    "    # 길이를 2배로 늘려서 원형을 일자 형태로 변환\n",
    "    length = len(weak)\n",
    "    \n",
    "    for i in range(length):\n",
    "        weak.append(weak[i] + n) # 길이 만큼 각 요소에 더해주면 일자 형태로 데이터가 변환되는 효과를 볼 수 있음\n",
    "        \n",
    "    # 투입할 친구의 최솟값을 찾아야함 => len(dist)가 투입 친구의 최댓값 => +1 해주면 최솟값 찾을 때 항상 그 값보다 크게 됨\n",
    "    answer = len(dist) + 1\n",
    "    \n",
    "    # 0부터 length-1까지 위치를 각각 시작점으로 설정\n",
    "    for start in range(length):\n",
    "        \n",
    "        # 친구를 나열하는 모든 경우의 수 각각에 대하여 확인\n",
    "        for friends in list(permutations(dist, len(dist))):\n",
    "            count = 1 # 투입할 친구의 수\n",
    "            \n",
    "            # 해당 친구가 점검할 수 있는 마지막 위치\n",
    "            position = weak[start] + friends[count - 1]\n",
    "            \n",
    "            # 시작점부터 모든 취약 지점을 확인\n",
    "            for index in range(start, start + length):\n",
    "                \n",
    "                # 점검할 수 있는 위치를 벗어난 경우\n",
    "                if position < weak[index]:\n",
    "                    count += 1 # 새 친구 투입\n",
    "                    \n",
    "                    # 모두 투입한 경우\n",
    "                    if count > len(dist):\n",
    "                        break\n",
    "                        \n",
    "                    position = weak[index] + friends[count - 1]\n",
    "            answer = min(answer, count) #최소 친구 투입 수 계산\n",
    "            \n",
    "    # 친구 수보다 더 많은 인원이 필요하면\n",
    "    if answer > len(dist):\n",
    "        return -1\n",
    "    \n",
    "    return answer"
   ]
  },
  {
   "cell_type": "code",
   "execution_count": 7,
   "id": "bb9d4034",
   "metadata": {},
   "outputs": [
    {
     "data": {
      "text/plain": [
       "1"
      ]
     },
     "execution_count": 7,
     "metadata": {},
     "output_type": "execute_result"
    }
   ],
   "source": [
    "solution(12, [1,3,4,9,10], [3,5,7])"
   ]
  },
  {
   "cell_type": "code",
   "execution_count": null,
   "id": "7c54e129",
   "metadata": {},
   "outputs": [],
   "source": []
  }
 ],
 "metadata": {
  "kernelspec": {
   "display_name": "Python3_7",
   "language": "python",
   "name": "3_7"
  },
  "language_info": {
   "codemirror_mode": {
    "name": "ipython",
    "version": 3
   },
   "file_extension": ".py",
   "mimetype": "text/x-python",
   "name": "python",
   "nbconvert_exporter": "python",
   "pygments_lexer": "ipython3",
   "version": "3.7.11"
  }
 },
 "nbformat": 4,
 "nbformat_minor": 5
}
