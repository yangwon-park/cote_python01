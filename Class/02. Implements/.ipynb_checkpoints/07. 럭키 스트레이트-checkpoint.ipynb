{
 "cells": [
  {
   "cell_type": "markdown",
   "id": "f5ef4067",
   "metadata": {},
   "source": [
    "- 현재 캐릭터의 점수가 N이라고 할 때, 자릿수를 기준으로 점수 N을 반으로 나누어\n",
    "- 왼쪽 부분의 각 자릿수의 합과 오른쪽 부분의 각 자릿수의 합을 더한 값이 동일한 경우\n",
    "- 럭키 스트레이트 사용 가능\n",
    "- 럭키 스트레이트를 사용할 수 있는지 알려주는 프로그램을 작성하시오.\n",
    "- (N은 항상 짝수)"
   ]
  },
  {
   "cell_type": "code",
   "execution_count": 23,
   "id": "721b5d43",
   "metadata": {},
   "outputs": [
    {
     "name": "stdout",
     "output_type": "stream",
     "text": [
      "123402\n",
      "LUCKY\n"
     ]
    }
   ],
   "source": [
    "N = int(input())\n",
    "N = str(N)\n",
    "\n",
    "# 앞 뒤로 자름\n",
    "front = N[:len(N)//2]\n",
    "rear = N[len(N)//2:]\n",
    "\n",
    "# 문자열을 정수형 리스트로 변환\n",
    "front = [int(x) for x in front]\n",
    "rear = [int(x) for x in rear]\n",
    "\n",
    "if sum(front) == sum(rear):\n",
    "    print('LUCKY')\n",
    "else:\n",
    "    print('READY')"
   ]
  }
 ],
 "metadata": {
  "kernelspec": {
   "display_name": "Python3_7",
   "language": "python",
   "name": "3_7"
  },
  "language_info": {
   "codemirror_mode": {
    "name": "ipython",
    "version": 3
   },
   "file_extension": ".py",
   "mimetype": "text/x-python",
   "name": "python",
   "nbconvert_exporter": "python",
   "pygments_lexer": "ipython3",
   "version": "3.7.11"
  }
 },
 "nbformat": 4,
 "nbformat_minor": 5
}
