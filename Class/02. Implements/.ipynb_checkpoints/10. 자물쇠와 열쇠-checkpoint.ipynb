{
 "cells": [
  {
   "cell_type": "markdown",
   "id": "dacd933a",
   "metadata": {},
   "source": [
    "- [문제 출처](https://programmers.co.kr/learn/courses/30/lessons/60059)\n",
    "- 홈 부분에 맞게 열쇠를 맞춰서 열 수 있으면 True, 없으면 False 출력"
   ]
  },
  {
   "cell_type": "code",
   "execution_count": 43,
   "id": "1fdf4380",
   "metadata": {},
   "outputs": [
    {
     "data": {
      "text/plain": [
       "True"
      ]
     },
     "execution_count": 43,
     "metadata": {},
     "output_type": "execute_result"
    }
   ],
   "source": [
    "key = [[0,0,0],[1,0,0],[0,1,1]]\n",
    "lock = [[1,1,1],[1,1,0],[1,0,1]]\n",
    "\n",
    "# 2차원 리스트 90도 회전\n",
    "def rotate_a_matrix_by_90_degree(matrix):\n",
    "    n = len(matrix)    # 행 길이 계산\n",
    "    m = len(matrix[0]) # 열 길이 계산\n",
    "    result = [[0] * n for _ in range(m)] # 결과 리스트\n",
    "    \n",
    "    for i in range(n):\n",
    "        for j in range(m):\n",
    "            result[j][n - i - 1] = matrix[i][j]\n",
    "    return result\n",
    "\n",
    "# 자물쇠의 중간 부분이 모두 1인지 확인\n",
    "def check(new_lock):\n",
    "    # new_lock이 기존 자물쇠 길이의 3배이니까\n",
    "    # 기존 자물쇠 길이를 구하기 위해 //3 해줌\n",
    "    lock_length = len(new_lock) // 3\n",
    "    \n",
    "    # 범위를 *2로 준 이유\n",
    "    # 범위 => 반복 횟수 => 자물쇠의 길이 => lock_length => lock_length * 2 - lock_length\n",
    "    for i in range(lock_length, lock_length * 2):\n",
    "        for j in range(lock_length, lock_length * 2):\n",
    "            \n",
    "            # 1이 하나라도 아니면 바로 False 리턴\n",
    "            if new_lock[i][j] != 1:\n",
    "                return False\n",
    "    return True\n",
    "\n",
    "def solution(key, lock):\n",
    "    n = len(lock)\n",
    "    m = len(key)\n",
    "    \n",
    "    # 자물쇠의 크기를 기존의 3배로 변환\n",
    "    # 3배가 되면 상하좌우에 넉넉하게 자물쇠 크기가 생김\n",
    "    #    => 열쇠 크기를 한칸씩 밀어보면서 여유롭게 비교 가능\n",
    "    new_lock = [[0] * (n * 3) for _ in range(n * 3)]\n",
    "    \n",
    "    # 중앙 부분에 기존의 자물쇠 넣기\n",
    "    # 센터에는 기존의 자물쇠가 들어가야 의미가 있음\n",
    "    for i in range(n):\n",
    "        for j in range(n):\n",
    "            new_lock[i+n][j+n] = lock[i][j]\n",
    "            \n",
    "    # 90도씩 회전시키면서 4가지 방향으로 다 확인해봄\n",
    "    for _ in range(4):\n",
    "        # 열쇠 회전\n",
    "        key = rotate_a_matrix_by_90_degree(key) # 열쇠 90도 회전\n",
    "        \n",
    "        for x in range(n * 2):\n",
    "            for y in range(n * 2):\n",
    "                \n",
    "                # 자물쇠에 열쇠를 끼어넣기\n",
    "                for i in range(m):\n",
    "                    for j in range(m):\n",
    "                        new_lock[x+i][y+j] += key[i][j]\n",
    "                        \n",
    "                # 새로운 자물쇠에 열쇠가 정확히 들어맞는지 검사\n",
    "                if check(new_lock) == True:\n",
    "                    return True\n",
    "                \n",
    "                # 들어맞지 않으면\n",
    "                # 자물쇠에서 열쇠 다시 빼기\n",
    "                for i in range(m):\n",
    "                    for j in range(m):\n",
    "                        new_lock[x+i][y+j] -= key[i][j]\n",
    "                \n",
    "       \n",
    "    \n",
    "    return False\n",
    "\n",
    "solution(key, lock)"
   ]
  }
 ],
 "metadata": {
  "kernelspec": {
   "display_name": "Python3_7",
   "language": "python",
   "name": "3_7"
  },
  "language_info": {
   "codemirror_mode": {
    "name": "ipython",
    "version": 3
   },
   "file_extension": ".py",
   "mimetype": "text/x-python",
   "name": "python",
   "nbconvert_exporter": "python",
   "pygments_lexer": "ipython3",
   "version": "3.7.11"
  }
 },
 "nbformat": 4,
 "nbformat_minor": 5
}
