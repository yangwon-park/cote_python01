{
 "cells": [
  {
   "cell_type": "markdown",
   "id": "49cceda9",
   "metadata": {},
   "source": [
    "- [문제 출처](https://programmers.co.kr/learn/courses/30/lessons/60061)\n",
    "- 기둥과 보를 이용하여 벽면 구조물을 자동으로 세우는 로봇을 개발하자\n",
    "- 규칙\n",
    "    - 기둥은 바닥 위에 있거나 보의 한 쪽 끝부분 위에 있거나, 또는 다른 기둥 위에 있어야 함\n",
    "    - 보는 한쪽 끝부분이 기둥 위에 있거나, 또는 양쪽 끝부분이 다른 보와 동시에 연결되어 있어야 함\n",
    "- 바닥 : 벽면의 맨 아래 지면\n",
    "- 벽면은 n x n 크기 정사각 격자 형태이며, 각 격자의 크기는 1 x 1\n",
    "- 맨 처음 벽면은 비어있는 상태\n",
    "- 시간 제한 : 5초 => 매우 넉넉하면 => O(M**3) 이어도 가능"
   ]
  },
  {
   "cell_type": "code",
   "execution_count": 5,
   "id": "2d3e1fbd",
   "metadata": {},
   "outputs": [],
   "source": [
    "n = 5\n",
    "build_frame = [[1,0,0,1], [1,1,1,1], [2,1,0,1], [2,2,1,1], [5,0,0,1], [5,1,0,1], [4,2,1,1], [3,2,1,1]]\n",
    "\n",
    "# 현재 설치된 구조물이 '가능한' 구조물인지 확인하는 함수\n",
    "def possible(answer):\n",
    "    for x, y, stuff in answer:\n",
    "        \n",
    "        # 설치된 것이 ' 기둥'인 경우\n",
    "        if stuff == 0:\n",
    "            \n",
    "            # '바닥 위' 혹은 '보의 한 쪽 끝부분 위' 혹은 '다른 기둥 위'라면 정상\n",
    "            # [x-1, y, 1] in answer => 이 위치에 보가 있느냐를 확인\n",
    "            if y == 0 or [x-1, y, 1] in answer or [x, y, 1] in answer or [x, y - 1, 0] in answer:\n",
    "                continue\n",
    "            return False\n",
    "        \n",
    "        # 설치된 것이 '보'인 경우\n",
    "        elif stuff == 1:\n",
    "            \n",
    "            # '한 쪽 끝부분이 기둥 위' 혹은 '양쪽 끝부분이 다른 보와 동시에 연결'이라면 정상\n",
    "            if [x, y -1, 0] in answer or [x + 1, y - 1, 0] in answer or ([x-1, y, 1] in answer and [x+1, y, 1] in answer):\n",
    "                continue\n",
    "            return False\n",
    "    return True\n",
    "\n",
    "def solution(n, build_frame):\n",
    "    answer = []\n",
    "    \n",
    "    for frame in build_frame: # 작업 개수는 최대 1000개\n",
    "        x, y, stuff, operate = frame\n",
    "        \n",
    "        # 삭제하는 경우\n",
    "        if operate == 0:\n",
    "            answer.remove([x, y, stuff])     # 일단 삭제 시도\n",
    "            if not possible(answer):\n",
    "                answer.append(x, y, stuff)   # 가능한 구조물이 아니면 다시 설치\n",
    "        \n",
    "        # 설치하는 경우\n",
    "        if operate == 1:\n",
    "            answer.append([x, y, stuff])     # 일단 설치 시도\n",
    "            if not possible(answer):\n",
    "                answer.remove([x, y, sutff]) #가능한 구조물이 아니면 다시 제거\n",
    "            \n",
    "    return sorted(answer) # 정렬된 결과 반환 (문제 조건)"
   ]
  },
  {
   "cell_type": "code",
   "execution_count": 4,
   "id": "06b70541",
   "metadata": {},
   "outputs": [
    {
     "data": {
      "text/plain": [
       "[[1, 0, 0],\n",
       " [1, 1, 1],\n",
       " [2, 1, 0],\n",
       " [2, 2, 1],\n",
       " [3, 2, 1],\n",
       " [4, 2, 1],\n",
       " [5, 0, 0],\n",
       " [5, 1, 0]]"
      ]
     },
     "execution_count": 4,
     "metadata": {},
     "output_type": "execute_result"
    }
   ],
   "source": [
    "solution(n, build_frame)"
   ]
  },
  {
   "cell_type": "code",
   "execution_count": null,
   "id": "1f77c443",
   "metadata": {},
   "outputs": [],
   "source": []
  }
 ],
 "metadata": {
  "kernelspec": {
   "display_name": "Python3_7",
   "language": "python",
   "name": "3_7"
  },
  "language_info": {
   "codemirror_mode": {
    "name": "ipython",
    "version": 3
   },
   "file_extension": ".py",
   "mimetype": "text/x-python",
   "name": "python",
   "nbconvert_exporter": "python",
   "pygments_lexer": "ipython3",
   "version": "3.7.11"
  }
 },
 "nbformat": 4,
 "nbformat_minor": 5
}
