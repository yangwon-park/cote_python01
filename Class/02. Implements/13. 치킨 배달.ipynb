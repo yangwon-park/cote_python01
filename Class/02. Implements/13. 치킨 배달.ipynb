{
 "cells": [
  {
   "cell_type": "markdown",
   "id": "2018a732",
   "metadata": {},
   "source": [
    "- 크기가 N x N 도시 (1 x 1 크기의 칸으로 나눠져있음)\n",
    "- 각 칸은 '빈칸, 치킨집, 집' 중 하나\n",
    "- 도시의 칸은 (r, c)와 같은 형태\n",
    "    - r행 c열 (1,1)부터 시작\n",
    "- 치킨 거리 : 집과 가장 가까운 치킨집 사이의 거리\n",
    "    - |r1 - r2| + |c1 - c2|\n",
    "- 도시의 치킨 거리 : 모든 치킨 거리의 합\n",
    "- 좌표값\n",
    "    0 : 빈칸\n",
    "    1 : 집\n",
    "    2 : 치킨집\n",
    "- 최대 M개의 치킨집만 남겨놓고 다 폐업 => 도시의 치킨 거리가 가장 작게 될지 구하는 프로그램을 작성\n",
    "    - 모든 치킨집 개수에서 M개의 치킨집만 남기는 계산 => 조합"
   ]
  },
  {
   "cell_type": "code",
   "execution_count": 18,
   "id": "c913ac9a",
   "metadata": {},
   "outputs": [
    {
     "name": "stdout",
     "output_type": "stream",
     "text": [
      "5 3\n",
      "0 0 1 0 0\n",
      "0 0 2 0 1\n",
      "0 1 2 0 0\n",
      "0 0 1 0 0\n",
      "0 0 0 0 2\n"
     ]
    }
   ],
   "source": [
    "from itertools import combinations\n",
    "INF = int(1e9)\n",
    "\n",
    "N, M = map(int, input().split())\n",
    "\n",
    "chicken = []\n",
    "house = []\n",
    "\n",
    "for r in range(N):\n",
    "    city = list(map(int, input().split()))\n",
    "    \n",
    "    for c in range(N):\n",
    "        if city[c] == 1:\n",
    "            house.append((r,c))\n",
    "        elif city[c] == 2:\n",
    "            chicken.append((r, c))\n",
    "\n",
    "# 모든 치킨집 중에서 M개의 치킨집만 뽑는 조합\n",
    "candidates = list(combinations(chicken, M))\n",
    "\n",
    "# 치킨 거리의 합을 계산하는 함수\n",
    "def get_sum(candidate):\n",
    "    result = 0\n",
    "    \n",
    "    # 모든 집에 대하여\n",
    "    for hx, hy in house:\n",
    "        \n",
    "        # 가장 가까운 치킨집 찾기\n",
    "        temp  = INF\n",
    "        \n",
    "        for cx, cy in candidate:\n",
    "            temp = min(temp, abs(hx-cx) + abs(hy-cy))\n",
    "            \n",
    "        # 가장 가까운 치킨집 까지의 거리 누적\n",
    "        result += temp\n",
    "        \n",
    "    return result\n",
    "\n",
    "# 치킨 거리 합의 최소를 찾아 출력\n",
    "result = INF\n",
    "\n",
    "for candidate in candidates:\n",
    "    result = min(result, get_sum(candidate))\n",
    "    \n",
    "print(result)"
   ]
  },
  {
   "cell_type": "code",
   "execution_count": 19,
   "id": "5c97c3e2",
   "metadata": {},
   "outputs": [],
   "source": []
  },
  {
   "cell_type": "code",
   "execution_count": 20,
   "id": "380f7bcb",
   "metadata": {},
   "outputs": [
    {
     "data": {
      "text/plain": [
       "[((1, 2), (2, 2), (4, 4))]"
      ]
     },
     "execution_count": 20,
     "metadata": {},
     "output_type": "execute_result"
    }
   ],
   "source": [
    "candidates"
   ]
  },
  {
   "cell_type": "code",
   "execution_count": 24,
   "id": "36fbe0a4",
   "metadata": {},
   "outputs": [
    {
     "name": "stdout",
     "output_type": "stream",
     "text": [
      "5\n"
     ]
    }
   ],
   "source": []
  },
  {
   "cell_type": "code",
   "execution_count": null,
   "id": "f325c8ee",
   "metadata": {},
   "outputs": [],
   "source": []
  }
 ],
 "metadata": {
  "kernelspec": {
   "display_name": "Python3_7",
   "language": "python",
   "name": "3_7"
  },
  "language_info": {
   "codemirror_mode": {
    "name": "ipython",
    "version": 3
   },
   "file_extension": ".py",
   "mimetype": "text/x-python",
   "name": "python",
   "nbconvert_exporter": "python",
   "pygments_lexer": "ipython3",
   "version": "3.7.11"
  }
 },
 "nbformat": 4,
 "nbformat_minor": 5
}
