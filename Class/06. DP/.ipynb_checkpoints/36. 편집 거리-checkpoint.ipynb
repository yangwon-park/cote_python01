{
 "cells": [
  {
   "cell_type": "code",
   "execution_count": 2,
   "id": "7f91adf1",
   "metadata": {},
   "outputs": [
    {
     "name": "stdout",
     "output_type": "stream",
     "text": [
      "cat\n",
      "cut\n",
      "1\n"
     ]
    }
   ],
   "source": [
    "word1 = input()\n",
    "word2 = input()\n",
    "\n",
    "def edit_dist(word1, word2):\n",
    "    n = len(word1)\n",
    "    m = len(word2)\n",
    "    \n",
    "    dp = [[0] * (m+1) for _ in range(n+1)]\n",
    "    \n",
    "    for i in range(n+1):\n",
    "        dp[i][0] = i\n",
    "    for j in range(m+1):\n",
    "        dp[0][j] = j\n",
    "        \n",
    "    #최소 편집거리 계산\n",
    "    for i in range(1, n+1):\n",
    "        for j in range(1, m+1):\n",
    "            \n",
    "            if word1[i-1] == word2[j-1]:\n",
    "                dp[i][j] = dp[i-1][j-1]\n",
    "            # 비교 문자가 다르면 3가지 연산 중 최솟값을 찾아라\n",
    "            else:\n",
    "                dp[i][j] = 1 + min(dp[i][j-1], dp[i-1][j-1], dp[i-1][j])\n",
    "                \n",
    "    return dp[n][m]\n",
    "print(edit_dist(word1, word2))"
   ]
  }
 ],
 "metadata": {
  "kernelspec": {
   "display_name": "Python3_7",
   "language": "python",
   "name": "3_7"
  },
  "language_info": {
   "codemirror_mode": {
    "name": "ipython",
    "version": 3
   },
   "file_extension": ".py",
   "mimetype": "text/x-python",
   "name": "python",
   "nbconvert_exporter": "python",
   "pygments_lexer": "ipython3",
   "version": "3.7.11"
  }
 },
 "nbformat": 4,
 "nbformat_minor": 5
}
