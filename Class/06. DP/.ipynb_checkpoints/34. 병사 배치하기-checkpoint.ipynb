{
 "cells": [
  {
   "cell_type": "markdown",
   "id": "9d9aedb1",
   "metadata": {},
   "source": [
    "### 18353 병사 배치하기"
   ]
  },
  {
   "cell_type": "code",
   "execution_count": 1,
   "id": "58c3fc99",
   "metadata": {},
   "outputs": [
    {
     "name": "stdout",
     "output_type": "stream",
     "text": [
      "7\n",
      "15 11 4 8 5 2 4\n"
     ]
    }
   ],
   "source": [
    "n = int(input())\n",
    "arr = list(map(int, input().split()))"
   ]
  },
  {
   "cell_type": "code",
   "execution_count": 2,
   "id": "d82443d5",
   "metadata": {},
   "outputs": [],
   "source": [
    "# 가장 긴 증가하는 부분 수열 문제로 만들어버림\n",
    "arr.reverse()"
   ]
  },
  {
   "cell_type": "code",
   "execution_count": 4,
   "id": "1e8f2be4",
   "metadata": {},
   "outputs": [],
   "source": [
    "dp = [1] * n"
   ]
  },
  {
   "cell_type": "code",
   "execution_count": 5,
   "id": "13e4827d",
   "metadata": {},
   "outputs": [
    {
     "name": "stdout",
     "output_type": "stream",
     "text": [
      "2\n"
     ]
    }
   ],
   "source": [
    "for i in range(1, n):\n",
    "    for j in range(0, i):\n",
    "        if arr[j] < arr[i]:\n",
    "            dp[i] = max(dp[i], dp[j] + 1)\n",
    "\n",
    "# 열외시켜야 하는 병사의 최소 수            \n",
    "print(n - max(dp))"
   ]
  },
  {
   "cell_type": "code",
   "execution_count": 6,
   "id": "774463fb",
   "metadata": {},
   "outputs": [
    {
     "data": {
      "text/plain": [
       "[1, 1, 2, 3, 2, 4, 5]"
      ]
     },
     "execution_count": 6,
     "metadata": {},
     "output_type": "execute_result"
    }
   ],
   "source": [
    "dp"
   ]
  },
  {
   "cell_type": "code",
   "execution_count": null,
   "id": "e1f59ada",
   "metadata": {},
   "outputs": [],
   "source": []
  }
 ],
 "metadata": {
  "kernelspec": {
   "display_name": "Python3_7",
   "language": "python",
   "name": "3_7"
  },
  "language_info": {
   "codemirror_mode": {
    "name": "ipython",
    "version": 3
   },
   "file_extension": ".py",
   "mimetype": "text/x-python",
   "name": "python",
   "nbconvert_exporter": "python",
   "pygments_lexer": "ipython3",
   "version": "3.7.11"
  }
 },
 "nbformat": 4,
 "nbformat_minor": 5
}
