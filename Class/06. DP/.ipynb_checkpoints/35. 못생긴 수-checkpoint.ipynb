{
 "cells": [
  {
   "cell_type": "markdown",
   "id": "01c88f6a",
   "metadata": {},
   "source": [
    "못생긴 수 == 2, 3, 5를 약수로 가지는 합성수  \n",
    "1은 못생긴 수로 가정  \n",
    "n번째 못생긴 수 출력"
   ]
  },
  {
   "cell_type": "code",
   "execution_count": 1,
   "id": "c7c2eeb8",
   "metadata": {},
   "outputs": [
    {
     "name": "stdout",
     "output_type": "stream",
     "text": [
      "12\n",
      "16\n"
     ]
    }
   ],
   "source": [
    "n = int(input())\n",
    "dp = [0] * 1001\n",
    "dp[0] = 1\n",
    "\n",
    "# 기존 못생긴 수에 2, 3, 5를 곱한 값 역시 못생긴 수\n",
    "# 각 인덱스를 별도로 처리해야만 next2, next3, next4에 알맞게 2, 3, 5를 배치하여 곱해줄 수 있다\n",
    "i2, i3, i5, = 0, 0, 0\n",
    "\n",
    "next2, next3, next5 = 2, 3, 5\n",
    "\n",
    "for i in range(1, n):\n",
    "    dp[i] = min(next2, next3, next5)\n",
    "    \n",
    "    if dp[i] == next2:\n",
    "        i2 += 1\n",
    "        next2 = dp[i2] * 2\n",
    "        \n",
    "    if dp[i] == next3:\n",
    "        i3 += 1\n",
    "        next3 = dp[i3] * 3\n",
    "        \n",
    "    if dp[i] == next5:\n",
    "        i5 += 1\n",
    "        next5 = dp[i5] * 5\n",
    "        \n",
    "print(dp[n-1])"
   ]
  },
  {
   "cell_type": "code",
   "execution_count": 4,
   "id": "a68c958d",
   "metadata": {},
   "outputs": [
    {
     "name": "stdout",
     "output_type": "stream",
     "text": [
      "12\n"
     ]
    }
   ],
   "source": [
    "n = int(input())\n",
    "dp = [0] * (1001)\n",
    "dp[0] = 1\n",
    "\n",
    "i2, i3, i5 = 0, 0, 0\n",
    "n2, n3, n5 = 2, 3, 5\n",
    "\n",
    "for i in range(1, n):\n",
    "    dp[i] = min(n2, n3, n5)\n",
    "    \n",
    "    if dp[i] == n2:\n",
    "        i2 += 1\n",
    "        n2 = dp[i2] * 2\n",
    "    if dp[i] == n3: \n",
    "        i3 += 1\n",
    "        n3 = dp[i3] * 3\n",
    "    if dp[i] == n5:\n",
    "        i5 += 1\n",
    "        n5 = dp[i5] * 5\n",
    "        \n",
    "print(dp[n-1])        "
   ]
  }
 ],
 "metadata": {
  "kernelspec": {
   "display_name": "Python3_7",
   "language": "python",
   "name": "3_7"
  },
  "language_info": {
   "codemirror_mode": {
    "name": "ipython",
    "version": 3
   },
   "file_extension": ".py",
   "mimetype": "text/x-python",
   "name": "python",
   "nbconvert_exporter": "python",
   "pygments_lexer": "ipython3",
   "version": "3.7.11"
  }
 },
 "nbformat": 4,
 "nbformat_minor": 5
}
