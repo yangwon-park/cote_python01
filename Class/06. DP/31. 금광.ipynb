{
 "cells": [
  {
   "cell_type": "code",
   "execution_count": 11,
   "id": "fa9a1d2d",
   "metadata": {},
   "outputs": [],
   "source": [
    "lst = [1, 3, 1, 5, 2, 2, 4, 1, 5, 0, 2, 3, 0, 6, 1, 2]"
   ]
  },
  {
   "cell_type": "code",
   "execution_count": 12,
   "id": "2121b5ca",
   "metadata": {},
   "outputs": [],
   "source": [
    "d = []\n",
    "index = 0"
   ]
  },
  {
   "cell_type": "code",
   "execution_count": 13,
   "id": "7b07e881",
   "metadata": {},
   "outputs": [],
   "source": [
    "for i in range(4):\n",
    "    d.append(lst[index:index+4])\n",
    "    index += 4"
   ]
  },
  {
   "cell_type": "code",
   "execution_count": 14,
   "id": "d102b25d",
   "metadata": {},
   "outputs": [
    {
     "data": {
      "text/plain": [
       "[1, 3, 1, 5]"
      ]
     },
     "execution_count": 14,
     "metadata": {},
     "output_type": "execute_result"
    }
   ],
   "source": [
    "d[0]"
   ]
  },
  {
   "cell_type": "code",
   "execution_count": null,
   "id": "762254b6",
   "metadata": {},
   "outputs": [],
   "source": []
  },
  {
   "cell_type": "code",
   "execution_count": null,
   "id": "54a4680e",
   "metadata": {},
   "outputs": [],
   "source": []
  },
  {
   "cell_type": "code",
   "execution_count": 16,
   "id": "f368d4d6",
   "metadata": {},
   "outputs": [
    {
     "name": "stdout",
     "output_type": "stream",
     "text": [
      "1\n",
      "4 4\n",
      "1 3 1 5 2 2 4 1 5 0 2 3 0 6 1 2\n",
      "[[1, 3, 1, 5], [2, 2, 4, 1], [5, 0, 2, 3], [0, 6, 1, 2]]\n",
      "16\n"
     ]
    }
   ],
   "source": [
    "t = int(input())\n",
    "\n",
    "for _ in range(t):\n",
    "    n, m = map(int, input().split())\n",
    "    arr = list(map(int, input().split()))\n",
    "    \n",
    "    # dp 테이블\n",
    "    d = []\n",
    "    \n",
    "    index = 0\n",
    "    \n",
    "    # dp 테이블 초기화\n",
    "    for i in range(n):\n",
    "        d.append(arr[index:index+m])\n",
    "        index += m\n",
    "        \n",
    "    print(d)\n",
    "        \n",
    "    # dp 진행\n",
    "    for j in range(1, m):\n",
    "        for i in range(n):\n",
    "            \n",
    "            # 왼쪽 위에서 오는 경우\n",
    "            if i == 0:\n",
    "                # i가 0 => 맨 윗행 => 왼쪽 위는 없으므로 0이 된다.\n",
    "                left_up = 0\n",
    "            else:\n",
    "                left_up = d[i-1][j-1]\n",
    "            \n",
    "            # 왼쪽 아래에서 오는 경우\n",
    "            if i == n -1:\n",
    "                # i가 n-1 => 맨 아랫행 => 왼쪽 아래가 없으므로 0이 된다.\n",
    "                left_down = 0\n",
    "            else:\n",
    "                left_down = d[i+1][j-1]\n",
    "                \n",
    "            # 왼쪽에서 오는 경우\n",
    "            left = d[i][j-1]\n",
    "            \n",
    "            # 각 방향에 대하여 가장 큰 값을 더해준다\n",
    "            d[i][j] = d[i][j] + max(left_up, left_down, left)\n",
    "\n",
    "    result = 0 \n",
    "\n",
    "    for i in range(n):\n",
    "        result = max(result, d[i][m-1])\n",
    "\n",
    "    print(result)"
   ]
  },
  {
   "cell_type": "code",
   "execution_count": 17,
   "id": "a9154d20",
   "metadata": {},
   "outputs": [
    {
     "data": {
      "text/plain": [
       "[[1, 5, 8, 16], [2, 7, 11, 14], [5, 5, 13, 16], [0, 11, 12, 15]]"
      ]
     },
     "execution_count": 17,
     "metadata": {},
     "output_type": "execute_result"
    }
   ],
   "source": [
    "d"
   ]
  },
  {
   "cell_type": "code",
   "execution_count": null,
   "id": "41d7838e",
   "metadata": {},
   "outputs": [],
   "source": []
  }
 ],
 "metadata": {
  "kernelspec": {
   "display_name": "Python3_7",
   "language": "python",
   "name": "3_7"
  },
  "language_info": {
   "codemirror_mode": {
    "name": "ipython",
    "version": 3
   },
   "file_extension": ".py",
   "mimetype": "text/x-python",
   "name": "python",
   "nbconvert_exporter": "python",
   "pygments_lexer": "ipython3",
   "version": "3.7.11"
  }
 },
 "nbformat": 4,
 "nbformat_minor": 5
}
