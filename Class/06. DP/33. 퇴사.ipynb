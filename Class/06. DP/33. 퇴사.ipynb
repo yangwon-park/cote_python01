{
 "cells": [
  {
   "cell_type": "markdown",
   "id": "f95b08da",
   "metadata": {},
   "source": [
    "### 14501 퇴사"
   ]
  },
  {
   "cell_type": "code",
   "execution_count": 7,
   "id": "4df3f2ea",
   "metadata": {},
   "outputs": [
    {
     "name": "stdout",
     "output_type": "stream",
     "text": [
      "7\n",
      "3 10\n",
      "5 20\n",
      "1 10\n",
      "1 20\n",
      "2 15\n",
      "4 40\n",
      "2 200\n",
      "45\n"
     ]
    }
   ],
   "source": [
    "n = int(input())\n",
    "\n",
    "# t : 소요 일, p : 소득\n",
    "t = []\n",
    "p = []\n",
    "\n",
    "# 최대 수익을 담을 DP 테이블\n",
    "dp = [0] * (n+1)\n",
    "max_value = 0\n",
    "for _ in range(n):\n",
    "    x, y = map(int, input().split())\n",
    "    t.append(x)\n",
    "    p.append(y)\n",
    "    \n",
    "# 리스트를 뒤에서 부터 거꾸로 확인\n",
    "for i in range(n-1, -1, -1):\n",
    "    # 소요 시간\n",
    "    # i : 거꾸로 확인했으니까 상담이 잡힌 일을 의미\n",
    "    # t[i] : 해당 날의 상담 소요 시간을 의미\n",
    "    # t[i] + i => 해당 날의 상담 소요 시간 + 해당 날이 오기 전까지 흐른 날짜를 더해줘야 최종적으로 걸린 날짜가 됨\n",
    "    time = t[i] + i\n",
    "    \n",
    "    # 상담이 기간 안에 끝나는 경우\n",
    "    if time <= n:\n",
    "        dp[i] = (max(p[i] + dp[time], max_value))\n",
    "        max_value = dp[i]\n",
    "        \n",
    "    # 상담 시간을 벗어나는 경우\n",
    "    else:\n",
    "        dp[i] = max_value\n",
    "        \n",
    "print(max_value)"
   ]
  },
  {
   "cell_type": "code",
   "execution_count": 5,
   "id": "a47a3cf7",
   "metadata": {},
   "outputs": [
    {
     "data": {
      "text/plain": [
       "[45, 45, 45, 35, 15, 0, 0, 0]"
      ]
     },
     "execution_count": 5,
     "metadata": {},
     "output_type": "execute_result"
    }
   ],
   "source": [
    "dp"
   ]
  },
  {
   "cell_type": "code",
   "execution_count": null,
   "id": "a409dd26",
   "metadata": {},
   "outputs": [],
   "source": []
  }
 ],
 "metadata": {
  "kernelspec": {
   "display_name": "Python3_7",
   "language": "python",
   "name": "3_7"
  },
  "language_info": {
   "codemirror_mode": {
    "name": "ipython",
    "version": 3
   },
   "file_extension": ".py",
   "mimetype": "text/x-python",
   "name": "python",
   "nbconvert_exporter": "python",
   "pygments_lexer": "ipython3",
   "version": "3.7.11"
  }
 },
 "nbformat": 4,
 "nbformat_minor": 5
}
