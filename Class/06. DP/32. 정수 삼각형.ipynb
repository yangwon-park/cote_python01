{
 "cells": [
  {
   "cell_type": "code",
   "execution_count": 27,
   "id": "5ddfff91",
   "metadata": {},
   "outputs": [
    {
     "name": "stdout",
     "output_type": "stream",
     "text": [
      "5\n",
      "7\n",
      "3 8\n",
      "8 1 0\n",
      "2 7 4 4\n",
      "4 5 2 6 5\n"
     ]
    }
   ],
   "source": [
    "n = int(input())\n",
    "\n",
    "dp = []\n",
    "\n",
    "for _ in range(n):\n",
    "    dp.append(list(map(int, input().split())))\n",
    "\n",
    "def tri_sum(n, dp):\n",
    "    # 전층의 개수 + 1 == 현재 층\n",
    "    for i in range(1, n):\n",
    "        for j in range(i+1):\n",
    "\n",
    "            # 왼쪽 위에서 내려오는 경우\n",
    "            if j == 0:\n",
    "                left_down = 0\n",
    "            else:\n",
    "                left_down = dp[i-1][j-1]\n",
    "\n",
    "            # 바로 위에서 내려오는 경우\n",
    "            if j == i:\n",
    "                down = 0\n",
    "            else:\n",
    "                down = dp[i-1][j]\n",
    "\n",
    "            dp[i][j] = dp[i][j] + max(left_down, down)\n",
    "\n",
    "    print(max(dp[n-1]))  \n",
    "    \n",
    "tri_sum(n, dp)    "
   ]
  }
 ],
 "metadata": {
  "kernelspec": {
   "display_name": "Python3_7",
   "language": "python",
   "name": "3_7"
  },
  "language_info": {
   "codemirror_mode": {
    "name": "ipython",
    "version": 3
   },
   "file_extension": ".py",
   "mimetype": "text/x-python",
   "name": "python",
   "nbconvert_exporter": "python",
   "pygments_lexer": "ipython3",
   "version": "3.7.11"
  }
 },
 "nbformat": 4,
 "nbformat_minor": 5
}
