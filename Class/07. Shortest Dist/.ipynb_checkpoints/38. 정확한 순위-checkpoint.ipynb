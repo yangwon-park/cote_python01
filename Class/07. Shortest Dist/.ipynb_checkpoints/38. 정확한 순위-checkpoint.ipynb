{
 "cells": [
  {
   "cell_type": "code",
   "execution_count": 20,
   "id": "f30d6f90",
   "metadata": {},
   "outputs": [
    {
     "name": "stdout",
     "output_type": "stream",
     "text": [
      "6 6\n",
      "1 5\n",
      "3 4\n",
      "4 2\n",
      "4 6\n",
      "5 2\n",
      "5 4\n"
     ]
    }
   ],
   "source": [
    "INF = int(1e9)\n",
    "\n",
    "n, m = map(int, input().split())\n",
    "graph = [[INF] * (n+1) for _ in range (n+1)]\n",
    "\n",
    "# 자기 자신으로 가는 비용 0으로 초기화\n",
    "for a in range(1, n+1):\n",
    "    for b in range(1, n+1):\n",
    "        if a == b:\n",
    "            graph[a][b] = 0\n",
    "            \n",
    "# 간선에 대한 정보를 입력받고 그 값으로 초기화\n",
    "for _ in range(m):\n",
    "    # a < b를 의미\n",
    "    a, b = map(int, input().split())\n",
    "    graph[a][b] = 1            \n",
    "    \n",
    "# 플로이드 워셜 수행    \n",
    "for k in range(1, n+1):\n",
    "    for a in range(1, n+1):\n",
    "        for b in range(1, n+1):\n",
    "            graph[a][b] = min(graph[a][b], graph[a][k] + graph[k][b])\n",
    "\n",
    "# 정답을 담을 변수 \n",
    "answer = 0\n",
    "\n",
    "# 각 번호에 따라 한 명씩 확인하며 도달 가능한지 체크\n",
    "for i in range(1, n+1):\n",
    "    cnt = 0\n",
    "    \n",
    "    for j in range(1, n+1):\n",
    "        # 하나라도 INF가 아니다 => 작든 크든 도달할 수 있다 => 비교 가능\n",
    "        if graph[i][j] != INF or graph[j][i] != INF:\n",
    "            # 비교 가능하면 cnt + 1\n",
    "            cnt += 1\n",
    "            \n",
    "    # 비교 횟수가 n과 같다 => 전체 비교 가능 => 순위 추론 가능\n",
    "    if cnt == n:\n",
    "        answer += 1\n",
    "        \n",
    "print(answer)                        "
   ]
  }
 ],
 "metadata": {
  "kernelspec": {
   "display_name": "Python3_7",
   "language": "python",
   "name": "3_7"
  },
  "language_info": {
   "codemirror_mode": {
    "name": "ipython",
    "version": 3
   },
   "file_extension": ".py",
   "mimetype": "text/x-python",
   "name": "python",
   "nbconvert_exporter": "python",
   "pygments_lexer": "ipython3",
   "version": "3.7.11"
  }
 },
 "nbformat": 4,
 "nbformat_minor": 5
}
