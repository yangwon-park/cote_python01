{
 "cells": [
  {
   "cell_type": "code",
   "execution_count": null,
   "id": "f32aa815",
   "metadata": {},
   "outputs": [],
   "source": [
    "# n = int(input()) # 도시 개수\n",
    "m = int(input()) # 버스 개수\n",
    "\n",
    "INF = int(1e9)\n",
    "\n",
    "graph = [[INF] * (n+1) for _ in range(n+1)]\n",
    "\n",
    "# 자기 자신에서 자기 자신으로 가는 비용 0으로 초기화\n",
    "for a in range(1, n+1):\n",
    "    for j in range(1, n+1):\n",
    "        if a == b:\n",
    "            graph[a][b] = 0\n",
    "            \n",
    "# 각 간선에 대한 정보를 입력받고, 그 값으로 초기화\n",
    "for _ in range(m):\n",
    "    a, b, c = map(int, input().split())\n",
    "    \n",
    "    # a -> b로 가는 경로가 하나 이상일 수 있으므로\n",
    "    # 이 중 가장 작은 값만 담음\n",
    "    if c < graph[a][b]:\n",
    "        graph[a][b] = c\n",
    "        \n",
    "# 플로이드 워셜 구현\n",
    "for k in range(1, n+1):\n",
    "    for a in range(1, n+1):\n",
    "        for b in range(1, n+1):\n",
    "            graph[a][b] = min(graph[a][b], graph[a][k] + graph[k][b])\n",
    "            \n",
    "for a in range(1, n+1):\n",
    "    for b in range(1, n+1):\n",
    "        \n",
    "        #도달할 수 없는 경우 0\n",
    "        if graph[a][b] == INF:\n",
    "            print(0, end = ' ')\n",
    "        else:\n",
    "            print(graph[a][b], end = ' ')\n",
    "            \n",
    "    print()            "
   ]
  }
 ],
 "metadata": {
  "kernelspec": {
   "display_name": "Python3_7",
   "language": "python",
   "name": "3_7"
  },
  "language_info": {
   "codemirror_mode": {
    "name": "ipython",
    "version": 3
   },
   "file_extension": ".py",
   "mimetype": "text/x-python",
   "name": "python",
   "nbconvert_exporter": "python",
   "pygments_lexer": "ipython3",
   "version": "3.7.11"
  }
 },
 "nbformat": 4,
 "nbformat_minor": 5
}
