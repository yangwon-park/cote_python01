{
 "cells": [
  {
   "cell_type": "code",
   "execution_count": 8,
   "id": "03454185",
   "metadata": {},
   "outputs": [
    {
     "name": "stdout",
     "output_type": "stream",
     "text": [
      "5 6\n",
      "1\n"
     ]
    }
   ],
   "source": [
    "import heapq\n",
    "import sys\n",
    "\n",
    "INF = int(1e9)\n",
    "\n",
    "n, m = map(int, input().split())\n",
    "\n",
    "# 시작 노드\n",
    "start = int(input())\n",
    "\n",
    "graph = [[] for i in range(n+1)]\n",
    "\n",
    "# 다익스트라는 최단 거리 테이블 필요\n",
    "dist = [INF] * (n+1)\n",
    "\n",
    "for _ in range(m):\n",
    "    a, b, c = map(int, input().split())\n",
    "    \n",
    "    graph[a].append((b, c))\n",
    "    \n",
    "def dijkstra(start):\n",
    "    q = []\n",
    "    \n",
    "    # 시작 노드로 가기 위한 최단 경로는 0\n",
    "    heapq.heappush(q, (0, start))\n",
    "    \n",
    "    dist[start] = 0\n",
    "    \n",
    "    while q:\n",
    "        d, now = heapq.heappop(q)\n",
    "        \n",
    "        if dist[now] < d:\n",
    "            continue\n",
    "            \n",
    "        for i in graph[now]:\n",
    "            cost = d + i[1]\n",
    "            \n",
    "            if cost < dist[i[0]]:\n",
    "                dist[i[0]] = cost\n",
    "                heapq.heappush(q, (cost, i[0]))\n",
    "                \n",
    "dijkstra(start)\n",
    "\n",
    "for i in range(1, n+1):\n",
    "    if dist[i] == INF:\n",
    "        print(\"INF\")\n",
    "    else:\n",
    "        print(dist[i])                    "
   ]
  }
 ],
 "metadata": {
  "kernelspec": {
   "display_name": "Python3_7",
   "language": "python",
   "name": "3_7"
  },
  "language_info": {
   "codemirror_mode": {
    "name": "ipython",
    "version": 3
   },
   "file_extension": ".py",
   "mimetype": "text/x-python",
   "name": "python",
   "nbconvert_exporter": "python",
   "pygments_lexer": "ipython3",
   "version": "3.7.11"
  }
 },
 "nbformat": 4,
 "nbformat_minor": 5
}
