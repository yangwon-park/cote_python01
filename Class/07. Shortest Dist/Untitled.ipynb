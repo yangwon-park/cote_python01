{
 "cells": [
  {
   "cell_type": "code",
   "execution_count": 15,
   "id": "d75c8dfe",
   "metadata": {},
   "outputs": [
    {
     "name": "stdout",
     "output_type": "stream",
     "text": [
      "5 6\n",
      "1\n",
      "5 1 1\n",
      "1 2 2\n",
      "1 3 3\n",
      "2 3 4\n",
      "2 4 5\n",
      "3 4 6\n",
      "0\n",
      "2\n",
      "3\n",
      "7\n",
      "INF\n"
     ]
    }
   ],
   "source": [
    "import heapq\n",
    "import sys\n",
    "\n",
    "INF = int(1e9)\n",
    "\n",
    "n, m = map(int, input().split())\n",
    "\n",
    "# 시작 노드                         \n",
    "start = int(input())\n",
    "\n",
    "graph = [[] for i in range(n+1)]\n",
    "\n",
    "# 다익스트라는 최단 거리 테이블 필요\n",
    "dist = [INF] * (n+1)\n",
    "\n",
    "for _ in range(m):\n",
    "    a, b, c = map(int, input().split())\n",
    "    \n",
    "    graph[a].append((b, c))\n",
    "    \n",
    "def dijkstra(start):\n",
    "    q = []\n",
    "    \n",
    "    # 시작 노드로 가기 위한 최단 경로는 0\n",
    "    heapq.heappush(q, (0, start))\n",
    "    \n",
    "    dist[start] = 0\n",
    "    \n",
    "    while q:\n",
    "        d, now = heapq.heappop(q)\n",
    "        \n",
    "        if dist[now] < d:\n",
    "            continue\n",
    "            \n",
    "        for i in graph[now]:\n",
    "            cost = d + i[1]\n",
    "            \n",
    "            if cost < dist[i[0]]:\n",
    "                dist[i[0]] = cost\n",
    "                heapq.heappush(q, (cost, i[0]))\n",
    "                \n",
    "dijkstra(start)\n",
    "\n",
    "for i in range(1, n+1):\n",
    "    if dist[i] == INF:\n",
    "        print(\"INF\")\n",
    "    else:\n",
    "        print(dist[i])                    "
   ]
  },
  {
   "cell_type": "code",
   "execution_count": 19,
   "id": "401c7d2b",
   "metadata": {},
   "outputs": [
    {
     "data": {
      "text/plain": [
       "3"
      ]
     },
     "execution_count": 19,
     "metadata": {},
     "output_type": "execute_result"
    }
   ],
   "source": [
    "graph[1][1][1]"
   ]
  },
  {
   "cell_type": "code",
   "execution_count": 20,
   "id": "b58f1261",
   "metadata": {},
   "outputs": [
    {
     "data": {
      "text/plain": [
       "[1000000000, 0, 2, 3, 7, 1000000000]"
      ]
     },
     "execution_count": 20,
     "metadata": {},
     "output_type": "execute_result"
    }
   ],
   "source": [
    "dist"
   ]
  },
  {
   "cell_type": "code",
   "execution_count": null,
   "id": "1f442df1",
   "metadata": {},
   "outputs": [],
   "source": []
  }
 ],
 "metadata": {
  "kernelspec": {
   "display_name": "Python3_7",
   "language": "python",
   "name": "3_7"
  },
  "language_info": {
   "codemirror_mode": {
    "name": "ipython",
    "version": 3
   },
   "file_extension": ".py",
   "mimetype": "text/x-python",
   "name": "python",
   "nbconvert_exporter": "python",
   "pygments_lexer": "ipython3",
   "version": "3.7.11"
  }
 },
 "nbformat": 4,
 "nbformat_minor": 5
}
