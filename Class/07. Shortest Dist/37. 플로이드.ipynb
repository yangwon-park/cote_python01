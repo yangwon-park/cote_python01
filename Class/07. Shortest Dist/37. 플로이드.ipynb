{
 "cells": [
  {
   "cell_type": "code",
   "execution_count": 4,
   "id": "3283cdfe",
   "metadata": {},
   "outputs": [
    {
     "name": "stdout",
     "output_type": "stream",
     "text": [
      "5\n",
      "14\n",
      "1 2 2\n",
      "1 3 3\n",
      "1 4 1\n",
      "1 5 10\n",
      "2 4 2\n",
      "3 4 1\n",
      "3 5 1\n",
      "4 5 3\n",
      "3 5 10\n",
      "3 1 8\n",
      "1 4 2\n",
      "5 1 7\n",
      "3 4 2\n",
      "5 2 4\n",
      "0 2 3 1 4 \n",
      "12 0 15 2 5 \n",
      "8 5 0 1 1 \n",
      "10 7 13 0 3 \n",
      "7 4 10 6 0 \n"
     ]
    }
   ],
   "source": [
    "n = int(input()) # 도시 개수\n",
    "m = int(input()) # 버스 개수\n",
    "\n",
    "INF = int(1e9)\n",
    "\n",
    "graph = [[INF] * (n+1) for _ in range(n+1)]\n",
    "\n",
    "# 자기 자신에서 자기 자신으로 가는 비용 0으로 초기화\n",
    "for a in range(1, n+1):\n",
    "    for b in range(1, n+1):\n",
    "        if a == b:\n",
    "            graph[a][b] = 0\n",
    "            \n",
    "# 각 간선에 대한 정보를 입력받고, 그 값으로 초기화\n",
    "for _ in range(m):\n",
    "    a, b, c = map(int, input().split())\n",
    "    \n",
    "    # a -> b로 가는 경로가 하나 이상일 수 있으므로\n",
    "    # 이 중 가장 작은 값만 담음\n",
    "    if c < graph[a][b]:\n",
    "        graph[a][b] = c\n",
    "        \n",
    "# 플로이드 워셜 구현\n",
    "for k in range(1, n+1):\n",
    "    for a in range(1, n+1):\n",
    "        for b in range(1, n+1):\n",
    "            graph[a][b] = min(graph[a][b], graph[a][k] + graph[k][b])\n",
    "            \n",
    "for a in range(1, n+1):\n",
    "    for b in range(1, n+1):\n",
    "        \n",
    "        #도달할 수 없는 경우 0\n",
    "        if graph[a][b] == INF:\n",
    "            print(0, end = ' ')\n",
    "        else:\n",
    "            print(graph[a][b], end = ' ')\n",
    "            \n",
    "    print()            "
   ]
  },
  {
   "cell_type": "code",
   "execution_count": null,
   "id": "06c289f3",
   "metadata": {},
   "outputs": [],
   "source": []
  }
 ],
 "metadata": {
  "kernelspec": {
   "display_name": "Python3_7",
   "language": "python",
   "name": "3_7"
  },
  "language_info": {
   "codemirror_mode": {
    "name": "ipython",
    "version": 3
   },
   "file_extension": ".py",
   "mimetype": "text/x-python",
   "name": "python",
   "nbconvert_exporter": "python",
   "pygments_lexer": "ipython3",
   "version": "3.7.11"
  }
 },
 "nbformat": 4,
 "nbformat_minor": 5
}
