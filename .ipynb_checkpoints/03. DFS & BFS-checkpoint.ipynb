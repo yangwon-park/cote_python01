{
 "cells": [
  {
   "cell_type": "markdown",
   "id": "ac522d2d",
   "metadata": {},
   "source": [
    "## 인접 행렬 vs 인접 리스트\n",
    "- 인접 행렬\n",
    "    - 모든 관계를 저장하므로 노드 개수가 많을수록 메모리가 불필요하게 낭비됨\n",
    "    - 특정 두 노드의 연결 상태를 빠르게 확인 가능\n",
    "- 인접 리스트\n",
    "    - 연결된 정보만을 저장하기 떄문에 메모리를 효율적으로 사용\n",
    "    - 특정한 두 노드가 연결되어 있는지에 대한 정보를 얻는 속도가 느림 (하나 하나씩 확인해야 하기 떄문)\n",
    "        - 특정 노드와 연결된 모든 노드를 순회하는 경우 더 유용\n",
    "\n"
   ]
  },
  {
   "cell_type": "code",
   "execution_count": 1,
   "id": "42d62558",
   "metadata": {},
   "outputs": [],
   "source": [
    "# 인접 행렬 (Adjacency Matrix)\n",
    "INF = 999999999\n",
    "\n",
    "graph = [\n",
    "    [0, 7, 5],\n",
    "    [7, 0 , INF],\n",
    "    5, INF, 0\n",
    "]"
   ]
  },
  {
   "cell_type": "code",
   "execution_count": 2,
   "id": "2a5b7beb",
   "metadata": {},
   "outputs": [
    {
     "name": "stdout",
     "output_type": "stream",
     "text": [
      "[[0, 7, 5], [7, 0, 999999999], 5, 999999999, 0]\n"
     ]
    }
   ],
   "source": [
    "print(graph)"
   ]
  },
  {
   "cell_type": "code",
   "execution_count": 5,
   "id": "9675ec88",
   "metadata": {},
   "outputs": [
    {
     "name": "stdout",
     "output_type": "stream",
     "text": [
      "[[(1, 7), (2, 5)], [(0, 7)], [(0, 5)]]\n"
     ]
    }
   ],
   "source": [
    "# 인접 리스트 (Adjacency List)\n",
    "# 행이 3개인 2차원 리스트로 인접 리스트 표현\n",
    "\n",
    "graph = [[] for _ in range(3)]\n",
    "\n",
    "# 노드 0에 연결된 노드 정보 저장 (노드, 거리)\n",
    "graph[0].append((1, 7))\n",
    "graph[0].append((2, 5))\n",
    "\n",
    "# 노드 1에 연결된 노드 정보 저장 (노드, 거리)\n",
    "graph[1].append((0, 7))\n",
    "\n",
    "# 노드 2에 연결된 노드 정보 저장 (노드, 거리)\n",
    "graph[2].append((0, 5))\n",
    "\n",
    "print(graph)"
   ]
  },
  {
   "cell_type": "markdown",
   "id": "3d8c30d6",
   "metadata": {},
   "source": [
    "# DFS (깊이 우선 탐색)\n",
    "- **스택** 활용\n",
    "- 순서\n",
    "    1. 탐색 시작 노드를 스택에 삽입하고 방문 처리를 한다\n",
    "    2. 스택의 최상단 노드에 방문하지 않은 인접 노드가 있으면 그 인접 노드를 스택에 넣고 방문 처리  \n",
    "       (방문하지 않은 인접 노드가 없으면 스택에서 최상단 노드를 꺼낸다)\n",
    "    3. 2번 과정을 더 이상 수행할 수 없을 때까지 반복\n",
    "- O(N)의 시간 소요\n",
    "- 재귀 함수 사용 시, 매우 간결하게 구현 가능"
   ]
  },
  {
   "cell_type": "code",
   "execution_count": 11,
   "id": "cd585986",
   "metadata": {},
   "outputs": [
    {
     "name": "stdout",
     "output_type": "stream",
     "text": [
      "1 2 7 6 8 3 4 5 "
     ]
    }
   ],
   "source": [
    "# DFS 메소드 정의\n",
    "def dfs(graph, v, visited):\n",
    "    # 현재 노드를 방문 처리\n",
    "    visited[v] = True\n",
    "    print(v, end=' ')\n",
    "    #현재 노드와 연결된 다른 노드를 재귀적으로 방문\n",
    "    for i in graph[v]:\n",
    "        if not visited[i]:\n",
    "            dfs(graph, i, visited)\n",
    "\n",
    "# 각 노드가 연결된 정보를 리스트 자료형으로 표현\n",
    "graph = [\n",
    "    [],\n",
    "    [2, 3, 8],\n",
    "    [1, 7],\n",
    "    [1, 4, 5],\n",
    "    [3, 5],\n",
    "    [3, 4],\n",
    "    [7],\n",
    "    [2, 6, 8],\n",
    "    [1, ]\n",
    "]\n",
    "\n",
    "# 각 노드가 방문된 정보를 리스트 자료형으로 표현\n",
    "visited = [False] * len(graph)\n",
    "\n",
    "# 정의된 DFS 함수 호출\n",
    "dfs(graph, 1, visited)"
   ]
  },
  {
   "cell_type": "code",
   "execution_count": 12,
   "id": "93b7dcbb",
   "metadata": {},
   "outputs": [
    {
     "name": "stdout",
     "output_type": "stream",
     "text": [
      "[False, True, True, True, True, True, True, True, True]\n"
     ]
    }
   ],
   "source": [
    "print(visited)"
   ]
  },
  {
   "cell_type": "code",
   "execution_count": null,
   "id": "867d30a5",
   "metadata": {},
   "outputs": [],
   "source": []
  }
 ],
 "metadata": {
  "kernelspec": {
   "display_name": "Python 3 (ipykernel)",
   "language": "python",
   "name": "python3"
  },
  "language_info": {
   "codemirror_mode": {
    "name": "ipython",
    "version": 3
   },
   "file_extension": ".py",
   "mimetype": "text/x-python",
   "name": "python",
   "nbconvert_exporter": "python",
   "pygments_lexer": "ipython3",
   "version": "3.9.7"
  }
 },
 "nbformat": 4,
 "nbformat_minor": 5
}
