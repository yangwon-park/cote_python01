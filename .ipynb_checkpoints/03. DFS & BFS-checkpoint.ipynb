{
 "cells": [
  {
   "cell_type": "markdown",
   "id": "ac522d2d",
   "metadata": {},
   "source": [
    "# 인접 행렬 vs 인접 리스트\n",
    "- 인접 행렬\n",
    "    - 모든 관계를 저장하므로 노드 개수가 많을수록 메모리가 불필요하게 낭비됨\n",
    "    - 특정 두 노드의 연결 상태를 빠르게 확인 가능\n",
    "- 인접 리스트\n",
    "    - 연결된 정보만을 저장하기 떄문에 메모리를 효율적으로 사용\n",
    "    - 특정한 두 노드가 연결되어 있는지에 대한 정보를 얻는 속도가 느림 (하나 하나씩 확인해야 하기 떄문)\n",
    "        - 특정 노드와 연결된 모든 노드를 순회하는 경우 더 유용\n",
    "\n"
   ]
  },
  {
   "cell_type": "code",
   "execution_count": 1,
   "id": "42d62558",
   "metadata": {},
   "outputs": [],
   "source": [
    "# 인접 행렬 (Adjacency Matrix)\n",
    "INF = 999999999\n",
    "\n",
    "graph = [\n",
    "    [0, 7, 5],\n",
    "    [7, 0 , INF],\n",
    "    5, INF, 0\n",
    "]"
   ]
  },
  {
   "cell_type": "code",
   "execution_count": 2,
   "id": "2a5b7beb",
   "metadata": {},
   "outputs": [
    {
     "name": "stdout",
     "output_type": "stream",
     "text": [
      "[[0, 7, 5], [7, 0, 999999999], 5, 999999999, 0]\n"
     ]
    }
   ],
   "source": [
    "print(graph)"
   ]
  },
  {
   "cell_type": "code",
   "execution_count": 5,
   "id": "9675ec88",
   "metadata": {},
   "outputs": [
    {
     "name": "stdout",
     "output_type": "stream",
     "text": [
      "[[(1, 7), (2, 5)], [(0, 7)], [(0, 5)]]\n"
     ]
    }
   ],
   "source": [
    "# 인접 리스트 (Adjacency List)\n",
    "# 행이 3개인 2차원 리스트로 인접 리스트 표현\n",
    "\n",
    "graph = [[] for _ in range(3)]\n",
    "\n",
    "# 노드 0에 연결된 노드 정보 저장 (노드, 거리)\n",
    "graph[0].append((1, 7))\n",
    "graph[0].append((2, 5))\n",
    "\n",
    "# 노드 1에 연결된 노드 정보 저장 (노드, 거리)\n",
    "graph[1].append((0, 7))\n",
    "\n",
    "# 노드 2에 연결된 노드 정보 저장 (노드, 거리)\n",
    "graph[2].append((0, 5))\n",
    "\n",
    "print(graph)"
   ]
  },
  {
   "cell_type": "markdown",
   "id": "3d8c30d6",
   "metadata": {},
   "source": [
    "# DFS (깊이 우선 탐색)\n",
    "- **스택** 활용\n",
    "- 최대한 멀리 있는 노드를 우선 탐색\n",
    "- 순서\n",
    "    1. 탐색 시작 노드를 스택에 삽입하고 방문 처리를 한다\n",
    "    2. 스택의 최상단 노드에 방문하지 않은 인접 노드가 있으면 그 인접 노드를 스택에 넣고 방문 처리  \n",
    "       (방문하지 않은 인접 노드가 없으면 스택에서 최상단 노드를 꺼낸다)\n",
    "    3. 2번 과정을 더 이상 수행할 수 없을 때까지 반복\n",
    "- O(N)의 시간 복잡도\n",
    "- 재귀 함수 사용 시, 매우 간결하게 구현 가능"
   ]
  },
  {
   "cell_type": "code",
   "execution_count": 11,
   "id": "cd585986",
   "metadata": {},
   "outputs": [
    {
     "name": "stdout",
     "output_type": "stream",
     "text": [
      "1 2 7 6 8 3 4 5 "
     ]
    }
   ],
   "source": [
    "# DFS 메소드 정의\n",
    "def dfs(graph, v, visited):\n",
    "    # 현재 노드를 방문 처리\n",
    "    visited[v] = True\n",
    "    print(v, end=' ')\n",
    "    #현재 노드와 연결된 다른 노드를 재귀적으로 방문\n",
    "    for i in graph[v]:\n",
    "        if not visited[i]:\n",
    "            dfs(graph, i, visited)\n",
    "\n",
    "# 각 노드가 연결된 정보를 리스트 자료형으로 표현\n",
    "graph = [\n",
    "    [],\n",
    "    [2, 3, 8],\n",
    "    [1, 7],\n",
    "    [1, 4, 5],\n",
    "    [3, 5],\n",
    "    [3, 4],\n",
    "    [7],\n",
    "    [2, 6, 8],\n",
    "    [1, ]\n",
    "]\n",
    "\n",
    "# 각 노드가 방문된 정보를 리스트 자료형으로 표현\n",
    "visited = [False] * len(graph)\n",
    "\n",
    "# 정의된 DFS 함수 호출\n",
    "dfs(graph, 1, visited)"
   ]
  },
  {
   "cell_type": "code",
   "execution_count": 12,
   "id": "93b7dcbb",
   "metadata": {},
   "outputs": [
    {
     "name": "stdout",
     "output_type": "stream",
     "text": [
      "[False, True, True, True, True, True, True, True, True]\n"
     ]
    }
   ],
   "source": [
    "print(visited)"
   ]
  },
  {
   "cell_type": "markdown",
   "id": "aa32aefe",
   "metadata": {},
   "source": [
    "# BFS (너비 우선 탐색)\n",
    "- **큐** 활용\n",
    "- 가까운 노드부터 탐색하는 알고리즘\n",
    "- 순서\n",
    "    1. 탐색 시작 노드를 큐에 삽입하고 방문 처리\n",
    "    2. 큐에서 노드를 꺼내 해당 노드의 인접 노드 중에서 방문하지 않은 노드를 모두 큐에 삽입하고 방문 처리\n",
    "    3. 2번의 과정을 더 이상 수행할 수 없을 때까지 반복\n",
    "- O(N)의 시간 복잡도\n",
    "- 일반적인 경우 수행 시간이 DFS보다 좋은 편"
   ]
  },
  {
   "cell_type": "code",
   "execution_count": 2,
   "id": "b99d2f1c",
   "metadata": {},
   "outputs": [
    {
     "name": "stdout",
     "output_type": "stream",
     "text": [
      "1 2 3 8 7 4 5 6 "
     ]
    }
   ],
   "source": [
    "from collections import deque\n",
    "\n",
    "# BFS 메소드 정의\n",
    "def bfs(graph, start, visited):\n",
    "    # 큐(Queue) 구현을 위해 deque 라이브러리 사용\n",
    "    queue = deque([start])\n",
    "    # 현재 노드 방문 처리\n",
    "    visited[start] = True\n",
    "    # 큐가 빌 때까지 반복\n",
    "    while queue:\n",
    "        #큐에서 하나의 원소를 뽑아 출력\n",
    "        v = queue.popleft()\n",
    "        print(v, end=' ')\n",
    "        # 해당 원소와 연결된, 아직 방문하지 않은 원소들을 큐에 삽입\n",
    "        for i in graph[v]:\n",
    "            if not visited[i]:\n",
    "                queue.append(i)\n",
    "                visited[i] = True\n",
    "                \n",
    "# 각 노드가 연결된 정보를 리스트 자료형으로 표현\n",
    "graph = [\n",
    "    [],\n",
    "    [2, 3, 8],\n",
    "    [1, 7],\n",
    "    [1, 4, 5],\n",
    "    [3, 5],\n",
    "    [3, 4],\n",
    "    [7],\n",
    "    [2, 6, 8],\n",
    "    [1, ]\n",
    "]\n",
    "\n",
    "# 각 노드가 방문된 정보를 리스트 자료형으로 표현\n",
    "visited = [False] * len(graph)\n",
    "\n",
    "# 정의된 DFS 함수 호출\n",
    "bfs(graph, 1, visited)"
   ]
  },
  {
   "cell_type": "markdown",
   "id": "43f0f3a4",
   "metadata": {},
   "source": [
    "# 문제"
   ]
  },
  {
   "cell_type": "markdown",
   "id": "3ccc3d8e",
   "metadata": {},
   "source": [
    "## 1. 노드, 관선 연결 정보를 입력받아 DFS & BFS로 탐색"
   ]
  },
  {
   "cell_type": "code",
   "execution_count": 1,
   "id": "ead85fd5",
   "metadata": {},
   "outputs": [
    {
     "name": "stdout",
     "output_type": "stream",
     "text": [
      "4 5 1\n",
      "1 2\n",
      "1 3\n",
      "1 4\n",
      "2 4\n",
      "3 4\n",
      "1 2 4 3 \n",
      "1 2 3 4 "
     ]
    }
   ],
   "source": [
    "from collections import deque\n",
    "# 슈퍼 기본 DFS & BFS\n",
    "n, m, v = map(int, input().split())\n",
    "\n",
    "# 리스트의 첫번째 요소는 빈 리스트 처리 => 인덱스 번호와 노드 번호를 통일시키기 위해서\n",
    "# 따라서 n + 1 => 정점 개수 +1 만큼 반복해야함\n",
    "graph = [[] for _ in range(n + 1)]\n",
    "\n",
    "# 각 노드마다 방문 여부 체크할 리스트 선언\n",
    "visited = [False] * (n + 1)\n",
    "\n",
    "# 입력받은 노드와 간선간의 연결 정보를 노드별 인접리스로 표현\n",
    "for _ in range(m):\n",
    "    \n",
    "    # 간선이 연결하는 두 정점의 번호 입력\n",
    "    a, b = map(int, input().split())\n",
    "    \n",
    "    # a와 b 노드가 연결돼어있다 = b와 a 노드가 연결돼어있다 (swap)\n",
    "    graph[a].append(b)\n",
    "    graph[b].append(a)\n",
    "    \n",
    "    # 번확 작은 순서로 방문하기 때문에 sort()로 오름차순 정렬 시행\n",
    "    graph[a].sort()\n",
    "    graph[b].sort()\n",
    "\n",
    "# DFS \n",
    "def dfs(graph, v, visited):\n",
    "    # 시작 방문 처리 & 재귀적 호출 시 새로 받은 v번째 노드 방문처리\n",
    "    visited[v] = True\n",
    "            \n",
    "    # 방문한 노드의 번호 출력\n",
    "    print(v, end = ' ')\n",
    "    \n",
    "    # 처음 시작 노드의 번호 v부터 v에 연결되어있는 노드들을 반복하여 탐색 시작\n",
    "    for i in graph[v]:\n",
    "        \n",
    "        # v번 노드의 방문 여부가 False이면\n",
    "        if not visited[i]:\n",
    "            \n",
    "            # 재귀적으로 호출 => 스택 구현과 동일한 기능\n",
    "            dfs(graph, i, visited)\n",
    "# BFS      \n",
    "def bfs(graph, v, visited):\n",
    "    # 방문 여부 리스트 초기화\n",
    "    visited = [False] * (n + 1)\n",
    "    \n",
    "    # 방문 노드를 담을 queue 선언\n",
    "    queue = deque()\n",
    "    \n",
    "    # 시작 노드 방문\n",
    "    queue.append(v)\n",
    "    \n",
    "    # 시작 방문 처리 & 재귀적 호출 시 새로 받은 v번째 노드 방문처리\n",
    "    visited[v] = True\n",
    "    \n",
    "    # 방문을 완료한 원소들을 queue에 넣고 queue에서 하나씩 순서대로 뽑아내면\n",
    "    # queue가 빌 것이고 그럴 경우 반복문 종료\n",
    "    while queue:\n",
    "        # 큐에서 LILO로 원소 출력\n",
    "        p = queue.popleft()\n",
    "        print(p, end=' ')\n",
    "        \n",
    "        # 해당 요소와 연결된 미방문 노드들 큐에 삽입 후 방문처리\n",
    "        for i in graph[p]:\n",
    "            if not visited[i]:\n",
    "                queue.append(i)\n",
    "                visited[i] = True\n",
    "                \n",
    "dfs(graph, v, visited)\n",
    "print()\n",
    "bfs(graph, v, visited)"
   ]
  },
  {
   "cell_type": "markdown",
   "id": "dde06e75",
   "metadata": {},
   "source": [
    "## 2. 음료수 얼려 먹기"
   ]
  },
  {
   "cell_type": "code",
   "execution_count": 1,
   "id": "459f5519",
   "metadata": {},
   "outputs": [
    {
     "name": "stdout",
     "output_type": "stream",
     "text": [
      "3 5\n",
      "00001\n",
      "11111\n",
      "00001\n",
      "2\n"
     ]
    }
   ],
   "source": [
    "n, m = map(int, input().split())\n",
    "\n",
    "# 맵 정보 입력 받기\n",
    "graph = []\n",
    "for i in range(n):\n",
    "    graph.append(list(map(int, input())))\n",
    "    \n",
    "# DFS로 특정한 노드를 방문한 뒤에 연결된 모든 노드들도 방문\n",
    "def dfs(x, y):\n",
    "    # 주어진 범위를 벗어나는 경우에는 즉시 종료\n",
    "    if x <= -1 or x >= n or y <= -1 or y >= m:\n",
    "        return False\n",
    "    # 현재 노드를 아직 방문하지 않았다면\n",
    "    if graph[x][y] == 0:\n",
    "        # 해당 노드 방문 처리\n",
    "        graph[x][y] = 1\n",
    "        # 상, 하, 좌, 우 모두 재귀적으로 호출\n",
    "        dfs(x - 1, y)\n",
    "        dfs(x, y - 1)\n",
    "        dfs(x + 1, y)\n",
    "        dfs(x, y + 1)\n",
    "        return True\n",
    "    return False\n",
    "\n",
    "# 모든 노드(위치)에 대하여 음료수 채우기\n",
    "result = 0\n",
    "for i in range(n):\n",
    "    for j in range(m):\n",
    "        # 현재 위치에서 DFS 수행\n",
    "        if dfs(i, j) == True:\n",
    "            result += 1\n",
    "            \n",
    "print(result)"
   ]
  },
  {
   "cell_type": "markdown",
   "id": "3d9ba23d",
   "metadata": {},
   "source": [
    "## 3. 미로 탈출"
   ]
  },
  {
   "cell_type": "code",
   "execution_count": 9,
   "id": "ec470cca",
   "metadata": {},
   "outputs": [
    {
     "name": "stdout",
     "output_type": "stream",
     "text": [
      "5 6\n",
      "101010\n",
      "111111\n",
      "111111\n",
      "000001\n",
      "000011\n",
      "10\n"
     ]
    }
   ],
   "source": [
    "# BFS => 시작 지점에서 가까운 노드부터 차례대로 그래프의 모든 노드 탐색\n",
    "from collections import deque\n",
    "\n",
    "n, m = map(int, input().split())\n",
    "\n",
    "# 맵 정보 입력\n",
    "graph = []\n",
    "for i in range(n):\n",
    "    graph.append(list(map(int, input())))\n",
    "    \n",
    "    # 이동할 방향 정의 (상 하 좌 우)\n",
    "    dx = [-1, 1, 0, 0]\n",
    "    dy = [0, 0, -1, 1]\n",
    "    \n",
    "    # BFS 소스 코드\n",
    "    def bfs(x, y):\n",
    "        # 큐 구현\n",
    "        queue = deque()\n",
    "        queue.append((x, y))\n",
    "        # 큐가 빌 때까지 반복\n",
    "        while queue:\n",
    "            x, y = queue.popleft()\n",
    "            # 현재 위치에서 네 방향으로의 위치 확인\n",
    "            for i in range(4):\n",
    "                nx = x + dx[i]\n",
    "                ny = y + dy[i]\n",
    "                # 미로 찾기 공간을 벗어난 경우 무시\n",
    "                if nx < 0 or ny < 0 or nx >= n or ny >= m:\n",
    "                    continue\n",
    "                # 벽인 경우 무시\n",
    "                if graph[nx][ny] == 0:\n",
    "                    continue\n",
    "                # 해당 노드를 처음 방문하는 경우에만 최단 거리 기록\n",
    "                if graph[nx][ny] == 1:\n",
    "                    graph[nx][ny] = graph[x][y] + 1\n",
    "                    queue.append((nx, ny))\n",
    "                    \n",
    "        #가장 오른쪽 아래까지의 최단 거리 반환\n",
    "        return graph[n-1][m-1]\n",
    "    \n",
    "# BFS 수행 결과\n",
    "print(bfs(0, 0))"
   ]
  }
 ],
 "metadata": {
  "kernelspec": {
   "display_name": "Python 3 (ipykernel)",
   "language": "python",
   "name": "python3"
  },
  "language_info": {
   "codemirror_mode": {
    "name": "ipython",
    "version": 3
   },
   "file_extension": ".py",
   "mimetype": "text/x-python",
   "name": "python",
   "nbconvert_exporter": "python",
   "pygments_lexer": "ipython3",
   "version": "3.9.7"
  }
 },
 "nbformat": 4,
 "nbformat_minor": 5
}
