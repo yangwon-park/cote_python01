{
 "cells": [
  {
   "cell_type": "markdown",
   "id": "c0afb122",
   "metadata": {},
   "source": [
    "## 선택 정렬\n",
    "- 가장 작은 것을 선택해서 앞으로 보내는 과정을 더 이상 반복할 수 없을 때까지 반복하는 정렬\n",
    "- 가장 작은 데이터를 앞으로 보내는 과정을 N - 1번 반복하면 정렬이 완료\n",
    "- 시간 복잡도 : (N&#42;&#42;2 + N ) / 2 => O(N&#42;&#42;2)\n",
    "\n",
    "|데이터의 개수 (N)|선택 정렬|퀵 정렬|기본 정렬 라이브러리\n",
    "|:---|:---|:---|:---|\n",
    "|N=100|0.0123초|0.00156초|0.00000753초|\n",
    "|N=1,000|0.354초|0.00343초|0.0000365초|\n",
    "|N=10,000|15.475초|0.0312초|0.000248초|\n",
    "\n",
    "- 위 표에서 알 수 있듯이 다른 정렬 알고리즘에 비해서 매우 비효율적\n",
    "- 하지만 특정 리스트에서 가장 작은 데이터를 찾는 경우 활용하기 좋다"
   ]
  },
  {
   "cell_type": "code",
   "execution_count": 1,
   "id": "9a5f4bfb",
   "metadata": {},
   "outputs": [
    {
     "name": "stdout",
     "output_type": "stream",
     "text": [
      "[0, 1, 2, 3, 4, 5, 6, 7, 8, 9]\n"
     ]
    }
   ],
   "source": [
    "array = [7, 5, 9, 0, 3, 1, 6, 2, 4, 8]\n",
    "\n",
    "for i in range(len(array)):\n",
    "    min_index = i\n",
    "    \n",
    "    for j in range(i+1, len(array)):\n",
    "        if array[min_index] > array[j]:\n",
    "            min_index=j\n",
    "    array[i], array[min_index] = array[min_index], array[i] # 스와프\n",
    "    \n",
    "print(array)"
   ]
  },
  {
   "cell_type": "markdown",
   "id": "281d0402",
   "metadata": {},
   "source": [
    "### 스와프 코드\n",
    "- 두 변수의 위치를 변경하는 코드\n",
    "- 파이썬에선 간단하게 구현 가능"
   ]
  },
  {
   "cell_type": "code",
   "execution_count": 10,
   "id": "6db23100",
   "metadata": {},
   "outputs": [
    {
     "name": "stdout",
     "output_type": "stream",
     "text": [
      "5 3\n",
      "3 5\n"
     ]
    }
   ],
   "source": [
    "# 파이썬\n",
    "array = [3, 5]\n",
    "array[0], array[1] = array[1], array[0]\n",
    "\n",
    "# 다른 언어\n",
    "a = array[0]  # 5\n",
    "b = array[1]  # 3\n",
    "print(a, b)\n",
    "\n",
    "temp = a\n",
    "a = b\n",
    "b = temp\n",
    "\n",
    "print(a, b)"
   ]
  },
  {
   "cell_type": "markdown",
   "id": "c66b07ee",
   "metadata": {},
   "source": [
    "## 삽입 정렬\n",
    "- 특정한 데이터를 적절한 위치에 삽입하여 정렬\n",
    "- 적절한 위치에 들어가기 이전에, 그 앞까지의 데이터는 이미 정렬되어 있다고 가정\n",
    "- 단계별로 정렬이 이루어진 원소는 항상 오름차순을 유지하고 있다\n",
    "    - 즉, 특정한 데이터보다 왼쪽에 있는 데이터들은 이미 정렬된 상태  \n",
    "         => 자기보다 작은 데이터를 만났다면 더 이상 데이터를 살펴볼 필요가 없이 그 자리에 삽입\n",
    "- 데이터가 거의 정렬되어 있을 때 매우 효율적 => 이 경우, 퀵 정렬보다 더 강력함\n",
    "- 시간 복잡도 : O(N&#42;&#42;2) (단, 최선의 경우 O(N))"
   ]
  },
  {
   "cell_type": "code",
   "execution_count": 11,
   "id": "3f49163d",
   "metadata": {
    "scrolled": true
   },
   "outputs": [
    {
     "name": "stdout",
     "output_type": "stream",
     "text": [
      "[0, 1, 2, 3, 4, 5, 6, 7, 8, 9]\n"
     ]
    }
   ],
   "source": [
    "array = [7, 5, 9, 0, 3, 1, 6, 2, 4, 8]\n",
    "\n",
    "for i in range(1, len(array)):\n",
    "    for j in range(i, 0, -1):         # 인덱스를 감소해가며 정렬함\n",
    "        if array[j] < array[j-1]:     # 한 칸씩 왼쪽으로 이동\n",
    "            array[j], array[j-1] = array[j-1], array[j]\n",
    "        else:                         # 자신보다 작은 데이터를 만나면 반복 종료\n",
    "            break\n",
    "            \n",
    "print(array)"
   ]
  },
  {
   "cell_type": "markdown",
   "id": "9273ca5c",
   "metadata": {},
   "source": [
    "## 퀵 정렬\n",
    "- 가장 많이 사용되는 알고리즘\n",
    "- 병합 정렬만큼 빠름\n",
    "- 대부분의 프로그래밍 언어 정렬 라이브러리의 근간이 되는 알고리즘\n",
    "- 기준을 선정하고 큰 수와 작은 수를 교환한 후 리스트를 반으로 나누는 방식으로 동작\n",
    "- 이때 기준을 '**피벗**'이라고 하며, 피벗을 설정하는 방식에 따라 퀵 정렬을 구분\n",
    "- 여기선 리스트에서 첫 번째 데이터를 피벗으로 설정하는 **호어 분할 방식**을 사용함\n",
    "- 1차적으로 분할이 완료되면 피벗의 왼쪽엔 피벗보다 작은 데이터가, 오른쪽엔 큰 데이터가 위치한다 => 파티션\n",
    "- 피벗을 기준으로 왼쪽 리스트와 오른쪽 리스트 각각에 피벗을 설정하여 동일한 방식으로 정렬을 수행한다\n",
    "- 재귀 함수 형태로 작성하면 구현이 매우 간결해짐\n",
    "    - 종료 조건 : 현재 리스트의 데이터 개수가 1개인 경우\n",
    "- 시간 복잡도 : O(NlongN)\n",
    "    - 선택 정렬, 삽입 정렬에 비해 매우 빠른 알고리즘\n",
    "    - 단, 최악의 경우 시간 복잡도는 O(N&#42;2) => 이미 정렬되어 있는 경우\n",
    "   "
   ]
  },
  {
   "cell_type": "code",
   "execution_count": 1,
   "id": "528facfc",
   "metadata": {},
   "outputs": [
    {
     "name": "stdout",
     "output_type": "stream",
     "text": [
      "[0, 1, 2, 3, 4, 5, 6, 7, 8, 9]\n"
     ]
    }
   ],
   "source": [
    "# 가장 널리 사용되고 있는 직관적인 형태의 퀵 정렬 소스코드\n",
    "array = [5, 7, 9, 0, 3, 1, 6, 2, 4, 8]\n",
    "\n",
    "def quick_sort(array, start, end):\n",
    "    # 원소가 1개인 경우 종료\n",
    "    if start >= end:  \n",
    "        return\n",
    "    \n",
    "    #피벗은 첫 번째 원소로 설정 (호어 분할 방식)\n",
    "    pivot = start\n",
    "    \n",
    "    # 피벗을 제외하고 맨 왼쪽 요소와 오른쪽 끝 요소를 선택\n",
    "    left = start + 1\n",
    "    right = end\n",
    "    \n",
    "    while left <= right:\n",
    "        # 피벗보다 큰 데이터를 찾을 때까지 반복\n",
    "        while left <= end and array[left] <= array[pivot]:\n",
    "            left += 1\n",
    "            \n",
    "        # 피벗보다 작은 데이터를 찾을 때까지 반복\n",
    "        while right > start and array[right] >= array[pivot]:\n",
    "            right -= 1\n",
    "        \n",
    "        # 두 값이 엇갈리면 작은 데이터와 피벗을 교체\n",
    "        if left > right:\n",
    "            \n",
    "            # right가 계속 작은 값을 찾아가므로 right가 작은 데이터\n",
    "            array[right], array[pivot] = array[pivot], array[right]\n",
    "        \n",
    "        # 엇갈리지 않았다면 작은 데이터와 큰 데이터를 교체\n",
    "        else:\n",
    "            array[left], array[right] = array[right], array[left]\n",
    "            \n",
    "    # 분할 이후 왼쪽 리스트와 오른쪽 리스트에서 각각 정렬 수행 => 재귀적 호출\n",
    "    quick_sort(array, start, right-1)\n",
    "    quick_sort(array, right+1, end)\n",
    "    \n",
    "quick_sort(array, 0, len(array)-1)\n",
    "print(array)"
   ]
  },
  {
   "cell_type": "code",
   "execution_count": 4,
   "id": "b555879b",
   "metadata": {},
   "outputs": [
    {
     "name": "stdout",
     "output_type": "stream",
     "text": [
      "[0, 1, 2, 3, 4, 5, 6, 7, 8, 9]\n"
     ]
    }
   ],
   "source": [
    "# 파이썬의 장점을 살린 퀵 정렬 소스코드\n",
    "array = [5, 7, 9, 0, 3, 1, 6, 2, 4, 8]\n",
    "\n",
    "def quick_sort_py(array):\n",
    "    # 리스트가 하나 이하의 원소만을 담도 있다면 종료\n",
    "    if len(array) <= 1:\n",
    "        return array\n",
    "    \n",
    "    pivot = array[0]\n",
    "    \n",
    "    # 피벗을 제외한 리스트\n",
    "    tail = array[1:]\n",
    "    \n",
    "    left_side = [x for x in tail if x <= pivot]\n",
    "    right_side = [x for x in tail if x > pivot]\n",
    "    \n",
    "    # 분할 이후 왼쪽 부분과 오른쪽 부분에서 각각 정렬을 수행하고, 전체 리스트 반환\n",
    "    return quick_sort_py(left_side) + [pivot] + quick_sort_py(right_side)\n",
    "\n",
    "print(quick_sort_py(array))"
   ]
  },
  {
   "cell_type": "code",
   "execution_count": null,
   "id": "c9283cc3",
   "metadata": {},
   "outputs": [],
   "source": []
  },
  {
   "cell_type": "code",
   "execution_count": null,
   "id": "d49e8ea8",
   "metadata": {},
   "outputs": [],
   "source": []
  },
  {
   "cell_type": "code",
   "execution_count": null,
   "id": "b9f20856",
   "metadata": {},
   "outputs": [],
   "source": []
  },
  {
   "cell_type": "code",
   "execution_count": null,
   "id": "c0d39a62",
   "metadata": {},
   "outputs": [],
   "source": []
  },
  {
   "cell_type": "code",
   "execution_count": null,
   "id": "462b576e",
   "metadata": {},
   "outputs": [],
   "source": []
  },
  {
   "cell_type": "code",
   "execution_count": null,
   "id": "8ce6f409",
   "metadata": {},
   "outputs": [],
   "source": []
  },
  {
   "cell_type": "code",
   "execution_count": null,
   "id": "50221d1c",
   "metadata": {},
   "outputs": [],
   "source": []
  },
  {
   "cell_type": "code",
   "execution_count": null,
   "id": "37ecaff1",
   "metadata": {},
   "outputs": [],
   "source": []
  },
  {
   "cell_type": "code",
   "execution_count": null,
   "id": "dd10f2d3",
   "metadata": {},
   "outputs": [],
   "source": []
  },
  {
   "cell_type": "code",
   "execution_count": null,
   "id": "398d42b6",
   "metadata": {},
   "outputs": [],
   "source": []
  },
  {
   "cell_type": "code",
   "execution_count": null,
   "id": "1a401c19",
   "metadata": {},
   "outputs": [],
   "source": []
  },
  {
   "cell_type": "code",
   "execution_count": null,
   "id": "3546f119",
   "metadata": {},
   "outputs": [],
   "source": []
  }
 ],
 "metadata": {
  "kernelspec": {
   "display_name": "Python 3 (ipykernel)",
   "language": "python",
   "name": "python3"
  },
  "language_info": {
   "codemirror_mode": {
    "name": "ipython",
    "version": 3
   },
   "file_extension": ".py",
   "mimetype": "text/x-python",
   "name": "python",
   "nbconvert_exporter": "python",
   "pygments_lexer": "ipython3",
   "version": "3.9.7"
  }
 },
 "nbformat": 4,
 "nbformat_minor": 5
}
