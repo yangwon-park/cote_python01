{
 "cells": [
  {
   "cell_type": "markdown",
   "id": "0f41b47a",
   "metadata": {},
   "source": [
    "# Greedy 알고리즘\n",
    "- 탐욕법\n",
    "- 단순하지만 강력한 문제 해결 방법\n",
    "- 현재 상황에서 지금 당장 좋은 것만 고르는 방법\n",
    "- 사전에 외우고 있지 않아도 풀 수 잇을 가능성이 높은 문제 유형\n",
    "- **가장 큰 순서대로** 혹은 **가장 작은 순서대로**와 같은 기준을 알게 모르게 제시해줌\n",
    "    - 이 기준은 정렬 알고리즘을 사용했을 때 만족 가능 => 자주 정렬 알고리즘과 짝을 이루어 출제됨\n",
    "- 문제 풀이를 위한 최소한의 아이디어를 떠올리고 이것이 **정당한지 검토**할 수 있어야 답을 도출할 수 있음\n",
    "- 문제 유형 파악이 어렵다면 그리디 알고리즘 => 다이나믹 프로그래밍 or 그래프 알고리즘 등으로 고민"
   ]
  },
  {
   "cell_type": "markdown",
   "id": "5ea37709",
   "metadata": {},
   "source": [
    "# 문제"
   ]
  },
  {
   "cell_type": "markdown",
   "id": "e3deda91",
   "metadata": {},
   "source": [
    "## 01. 거스름돈 문제\n",
    "- 거슬러줘야 할 동전의 최소 개수 구하기 => 금액이 큰 동전부터 차례대로 거슬러 주면 최소 개수!!!\n",
    "- 가지고 있는 동준 중 큰 단위가 항상 작은 단위의 배수 => 작은 단위의 동전들을 종합해 다른 해가 나올 수 없다 => 정당성 확인\n"
   ]
  },
  {
   "cell_type": "code",
   "execution_count": 4,
   "id": "f90406ba",
   "metadata": {},
   "outputs": [
    {
     "name": "stdout",
     "output_type": "stream",
     "text": [
      "n : 5600\n"
     ]
    }
   ],
   "source": [
    "n = int((input(\"n : \")))"
   ]
  },
  {
   "cell_type": "code",
   "execution_count": 5,
   "id": "a39746f6",
   "metadata": {},
   "outputs": [
    {
     "name": "stdout",
     "output_type": "stream",
     "text": [
      "5600\n"
     ]
    }
   ],
   "source": [
    "print(n)"
   ]
  },
  {
   "cell_type": "code",
   "execution_count": 7,
   "id": "f1b9657c",
   "metadata": {},
   "outputs": [
    {
     "name": "stdout",
     "output_type": "stream",
     "text": [
      "0\n"
     ]
    }
   ],
   "source": [
    "count = 0\n",
    "\n",
    "# 화폐의 종류만큼 반복 수행 => 시간 복잡도 : O(K)\n",
    "# 일단 화폐를 내림차순으로 정렬해야함\n",
    "coin = [500, 100, 50, 10]\n",
    "\n",
    "for c in coin:\n",
    "    count += n // c\n",
    "    n %= c\n",
    "\n",
    "print(count)"
   ]
  },
  {
   "cell_type": "markdown",
   "id": "a1fc832a",
   "metadata": {},
   "source": [
    "## 02. 큰 수의 법칙\n",
    "- 가장 큰 수를 K번 더하고 두 번째로 큰 수를 한 번 더하는 연산 반복"
   ]
  },
  {
   "cell_type": "markdown",
   "id": "41238903",
   "metadata": {},
   "source": [
    "### 02-1 단순 답안"
   ]
  },
  {
   "cell_type": "code",
   "execution_count": 7,
   "id": "7e82e2a4",
   "metadata": {},
   "outputs": [
    {
     "name": "stdout",
     "output_type": "stream",
     "text": [
      "5 7 3\n",
      "2 4 5 4 6\n",
      "41\n"
     ]
    }
   ],
   "source": [
    "# n, m, k를 공백으로 구분하여 입력받음\n",
    "# n : 배열의 크기, m : 숫자가 더해지는 횟수, K : 해당 수가 연속으로 더해질 수 있는 최대 횟수\n",
    "n, m, k = map(int, input().split())\n",
    "\n",
    "# N개의 수를 공백으로 구분하여 입력받음\n",
    "data = list(map(int, input().split()))\n",
    "\n",
    "# 최종 결과를 저장할 변수\n",
    "result = 0\n",
    "\n",
    "data.sort()\n",
    "first = data[n-1]  # 정렬했으므로 가장 큰 수\n",
    "second = data[n-2] # 정렬했으므로 두 번째로 큰 수\n",
    "\n",
    "while True:\n",
    "    for i in range(k):\n",
    "        if m == 0:\n",
    "            break  # for문 탈출\n",
    "        result += first\n",
    "        m -= 1     # 횟수를 1회씩 줄여야 무한루프 탈출\n",
    "    if m == 0:\n",
    "        break      # while문 탈출\n",
    "    result += second\n",
    "    m -= 1         # 횟수를 1회씩 줄여야 무한루프 탈출\n",
    "        \n",
    "print(result)\n"
   ]
  },
  {
   "cell_type": "markdown",
   "id": "bd396bb1",
   "metadata": {},
   "source": [
    "### 02-2. 모범 답안\n",
    "- 위의 답안 경우, M의 범위가 매우 커지면 시간 초과 판정이 될 것"
   ]
  },
  {
   "cell_type": "code",
   "execution_count": 9,
   "id": "c63faa97",
   "metadata": {},
   "outputs": [
    {
     "name": "stdout",
     "output_type": "stream",
     "text": [
      "5 8 3\n",
      "2 4 5 4 6\n",
      "46\n"
     ]
    }
   ],
   "source": [
    "n, m, k = map(int, input().split())\n",
    "data = list(map(int, input().split()))\n",
    "\n",
    "data.sort()\n",
    "first = data[n-1]\n",
    "second = data[n-2]\n",
    "\n",
    "count = ((m // (k + 1)) * k) + (m % (k + 1))\n",
    "\n",
    "result = 0\n",
    "result += (count) * first\n",
    "result += (m - count) * second\n",
    "\n",
    "print(result)"
   ]
  },
  {
   "cell_type": "markdown",
   "id": "7db43671",
   "metadata": {},
   "source": [
    "## 03. 숫자 카드 게임\n",
    "- N x M 형태의 카드 중 뽑고자 하는 카드가 있는 행 선택 후, 그 행에서 가장 작은 숫자를 출력\n",
    "    - 각 행 기준으로 가장 낮은 숫자들 중에서 가장 높은 숫자를 뽑는 게임"
   ]
  },
  {
   "cell_type": "code",
   "execution_count": 112,
   "id": "96402971",
   "metadata": {},
   "outputs": [
    {
     "name": "stdout",
     "output_type": "stream",
     "text": [
      "2 4\n"
     ]
    }
   ],
   "source": [
    "n, m = map(int, input().split())"
   ]
  },
  {
   "cell_type": "code",
   "execution_count": 116,
   "id": "912d69d5",
   "metadata": {},
   "outputs": [],
   "source": [
    "data = [[0 for i in range(n)] for i in range(m)]"
   ]
  },
  {
   "cell_type": "code",
   "execution_count": 117,
   "id": "7137f3b1",
   "metadata": {},
   "outputs": [
    {
     "data": {
      "text/plain": [
       "[[0, 0], [0, 0], [0, 0], [0, 0]]"
      ]
     },
     "execution_count": 117,
     "metadata": {},
     "output_type": "execute_result"
    }
   ],
   "source": [
    "data"
   ]
  },
  {
   "cell_type": "code",
   "execution_count": 118,
   "id": "4dfcfea1",
   "metadata": {},
   "outputs": [
    {
     "name": "stdout",
     "output_type": "stream",
     "text": [
      "3 3 3 4\n",
      "3\n",
      "7 3 1 8\n",
      "3\n"
     ]
    }
   ],
   "source": [
    "result = 0\n",
    "\n",
    "for i in range(n):\n",
    "    # 안에서 돌려야 행마다 가장 작은 값을 뽑아냄\n",
    "    data = list(map(int, input().split()))\n",
    "    \n",
    "    min_value = min(data)\n",
    "    \n",
    "    result = max(result, min_value)\n",
    "    \n",
    "    print(result)"
   ]
  },
  {
   "cell_type": "code",
   "execution_count": 119,
   "id": "3c161092",
   "metadata": {},
   "outputs": [],
   "source": [
    "# list 전체에서 가장 작은 값 => min(map(min, data))\n",
    "\n",
    "# result = 0\n",
    "\n",
    "# 행 기준으로 뽑으니까 n(행)만큼만 반복\n",
    "# for i in range(n):\n",
    "#     min_value = min(map(min, data))"
   ]
  },
  {
   "cell_type": "code",
   "execution_count": 120,
   "id": "dfc5e983",
   "metadata": {},
   "outputs": [
    {
     "name": "stdout",
     "output_type": "stream",
     "text": [
      "3\n"
     ]
    }
   ],
   "source": [
    "print(result)"
   ]
  },
  {
   "cell_type": "markdown",
   "id": "8c80236f",
   "metadata": {},
   "source": [
    "## 04. 1이 될 때까지\n",
    "- N이 1이 될 때 까지\n",
    "    1. N에서 1을 뺀다\n",
    "    2. N을 K로 나눈다 (단, 나누어떨어질 때만 선택 가능)"
   ]
  },
  {
   "cell_type": "code",
   "execution_count": 149,
   "id": "fbf250c0",
   "metadata": {},
   "outputs": [
    {
     "name": "stdout",
     "output_type": "stream",
     "text": [
      "3 2\n"
     ]
    }
   ],
   "source": [
    "n, k = map(int, input().split())"
   ]
  },
  {
   "cell_type": "code",
   "execution_count": 150,
   "id": "dcb8becb",
   "metadata": {},
   "outputs": [],
   "source": [
    "cnt = 0\n",
    "\n",
    "while True:\n",
    "    if n == 1:\n",
    "        break\n",
    "    \n",
    "    if n % k == 0:\n",
    "        n = n // k\n",
    "        cnt += 1\n",
    "    else:\n",
    "        n -= 1\n",
    "        cnt += 1"
   ]
  },
  {
   "cell_type": "code",
   "execution_count": 151,
   "id": "3bf50f4d",
   "metadata": {},
   "outputs": [
    {
     "name": "stdout",
     "output_type": "stream",
     "text": [
      "2\n"
     ]
    }
   ],
   "source": [
    "print(cnt)"
   ]
  },
  {
   "cell_type": "code",
   "execution_count": 139,
   "id": "ac912873",
   "metadata": {},
   "outputs": [
    {
     "name": "stdout",
     "output_type": "stream",
     "text": [
      "3\n"
     ]
    }
   ],
   "source": [
    "result = 0\n",
    "\n",
    "while True:\n",
    "    target = (n // k ) * k\n",
    "    result += (n - target)\n",
    "    n = target\n",
    "    \n",
    "    if n < k:\n",
    "        break\n",
    "    \n",
    "    result += 1\n",
    "    n //= k\n",
    "\n",
    "result += (n-1)\n",
    "print(result)"
   ]
  }
 ],
 "metadata": {
  "kernelspec": {
   "display_name": "Python 3 (ipykernel)",
   "language": "python",
   "name": "python3"
  },
  "language_info": {
   "codemirror_mode": {
    "name": "ipython",
    "version": 3
   },
   "file_extension": ".py",
   "mimetype": "text/x-python",
   "name": "python",
   "nbconvert_exporter": "python",
   "pygments_lexer": "ipython3",
   "version": "3.9.7"
  }
 },
 "nbformat": 4,
 "nbformat_minor": 5
}
