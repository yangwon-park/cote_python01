{
 "cells": [
  {
   "cell_type": "markdown",
   "id": "7670f59f",
   "metadata": {},
   "source": [
    "# 동적 프로그래밍 (Dynamic Programming)\n",
    "- 특정 문제를 메모리 공간을 좀 더 사용하여 연산 속도를 비약적으로 증가시킬 수 있는 방법\n",
    "- 큰 문제를 작게 나누고, 같은 문제라면 한 번씩만 풀어 문제를 효율적으로 해결하는 알고리즘 기법\n",
    "- [나무 위키 참고](https://namu.wiki/w/%EB%8F%99%EC%A0%81%20%EA%B3%84%ED%9A%8D%EB%B2%95)\n",
    "- 선행 조건\n",
    "    1. 큰 문제를 작은 문제로 나눌 수 있다\n",
    "    2. 작은 문제에서 구한 정답은 그것을 포함하는 큰 문제에서도 동일하다\n",
    "- 방식\n",
    "    1. Top-Down\n",
    "        - 재귀 함수를 이용하여 작성하는 경우. 큰 문제를 해결하기 위해 작은 문제를 호출\n",
    "        - 스택 크기가 한정되어 있을 수도 있음 (sys 라이브러리의 setrecursionlimit() 함수 이용해서 완화)\n",
    "    2. Bottom-up (권장)\n",
    "        - 단순히 반복문을 이용하여 소스코드를 작성하는 경우. 작은 문제부터 차근 차근 답을 도출    "
   ]
  },
  {
   "cell_type": "markdown",
   "id": "f2f2277a",
   "metadata": {},
   "source": [
    "## 피보나치 수열\n",
    "- 동적 프로그래밍의 대표적인 예시"
   ]
  },
  {
   "cell_type": "markdown",
   "id": "85a4aa07",
   "metadata": {},
   "source": [
    "### 재귀 함수로 구현한 피보나치 수열\n",
    "- n이 커질수록 수행 시간이 기하급수적으로 늘어남\n",
    "- 시간 복잡도 : O(2**N)"
   ]
  },
  {
   "cell_type": "code",
   "execution_count": 14,
   "id": "bbaae4f5",
   "metadata": {},
   "outputs": [
    {
     "name": "stdout",
     "output_type": "stream",
     "text": [
      "3\n"
     ]
    }
   ],
   "source": [
    "def fibo(x):\n",
    "    if x==1 or x==2:\n",
    "        return 1\n",
    "    return fibo(x-1) + fibo(x-2)\n",
    "\n",
    "print(fibo(4))"
   ]
  },
  {
   "cell_type": "markdown",
   "id": "0c7becc4",
   "metadata": {},
   "source": [
    "### 메모이제이션(탑 다운) 기법을 사용한 피보나치 수열\n",
    "- 한 번 구한 결과를 메모리 공간에 메모해두고 같은 식을 다시 호출하면 메모한 결과를 가져오는 기법\n",
    "- 캐싱이라고도 한다\n",
    "- 한 번 구한 정보를 리스트에 저장\n",
    "- 시간 복잡도 : O(N)"
   ]
  },
  {
   "cell_type": "markdown",
   "id": "6e3c2489",
   "metadata": {},
   "source": [
    "#### 탑 다운 방식"
   ]
  },
  {
   "cell_type": "code",
   "execution_count": 11,
   "id": "690ebd2b",
   "metadata": {},
   "outputs": [
    {
     "name": "stdout",
     "output_type": "stream",
     "text": [
      "218922995834555169026\n"
     ]
    }
   ],
   "source": [
    "# 한 번 계산된 결과를 메모이제이션하기 위한 리스트 초기화\n",
    "d = [0] * 100\n",
    "\n",
    "# 피보나치 함수를 재귀함수로 구현\n",
    "def fibo(x):\n",
    "    if x == 1 or x == 2:\n",
    "        return 1\n",
    "    \n",
    "    # 이미 계산한 적 있는 문제라면 그대로 반환\n",
    "    if d[x] != 0:\n",
    "        return d[x]\n",
    "    \n",
    "    # 아직 계산하지 않은 문제라면 점화식에 따라서 피보나치 결과 반환\n",
    "    d[x] = fibo(x-1) + fibo(x-2)\n",
    "    return d[x]\n",
    "\n",
    "print(fibo(99))"
   ]
  },
  {
   "cell_type": "markdown",
   "id": "6aed12c0",
   "metadata": {},
   "source": [
    "#### 탑 다운 - 호출 되는 함수 확인"
   ]
  },
  {
   "cell_type": "code",
   "execution_count": 15,
   "id": "155f5f31",
   "metadata": {},
   "outputs": [
    {
     "name": "stdout",
     "output_type": "stream",
     "text": [
      "f(6) f(5) f(4) f(3) f(2) f(1) f(2) f(3) f(4) "
     ]
    },
    {
     "data": {
      "text/plain": [
       "8"
      ]
     },
     "execution_count": 15,
     "metadata": {},
     "output_type": "execute_result"
    }
   ],
   "source": [
    "d = [0] * 100\n",
    "\n",
    "def fibo(x):\n",
    "    print('f(' + str(x) + ')', end = ' ')\n",
    "    if x == 1 or x == 2:\n",
    "        return 1\n",
    "    if d[x] != 0:\n",
    "        return d[x]\n",
    "    \n",
    "    d[x] = fibo(x - 1) + fibo(x-2)\n",
    "    \n",
    "    return d[x]\n",
    "\n",
    "fibo(6)"
   ]
  },
  {
   "cell_type": "markdown",
   "id": "356c0899",
   "metadata": {},
   "source": [
    "#### 바텀 업 방식"
   ]
  },
  {
   "cell_type": "code",
   "execution_count": 9,
   "id": "db4104b3",
   "metadata": {},
   "outputs": [
    {
     "name": "stdout",
     "output_type": "stream",
     "text": [
      "218922995834555169026\n"
     ]
    }
   ],
   "source": [
    "d = [0] * 100 # 결과 저장용 리스트 (DP 리스트)\n",
    "\n",
    "d[1] = 1\n",
    "d[2] = 1\n",
    "n = 99\n",
    "\n",
    "for i in range(3, n+1):\n",
    "    d[i] = d[i - 1] + d[i - 2]\n",
    "    \n",
    "print(d[n])    "
   ]
  },
  {
   "cell_type": "markdown",
   "id": "97cfbaf2",
   "metadata": {},
   "source": [
    "# 문제"
   ]
  },
  {
   "cell_type": "markdown",
   "id": "897025a8",
   "metadata": {},
   "source": [
    "## 1. 1로 만들기\n",
    "- 4가지 연산을 통해 1을 만들 때, 연산을 사용하는 최소 횟수를 구해라\n",
    "- 모든 경우에 +1 이라는 숫자의 의미 \n",
    "  - DP 테이블에 최종적으로 연산 횟수를 저장한다\n",
    "  - 즉, 연산이 시행됐으면 1회만큼 늘려줘야하니까 +1을 더 해준다"
   ]
  },
  {
   "cell_type": "code",
   "execution_count": 67,
   "id": "8b03f802",
   "metadata": {},
   "outputs": [
    {
     "name": "stdout",
     "output_type": "stream",
     "text": [
      "40\n",
      "4\n"
     ]
    }
   ],
   "source": [
    "x = int(input())\n",
    "\n",
    "# 앞서 계산된 결과를 저장하기 위한 DP 테이블 초기화\n",
    "d = [0] * 30001\n",
    "\n",
    "# 바텀업 방식\n",
    "for i in range(2, x+1):\n",
    "    # 현재의 수에서 1을 빼는 경우\n",
    "    # 2, 3, 5 모두 나누어 떨어지지 않으면 남은건 -1 밖에 없다\n",
    "    # DP 테이블엔 횟수가 저장된다 => 그냥 -1 연산을 했다는 뜻은 단순히 1회가 증가했다는 뜻\n",
    "    d[i] = d[i - 1] + 1\n",
    "    \n",
    "    #아래 조건문 => 최솟값을 가지고 올 거기 때문에 \n",
    "    # 현재의 수가 2로 나누어 떨어지는 경우\n",
    "    if i % 2 == 0:\n",
    "        d[i] = min(d[i], d[i // 2] + 1)\n",
    "        \n",
    "    # 현재의 수가 3으로 나누어 떨어지는 경우\n",
    "    if i % 3 == 0:\n",
    "        d[i] = min(d[i], d[i // 3]) + 1\n",
    "        \n",
    "    # 현재의 수가 5로 나누어 떨어지는 경우\n",
    "    if i % 5 == 0:\n",
    "        d[i] = min(d[i], d[i // 5] + 1)\n",
    "\n",
    "        \n",
    "print(d[x])"
   ]
  },
  {
   "cell_type": "markdown",
   "id": "e90f49da",
   "metadata": {},
   "source": [
    "## 2. 개미 전사"
   ]
  },
  {
   "cell_type": "code",
   "execution_count": null,
   "id": "d7027dfe",
   "metadata": {},
   "outputs": [],
   "source": [
    "\n"
   ]
  },
  {
   "cell_type": "code",
   "execution_count": null,
   "id": "4f711ffe",
   "metadata": {},
   "outputs": [],
   "source": []
  },
  {
   "cell_type": "code",
   "execution_count": null,
   "id": "617a67de",
   "metadata": {},
   "outputs": [],
   "source": []
  },
  {
   "cell_type": "code",
   "execution_count": null,
   "id": "87086890",
   "metadata": {},
   "outputs": [],
   "source": []
  },
  {
   "cell_type": "code",
   "execution_count": null,
   "id": "d254977a",
   "metadata": {},
   "outputs": [],
   "source": []
  },
  {
   "cell_type": "code",
   "execution_count": null,
   "id": "864fc6d4",
   "metadata": {},
   "outputs": [],
   "source": []
  },
  {
   "cell_type": "code",
   "execution_count": null,
   "id": "005343b8",
   "metadata": {},
   "outputs": [],
   "source": []
  },
  {
   "cell_type": "code",
   "execution_count": null,
   "id": "6c045571",
   "metadata": {},
   "outputs": [],
   "source": []
  }
 ],
 "metadata": {
  "kernelspec": {
   "display_name": "Python 3 (ipykernel)",
   "language": "python",
   "name": "python3"
  },
  "language_info": {
   "codemirror_mode": {
    "name": "ipython",
    "version": 3
   },
   "file_extension": ".py",
   "mimetype": "text/x-python",
   "name": "python",
   "nbconvert_exporter": "python",
   "pygments_lexer": "ipython3",
   "version": "3.9.7"
  }
 },
 "nbformat": 4,
 "nbformat_minor": 5
}
