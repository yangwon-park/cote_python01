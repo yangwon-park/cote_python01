{
 "cells": [
  {
   "cell_type": "markdown",
   "id": "7c204202",
   "metadata": {},
   "source": [
    "# 순차 탐색\n",
    "- 가장 기본적인 탐색 방법\n",
    "- 리스트 안에 있는 특정한 데이터를 찾기 위해 앞에서부터 데이터를 하나씩 차례대로 확인하는 방법\n",
    "- 시간만 충분하다면 항상 원하는 원소를 찾을 수 있다 (정렬 상태에 상관없이 사용 가능)\n",
    "- 순차 탐색 사용\n",
    "    - 리스트에서 특정한 값을 가지는 원소의 개수를 세는 count() 메소드\n",
    "    - 리스트에서 특정 값의 원소가 있는지 체크할 때\n",
    "- 시간 복잡도 : O(N) (최악의 경우)"
   ]
  },
  {
   "cell_type": "code",
   "execution_count": 1,
   "id": "03b2d332",
   "metadata": {},
   "outputs": [
    {
     "name": "stdout",
     "output_type": "stream",
     "text": [
      "생성할 원소 개수를 입력한 다음 한 칸 띄우고 찾을 문자열을 입력하세요,\n",
      "5 Hey\n",
      "앞서 적은 원소 개수만큼 문자열을 입력하세요. 구분은 띄어쓰기 한 칸으로 합니다\n",
      "Hey how are you\n",
      "1\n"
     ]
    }
   ],
   "source": [
    "def sequential_search(n, target, array):\n",
    "    for i in range(n):\n",
    "        if array[i] == target:\n",
    "            return i + 1\n",
    "        \n",
    "print(\"생성할 원소 개수를 입력한 다음 한 칸 띄우고 찾을 문자열을 입력하세요,\")\n",
    "input_data = input().split()\n",
    "n = int(input_data[0])    # 원소의 개수\n",
    "target = input_data[1]    # 찾고자 하는 문자열\n",
    "\n",
    "print(\"앞서 적은 원소 개수만큼 문자열을 입력하세요. 구분은 띄어쓰기 한 칸으로 합니다\")\n",
    "array = input().split()\n",
    "\n",
    "print(sequential_search(n, target, array))"
   ]
  },
  {
   "cell_type": "markdown",
   "id": "ae3d938e",
   "metadata": {},
   "source": [
    "# 이진 탐색\n",
    "- 반으로 쪼개면서 탐색하기\n",
    "- 데이터가 **정렬되어 있어야만** 사용 가능\n",
    "- 위치를 나타내는 변수 3개 (시작점, 끝점, 중간점)을 사용\n",
    "- 찾으려는 데이터와 중간점 위치에 있는 데이터를 반복적으로 비교해서 원하는 데이터를 찾음\n",
    "- 절반씩 데이털르 줄어들도록 만든다는 점에서 퀵 정렬과 비슷\n",
    "- 재귀 함수 or 반복문을 이용한다\n",
    "- 시간 복잡도 : O(logN)"
   ]
  },
  {
   "cell_type": "markdown",
   "id": "1580c372",
   "metadata": {},
   "source": [
    "## 재귀 함수를 이용한 이진 탐색"
   ]
  },
  {
   "cell_type": "code",
   "execution_count": 2,
   "id": "27e4fbb4",
   "metadata": {},
   "outputs": [
    {
     "name": "stdout",
     "output_type": "stream",
     "text": [
      "10 7\n",
      "1 3 5 7 9 11 13 15 17 19\n",
      "4\n"
     ]
    }
   ],
   "source": [
    "def binary_search(array, target, start, end):\n",
    "    if start > end:\n",
    "        # 시작점과 끝점이 교차되면 종료\n",
    "        return None\n",
    "    # 중간점 생성\n",
    "    mid = (start + end) // 2\n",
    "    \n",
    "    # 중간점 값 == 타겟 => 중간점 인덱스 반환\n",
    "    if array[mid] == target:\n",
    "        return mid\n",
    "    # 중간점 값 > 타겟 => 왼쪽 확인\n",
    "    # 중간점이 끝점이 됨\n",
    "    elif array[mid] > target:\n",
    "        return binary_search(array, target, start, mid - 1)\n",
    "    else:\n",
    "        return binary_search(array, target, mid + 1, end)\n",
    "    \n",
    "n, target = list(map(int, input().split()))\n",
    "\n",
    "array = list(map(int, input().split()))\n",
    "\n",
    "# 이진 탐색 결과 출력\n",
    "result = binary_search(array, target, 0, n-1)\n",
    "\n",
    "if result == None:\n",
    "    print(\"원소가 존재하지 않습니다\")\n",
    "else:\n",
    "    print(result + 1)"
   ]
  },
  {
   "cell_type": "markdown",
   "id": "c448ba05",
   "metadata": {},
   "source": [
    "## 반복문으로 구현한 이진 탐색"
   ]
  },
  {
   "cell_type": "code",
   "execution_count": 3,
   "id": "b0ddf14a",
   "metadata": {},
   "outputs": [
    {
     "name": "stdout",
     "output_type": "stream",
     "text": [
      "10 7\n",
      "1 3 5 7 9 11 13 15 17 19\n",
      "4\n"
     ]
    }
   ],
   "source": [
    "def binary_search(array, target, start, end):\n",
    "    # 시작점과 끝점이 교차하면 종료\n",
    "    while start <= end:\n",
    "        mid = (start+ end) // 2\n",
    "        \n",
    "        # 중간값과 타겟이 일치하면 탐색 완료\n",
    "        if array[mid] == target:\n",
    "            return mid\n",
    "        # 중간점 값 > 타겟 => 왼쪽 확인\n",
    "        # 중간점 앞의 점이 끝점이 됨\n",
    "        elif array[mid] >  target:\n",
    "            end = mid - 1\n",
    "        else:\n",
    "        # 중간점 뒤의 점이 시작점이 됨\n",
    "            start = mid + 1\n",
    "\n",
    "    return None\n",
    "\n",
    "n, target = list(map(int, input().split()))\n",
    "array = list(map(int, input().split()))\n",
    "\n",
    "result = binary_search(array, target, 0, n-1)\n",
    "\n",
    "if result == None:\n",
    "    print(\"원소가 존재하지 않습니다\")\n",
    "else:\n",
    "    print(result+1)"
   ]
  },
  {
   "cell_type": "markdown",
   "id": "40baf626",
   "metadata": {},
   "source": [
    "# 코딩 테스트에서의 이진 탐색\n",
    "- 단순하다고 느낄 수 있지만 참고할 소스코드가 없는 상태에서 구현하는 건 생각보다 어렵다\n",
    "- 코딩 테스트에서 단골로 나오는 문제이므로 가급적으로 외우자\n",
    "- 탐색 범위가 2000만을 넘어가면 이진 탐색 문제로 접근해보자\n",
    "- 처리해야 할 데이터의 개수나 값이 1000만 단위 이상으로 넘어가면 이진 탐색과 같이 O(logN)의 속도를 내야하는 알고리즘을 사용하자"
   ]
  },
  {
   "cell_type": "markdown",
   "id": "d2c8786c",
   "metadata": {},
   "source": [
    "# 트리 자료구조\n",
    "- 노드와 노드의 연결로 표현하며 그래프 자료구조의 일종\n",
    "- DB 시스템이나 파일 시스템과 같은 곳에서 많은 양의 데이터를 관리하기 위한 목적으로 사용\n",
    "- 주요 특징\n",
    "    1. 부모 노드와 자식 노드의 관계로 표현\n",
    "    2. 최상단 노드 : 루트 노드\n",
    "    3. 최하단 노드 : 단말 노드\n",
    "    4. 트리에서 일부를 때어내도 트리 구조이며 이를 서브 트리라고 한다\n",
    "    5. 계층적이고 정렬된 데이터를 다루기에 적합하다"
   ]
  },
  {
   "cell_type": "markdown",
   "id": "f402109c",
   "metadata": {},
   "source": [
    "# 이진 탐색 트리\n",
    "- 트리 자료구조 중 가장 간단한 형태\n",
    "- 주요 특징    \n",
    "    1. 부모 노드보다 왼쪽 자식 노드의 값이 작다\n",
    "    2. 부목 노드보다 오른쪽 자식 노드의 값이 크다\n"
   ]
  },
  {
   "cell_type": "markdown",
   "id": "a07d52e2",
   "metadata": {},
   "source": [
    "# 빠르게 입력받기\n",
    "- 이진 탐색 문제는 입력 데이터가 많거나, 탐색 범위가 넓은 편\n",
    "- 이 경우, input() 함수는 동작 속도가 느리므로 sys 라이브러이의 readline() 함수를 이용하자"
   ]
  },
  {
   "cell_type": "code",
   "execution_count": 9,
   "id": "ed08313f",
   "metadata": {},
   "outputs": [
    {
     "name": "stdout",
     "output_type": "stream",
     "text": [
      "\n"
     ]
    }
   ],
   "source": [
    "import sys\n",
    "\n",
    "# 개행 문자까 함께 입력되므로 rstrip()을 사용\n",
    "input_d = sys.stdin.readline().rstrip()\n",
    "\n",
    "print(input_d)"
   ]
  },
  {
   "cell_type": "markdown",
   "id": "f19e19a1",
   "metadata": {},
   "source": [
    "# 문제"
   ]
  },
  {
   "cell_type": "markdown",
   "id": "d5da8d35",
   "metadata": {},
   "source": [
    "## 1. 부품 찾기\n",
    "- 가게 안에 부품이 모두 있는지 확인하는 프로그램 작성"
   ]
  },
  {
   "cell_type": "markdown",
   "id": "cb85ed25",
   "metadata": {},
   "source": [
    "### 1-1. 내 풀이\n",
    "- 탐색 대상이 되는 parts를 list로 구현했는데 문제 요구사항 + 성능 면에서 set으로 바꿔주는게 더 좋다"
   ]
  },
  {
   "cell_type": "code",
   "execution_count": 36,
   "id": "d87e9ea7",
   "metadata": {},
   "outputs": [
    {
     "name": "stdout",
     "output_type": "stream",
     "text": [
      "5\n",
      "8 3 7 9 2\n",
      "3\n",
      "5 7 9\n",
      "no yes yes "
     ]
    }
   ],
   "source": [
    "n = int(input())\n",
    "parts = list(map(int, input().split()))\n",
    "    \n",
    "m = int(input())\n",
    "wants = list(map(int, input().split()))\n",
    "\n",
    "for i in wants:\n",
    "    if i in parts:\n",
    "        print('yes', end = ' ')\n",
    "    else:\n",
    "        print('no', end = ' ')"
   ]
  },
  {
   "cell_type": "markdown",
   "id": "ff17e47e",
   "metadata": {},
   "source": [
    "### 1-2. 이진 탐색 풀이\n",
    "- 부품의 개수가 많은 경우 시간 복잡도를 줄이기 위해 이진 탐색 사용"
   ]
  },
  {
   "cell_type": "code",
   "execution_count": 25,
   "id": "bcad2a0e",
   "metadata": {},
   "outputs": [
    {
     "name": "stdout",
     "output_type": "stream",
     "text": [
      "5\n",
      "8 3 7 9 2\n",
      "3\n",
      "5 7 9\n",
      "no yes yes "
     ]
    }
   ],
   "source": [
    "# 이진 탐색 소스 코드 구현 (반복문)\n",
    "def binary_search(array, target, start, end):\n",
    "    while start <= end:\n",
    "        mid = (start + end) // 2\n",
    "        \n",
    "        if array[mid] == target:\n",
    "            return mid\n",
    "        elif array[mid] > target:\n",
    "            end = mid - 1\n",
    "        else:\n",
    "            start = mid + 1\n",
    "    return None\n",
    "\n",
    "# 부품 리스트\n",
    "n = int(input())\n",
    "parts = list(map(int, input().split()))\n",
    "\n",
    "# 손님이 찾는 부품 리스트\n",
    "m = int(input())\n",
    "wants = list(map(int, input().split()))\n",
    "\n",
    "# 이진 탐색을 수행하기 위해 정렬 실행\n",
    "parts.sort()\n",
    "\n",
    "for i in wants:\n",
    "    # 해당 부품이 존재하는지 확인\n",
    "    result = binary_search(parts, i, 0, n-1)\n",
    "    if result != None:\n",
    "        print('yes', end = ' ')\n",
    "    else:\n",
    "        print('no', end = ' ')"
   ]
  },
  {
   "cell_type": "markdown",
   "id": "7f80dfd7",
   "metadata": {},
   "source": [
    "### 1-3. 계수 정렬 풀이\n",
    "1. 모든 원소의 번호를 포함할 수 있는 크기의 리스트를 만듬 \n",
    "2. 리스트의 인덱스에 직접 접근하여 특정한 번호의 부품이 매장에 존재하는지 확인"
   ]
  },
  {
   "cell_type": "code",
   "execution_count": 29,
   "id": "1cba507b",
   "metadata": {},
   "outputs": [
    {
     "name": "stdout",
     "output_type": "stream",
     "text": [
      "5\n",
      "8 3 7 9 2\n",
      "3\n",
      "5 7 9\n",
      "no yes yes "
     ]
    }
   ],
   "source": [
    "# 부품 리스트\n",
    "n = int(input())\n",
    "\n",
    "# 모든 원소의 번호 포함 가능한 리스트\n",
    "array = [0] * 10001\n",
    "\n",
    "# 가게에 있는 전체 부품 번호를 입력받아서 기록\n",
    "for i in input().split():\n",
    "    array[int(i)] = 1\n",
    "    \n",
    "\n",
    "# 손님이 찾는 부품 리스트\n",
    "m = int(input())\n",
    "wants = list(map(int, input().split()))\n",
    "\n",
    "    \n",
    "for i in wants:\n",
    "    if array[i] == 1:\n",
    "        print('yes', end = ' ')\n",
    "    else:\n",
    "        print('no', end = ' ')"
   ]
  },
  {
   "cell_type": "markdown",
   "id": "c4b1b817",
   "metadata": {},
   "source": [
    "### 1-4. 집합 자료형 (Set) 이용 풀이\n",
    "- 단순히 특정한 수가 한 번이라도 등장했는지를 검사할 때 set을 효과적이게 사용할 수 있다\n",
    "- 많은 양의 데이터를 in으로 탐색할 때 list보다 set이 성능이 더 좋다"
   ]
  },
  {
   "cell_type": "code",
   "execution_count": 38,
   "id": "4d6ae414",
   "metadata": {},
   "outputs": [
    {
     "name": "stdout",
     "output_type": "stream",
     "text": [
      "5\n",
      "8 3 7 9 2\n",
      "3\n",
      "5 7 9\n",
      "no yes yes "
     ]
    }
   ],
   "source": [
    "n = int(input())\n",
    "parts = set(map(int, input().split()))\n",
    "    \n",
    "m = int(input())\n",
    "wants = list(map(int, input().split()))\n",
    "\n",
    "for i in wants:\n",
    "    if i in parts:\n",
    "        print('yes', end = ' ')\n",
    "    else:\n",
    "        print('no', end = ' ')"
   ]
  },
  {
   "cell_type": "markdown",
   "id": "e1b3ac24",
   "metadata": {},
   "source": [
    "## 2. 떡볶이 떡 만들기\n",
    "- 절단기 높이 H에 맞춰 적어도 손님이 요구한 떡의 총 길이 M만큼의 떡을 제공하기 위해 설정할 수 있는 H의 최댓값을 구하는 프로그램\n",
    "- 전형적인 이진 탐색 문제이자 파라메트릭 서치 문제\n",
    "- 적절한 높이를 찾을 때까지 절단기 높이 H를 반복해 조정\n",
    "- H의 범위는 1 ~ 10억까지의 정수 중 하나 => 당연하다는 듯이 이진 탐색을 먼저 떠올려야 한다\n",
    "\n",
    "### 파라메트릭 서치\n",
    "- 최적화 문제를 결정 문제(yes or no)로 바꾸어 해결하는 기법\n",
    "- 원하는 조건을 만족하는 가장 알맞은 값을 찾는 문제에 주로 사용\n",
    "- 범위 내 조건을 만족하는 가장 큰 값을 찾으라는 최적화 문제인 경우, 이진 탐색으로 범위를 좁혀나갈 수 있음\n",
    "- 이 유형의 경우, 이진 탐색을 재귀적으로 구현하지 않고 반복문을 이용해 구현해야 더 간결"
   ]
  },
  {
   "cell_type": "code",
   "execution_count": 43,
   "id": "c3126e6d",
   "metadata": {},
   "outputs": [
    {
     "name": "stdout",
     "output_type": "stream",
     "text": [
      "4 6\n",
      "19 10 17 15\n",
      "15\n"
     ]
    }
   ],
   "source": [
    "# 떡의 갯수 : n, 요청한 떡의 길이 m\n",
    "n, m = map(int, input().split())\n",
    "\n",
    "list_ = list(map(int, input().split()))\n",
    "\n",
    "# 이진 탐색을 위한 시작점과 끝점 설정\n",
    "# 당연히 절단기의 높이는 0 ~ 가장 긴 떡의 길이 안에 있어야 한다\n",
    "start = 0\n",
    "end = max(list_)\n",
    "\n",
    "result = 0\n",
    "while(start <= end):\n",
    "    total = 0\n",
    "    # 중간값 => 계속 해서 최적화 시켜줄 H에 해당\n",
    "    mid = (start + end) // 2\n",
    "    \n",
    "    for x in list_:\n",
    "        # 잘랐을 때 떡의 양 계산\n",
    "        if x > mid:\n",
    "            total += x - mid\n",
    "    \n",
    "    # 떡의 양이 부족한 경우 더 많이 자르기 (왼쪽 부분 탐색)\n",
    "    if total < m:\n",
    "        end = mid - 1\n",
    "    # 떡의 양이 충분한 경우 덜 자르기(오른쪽 부분 탐색)\n",
    "    else:\n",
    "        result = mid # 최대한 덜 잘랐을 때가 정답\n",
    "        start = mid + 1\n",
    "        \n",
    "print(result)"
   ]
  }
 ],
 "metadata": {
  "kernelspec": {
   "display_name": "Python 3 (ipykernel)",
   "language": "python",
   "name": "python3"
  },
  "language_info": {
   "codemirror_mode": {
    "name": "ipython",
    "version": 3
   },
   "file_extension": ".py",
   "mimetype": "text/x-python",
   "name": "python",
   "nbconvert_exporter": "python",
   "pygments_lexer": "ipython3",
   "version": "3.9.7"
  }
 },
 "nbformat": 4,
 "nbformat_minor": 5
}
