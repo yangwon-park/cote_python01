{
 "cells": [
  {
   "cell_type": "markdown",
   "id": "9fe865a4",
   "metadata": {},
   "source": [
    "# 기타 그래프 알고리즘\n",
    "- 노드와 노드 사이에 연결된 간선의 정보를 가지고 있는 자료구조\n",
    "- 알고리즘 문제를 접했을 때 **'서로 다른 객체(혹은 객체)가 연결되어 있다'**는 이야기를 들으면 그래프 알고리즘을 떠올려라"
   ]
  },
  {
   "cell_type": "markdown",
   "id": "1b880d44",
   "metadata": {},
   "source": [
    "## 00-1. 인접 행렬 vs 인접 리스트\n",
    "- 노드 개수 V, 간선 개수 E"
   ]
  },
  {
   "cell_type": "markdown",
   "id": "5c481c08",
   "metadata": {},
   "source": [
    "||**인접 형렬**|**인접 리스트**|\n",
    "|:----:|:----:|:----:\n",
    "**방식**|2차원 배열|리스트\n",
    "**공간 복잡도**|O(v**2)|O(E)\n",
    "**시간 복잡도**|O(1)|O(V)\n",
    "**알고리즘**|플로이드 워셜|다익스트라\n",
    "\n",
    "\n",
    "\n"
   ]
  },
  {
   "cell_type": "markdown",
   "id": "a2c3fd6d",
   "metadata": {},
   "source": [
    "## 00-2. 서로소 집합 자료구조\n",
    "- 서로소 집합\n",
    "    - 공통 원소가 없는 두 집합\n",
    "- 서로소 부분 집합들로 나누어진 원소들의 데이터를 처리하기 위한 자료구조\n",
    "- union(합집합)과 find(찾기) 연산으로 구성 (**union-find** 자료구조라고도 불림)\n",
    "- 트리 자료구조를 이용하여 표현\n",
    "    1. union 연산을 확인하여 서로 연결된 두 노드 A, B를 확인\n",
    "        1. A와 B의 루트 노드 A', B'를 각각 찾음\n",
    "        2. A'를 B'의 부모 노드로 설정(B'가 A'를 가리키도록 한다) (더 작은 원소가 부모 노드)\n",
    "    2. 모든 union 연산을 처리할 때까지 1번 과정 반복\n",
    "- union 연산들은 **그래프 형태로 표현 가능** (**실제로 원소의 집합 정보를 표현할 땐 트리 사용**)\n",
    "    - 효과적은 수행을 위해 **부모 테이블**을 항상 가지고 있어야 함\n",
    "    - 루트 노드를 즉시 계산할 수 없고, 부모 테이블을 계속 확인하며 거슬러 올라가야 함"
   ]
  },
  {
   "cell_type": "markdown",
   "id": "b988cacb",
   "metadata": {},
   "source": [
    "### 기본적인 서로소 집합 알고리즘 소스 코드\n",
    "- find 함수가 비효율적으로 동작 (V: 노드의 개수, M: union 연산의 개수일 때 => O(VM))\n",
    "- 경로 압축을 하여 효율적이게 변경 (해당 노드의 루트 노드를 바로 부모 노드로 설정)\n",
    "    ```python\n",
    "    return find_parent(parent, parent[x]) => parent[x] = find_parent(parent, parent[x])\n",
    "    ```"
   ]
  },
  {
   "cell_type": "code",
   "execution_count": 3,
   "id": "ad6374ca",
   "metadata": {},
   "outputs": [
    {
     "name": "stdout",
     "output_type": "stream",
     "text": [
      "6 4\n",
      "1 4\n",
      "2 3\n",
      "2 4\n",
      "5 6\n",
      "각 원소가 속한 집합 : 1 1 1 1 5 5 \n",
      "부모 테이블 : 1 1 2 1 5 5 "
     ]
    }
   ],
   "source": [
    "# 노드의 개수와 간선의 개수 입력받기\n",
    "v, e = map(int, input().split())\n",
    "\n",
    "# 부모 테이블 초기화\n",
    "parent = [0] * (v+1)\n",
    "\n",
    "# 부모 테이블상에서, 부모를 자기 자신으로 초기화\n",
    "for i in range(1, v+1):\n",
    "    parent[i] = i\n",
    "\n",
    "# 특정 원소가 속한 집합을 찾기 (루트 노드 찾기)\n",
    "def find_parent(parent, x):\n",
    "    \n",
    "    # 루트 노드가 아니라면, 루트 노드를 찾을 때까지 재귀적으로 호출\n",
    "    if parent[x] != x:\n",
    "        \n",
    "        # 경로 압축 부분\n",
    "        # return find_parent(parent, parent[x])\n",
    "        parent[x] = find_parent(parent, parent[x])\n",
    "    return x\n",
    "\n",
    "# 두 원소가 속한 집합을 합치기\n",
    "def union_parent(parent, a, b):\n",
    "    a = find_parent(parent, a)\n",
    "    b = find_parent(parent, b)\n",
    "    \n",
    "    # 더 작은 수가 부모 노드가 됨\n",
    "    if a < b:\n",
    "        parent[b] = a\n",
    "    else:\n",
    "        parent[a] = b\n",
    "    \n",
    "# union 연산을 각각 수행\n",
    "for i in range(e):\n",
    "    a, b = map(int, input().split())\n",
    "    union_parent(parent, a, b)\n",
    "    \n",
    "# 각 원소가 속한 집합 출력\n",
    "print('각 원소가 속한 집합 : ', end='')\n",
    "for i in range(1, v+1):\n",
    "    print(find_parent(parent, i ), end=' ')\n",
    "    \n",
    "print()\n",
    "\n",
    "# 부모 테이블 내용 출력\n",
    "print('부모 테이블 : ', end='')\n",
    "for i in range(1, v+1):\n",
    "    print(parent[i], end=' ')"
   ]
  },
  {
   "cell_type": "markdown",
   "id": "10ceff28",
   "metadata": {},
   "source": [
    "### 서로소 집합을 활용한 사이클 판별\n",
    "- 간선을 하나씩 확인하면서 두 노드가 포함되어 있는 집합을 합치는 과정을 반복하여 사이클 판별\n",
    "- 과정\n",
    "    1. 각 간선을 확인하며 두 노드의 루트 노드를 확인\n",
    "        1. 루트 노드가 서로 다르다면 두 노드에 대하여 union 연산 수행\n",
    "        2. 루트 노드가 서로 같다면 사이클이 발생한 것\n",
    "    2. 그래프에 포함되어 있는 모든 간선에 대하여 1번 과정을 반복\n",
    "- 방향성이 없는 무향 그래프에서만 적용 가능"
   ]
  },
  {
   "cell_type": "code",
   "execution_count": 7,
   "id": "95125c9b",
   "metadata": {},
   "outputs": [
    {
     "name": "stdout",
     "output_type": "stream",
     "text": [
      "3 3\n",
      "1 2\n",
      "1 3\n",
      "2 3\n",
      "사이클이 발생했습니다\n"
     ]
    }
   ],
   "source": [
    "# 특정 원소가 속한 집합 찾기\n",
    "def find_parent(parent, x):\n",
    "    \n",
    "    # 루트 노드가 아니면, 루트 노드를 찾을 때까지 재귀적으로 호출\n",
    "    if parent[x] != x:\n",
    "        parent[x] = find_parent(parent, parent[x])\n",
    "    return parent[x]\n",
    "\n",
    "# 두 원소가 속한 집합 합치기\n",
    "def union_parent(parent, a, b):\n",
    "    a = find_parent(parent, a)\n",
    "    b = find_parent(parent, b)\n",
    "    \n",
    "    if a < b:\n",
    "        parent[b] = a\n",
    "    else:\n",
    "        parent[a] = b\n",
    "    \n",
    "# 노드의 개수와 간선의 개수 입력받기\n",
    "v, e = map(int, input().split())\n",
    "           \n",
    "# 부모 테이블 초기화\n",
    "parent = [0] * (v+1)\n",
    "           \n",
    "# 부모 테이블상에서 부모를 자기 자신으로 초기화\n",
    "for i in range(1, v+1):\n",
    "    parent[i] = i\n",
    "    \n",
    "    \n",
    "# 사이클 발생 여부\n",
    "cycle = False\n",
    "\n",
    "for i in range(e):\n",
    "    a, b = map(int, input().split())\n",
    "    \n",
    "    # 사이클이 발생한 경우 종료\n",
    "    if find_parent(parent, a) == find_parent(parent, b):\n",
    "        cycle = True\n",
    "        break\n",
    "    # 사이클이 발생하지 않았다면 union 수행\n",
    "    else:\n",
    "        union_parent(parent, a, b)\n",
    "\n",
    "if cycle:\n",
    "    print(\"사이클이 발생했습니다\")\n",
    "else:\n",
    "    print(\"사이클이 발생하지 않았습니다\")"
   ]
  },
  {
   "cell_type": "markdown",
   "id": "1a419da7",
   "metadata": {},
   "source": [
    "## 01. 신장 트리\n",
    "- 하나의 그래프가 있을 때 모든 노드를 포함하면서 사이클이 존재하지 않는 부분 그래프\n",
    "- **모든 노드가 포함되어 서로 연결되면서 사이클이 존재하지 않는다** => 트리의 성립 조건\n",
    "- **최소 신장 트리**\n",
    "    - 신장 트리 중 최소 비용으로 만들 수 있는 신장 트리\n",
    "    - 최종 간선의 개수 == 노드의 개수 - 1"
   ]
  },
  {
   "cell_type": "markdown",
   "id": "9982b240",
   "metadata": {},
   "source": [
    "### 01-1. 크루스칼 알고리즘\n",
    "- 대표적인 최소 신장 트리 알고리즘\n",
    "- 가장 적은 비용으로 모든 노드를 연결할 수 있음 (그리디 알고리즘으로 분류)\n",
    "- 모든 간선에 대하여 정렬을 수행한 뒤, **가장 거리가 짧은 간선부터** 집합에 포함 (사이클 발생 간선은 제외)\n",
    "    1. 간선 데이터를 비용에 따라 오름차순으로 정렬\n",
    "    2. 간선을 하나씩 확인하며 현재의 간선이 사이클을 발생시키는지 확인\n",
    "        - 사이클이 발생하지 않는 경우에만 최소 신장 트리에 포함\n",
    "    3. 모든 간선에 대하여 2번 과정을 반복\n",
    "- 시간 복잡도 : O(ElogE)"
   ]
  },
  {
   "cell_type": "code",
   "execution_count": 2,
   "id": "2160166f",
   "metadata": {},
   "outputs": [
    {
     "name": "stdout",
     "output_type": "stream",
     "text": [
      "7 9\n",
      "1 2 29\n",
      "1 5 75\n",
      "2 3 35\n",
      "2 6 34\n",
      "3 4 7\n",
      "4 6 23\n",
      "4 7 13\n",
      "5 6 53\n",
      "6 7 25\n",
      "159\n"
     ]
    }
   ],
   "source": [
    "def find_parent(parent, x):\n",
    "    if parent[x] != x:\n",
    "        parent[x] = find_parent(parent, parent[x])\n",
    "    return parent[x]\n",
    "\n",
    "def union_parent(parent, a, b):\n",
    "    a = find_parent(parent, a)\n",
    "    b = find_parent(parent, b)\n",
    "    \n",
    "    if a < b:\n",
    "        parent[b] = a\n",
    "    else:\n",
    "        parent[a] = b\n",
    "        \n",
    "v, e = map(int, input().split())\n",
    "parent = [0] * (v+1)\n",
    "\n",
    "# 모든 간선을 담을 리스트\n",
    "edges = []\n",
    "\n",
    "# 최종 비용을 담을 변수\n",
    "result = 0\n",
    "\n",
    "for i in range(1, v+1):\n",
    "    parent[i] = i\n",
    "    \n",
    "for _ in range(e):\n",
    "    a, b, cost = map(int, input().split())\n",
    "    \n",
    "    # 비용순으로 정렬하기 위해서 튜플의 첫 번째 원소를 비용으로 설정\n",
    "    edges.append((cost, a, b))\n",
    "    \n",
    "# 간선을 비용순으로 정렬\n",
    "edges.sort()\n",
    "\n",
    "# 간선을 하나씩 확인\n",
    "for edge in edges:\n",
    "    cost, a, b = edge\n",
    "    \n",
    "    # 사이클이 발생하지 않는 경우에만 집합에 포함\n",
    "    if find_parent(parent,a ) != find_parent(parent, b):\n",
    "        union_parent(parent, a, b)\n",
    "        result += cost\n",
    "        \n",
    "print(result)"
   ]
  },
  {
   "cell_type": "markdown",
   "id": "5558ee4c",
   "metadata": {},
   "source": [
    "## 02. 위상 정렬\n",
    "- 순서가 정해져 있는 일련의 작업을 차례대로 수행해야 할 때 사용할 수 있는 알고리즘\n",
    "- 방향 그래프의 모든 노드를 **방향성에 거스리지 않도록 순서대로 나열**하는 정렬\n",
    "- 그래프상에서 전후 관계가 있다면, 위상 정렬을 수행하여 모든 선후 관계를 지키는 전체 순서를 계산할 수 있음\n",
    "- 답안이 여러 가지로 나올 수 있음\n",
    "- 진입차수\n",
    "    - 특정한 노드로 **들어오는** 간선의 개수\n",
    "- 과정\n",
    "    1. 진입차수가 0인 노드를 큐에 넣음\n",
    "    2. 큐가 빌 때까지 다음의 과정을 반복\n",
    "        1. 큐에서 원소를 꺼내 노드에서 출발하는 간선을 그래프에서 제거\n",
    "        2. 새롭게 진입차수가 0이 된 노드를 큐에 넣음\n",
    "        3. 이때, 모든 원소를 방문하기 전에 큐가 빈다 => 사이클이 발생\n",
    "- 시간 복잡도 : O(V+E)"
   ]
  },
  {
   "cell_type": "code",
   "execution_count": 3,
   "id": "40498768",
   "metadata": {},
   "outputs": [
    {
     "name": "stdout",
     "output_type": "stream",
     "text": [
      "7 8\n",
      "1 2\n",
      "1 5\n",
      "2 3\n",
      "2 6\n",
      "3 4\n",
      "4 7\n",
      "5 6\n",
      "6 4\n",
      "1 2 5 3 6 4 7 "
     ]
    }
   ],
   "source": [
    "from collections import deque\n",
    "\n",
    "v, e = map(int, input().split())\n",
    "\n",
    "# 모든 노드에 대한 진입차수 0으로 초기화\n",
    "indegree = [0] * (v+1)\n",
    "\n",
    "# 각 노드에 연결된 간선 정보를 담기 위한 연결 리스트(그래프) 초기화\n",
    "graph = [[] for i in range(v+1)]\n",
    "\n",
    "# 방향 그래프의 모든 간선 정보를 입력받기\n",
    "for _ in range(e):\n",
    "    a, b = map(int, input().split())\n",
    "    \n",
    "    # 정점 A에서 B로 이동 가능\n",
    "    graph[a].append(b)\n",
    "    \n",
    "    # 진입차수를 1 증가\n",
    "    indegree[b] += 1\n",
    "    \n",
    "# 위상 정렬 함수\n",
    "def topology_sort():\n",
    "    \n",
    "    # 알고리즘 수행 결과를 담을 리스트\n",
    "    result = []\n",
    "    \n",
    "    q = deque()\n",
    "    \n",
    "    # 처음 시작할 때는 진입차수가 0인 노드를 큐에 삽입\n",
    "    for i in range(1, v+1):\n",
    "        if indegree[i] == 0:\n",
    "            q.append(i)\n",
    "            \n",
    "    while q:\n",
    "        now = q.popleft()\n",
    "        \n",
    "        # 알고리즘 수행 결과 리스트에 노드 추가\n",
    "        result.append(now)\n",
    "        \n",
    "        # 해당 원소와 연결된 노드들의 진입차수에서 1 빼기\n",
    "        for i in graph[now]:\n",
    "            indegree[i] -= 1\n",
    "            \n",
    "            # 새롭게 진입차수가 0이 되는 노드를 큐에 삽입\n",
    "            if indegree[i] == 0:\n",
    "                q.append(i)\n",
    "                \n",
    "    for i in result:\n",
    "        print(i, end = ' ')\n",
    "        \n",
    "topology_sort()"
   ]
  }
 ],
 "metadata": {
  "kernelspec": {
   "display_name": "Python 3 (ipykernel)",
   "language": "python",
   "name": "python3"
  },
  "language_info": {
   "codemirror_mode": {
    "name": "ipython",
    "version": 3
   },
   "file_extension": ".py",
   "mimetype": "text/x-python",
   "name": "python",
   "nbconvert_exporter": "python",
   "pygments_lexer": "ipython3",
   "version": "3.9.7"
  }
 },
 "nbformat": 4,
 "nbformat_minor": 5
}
