{
 "cells": [
  {
   "cell_type": "markdown",
   "id": "8133927f",
   "metadata": {},
   "source": [
    "# 구현\n",
    "- 머릿속에 있는 알고리즘을 소스코드로 바꾸는 과정\n",
    "- 모든 범위의 코딩 테스트 문제 유형을 포함하는 개념"
   ]
  },
  {
   "cell_type": "markdown",
   "id": "5fb6e5f0",
   "metadata": {},
   "source": [
    "# 문제"
   ]
  },
  {
   "cell_type": "markdown",
   "id": "c6fa0c3a",
   "metadata": {},
   "source": [
    "## 1. 상하좌우\n",
    "- N x N 정사각형 공간에 있는 A가 (1,1)에서 출발하여 최종 도착 지점의 좌표를 출력하는 프로그램을 작성하시오\n",
    "    - L, R, U, D의 문자가 반복적으로 적혀있다 (A의 이동 계획서)\n",
    "        - L : 왼쪽 한 칸\n",
    "        - R : 오른쪽 한 칸\n",
    "        - U : 위로 한 칸\n",
    "        - D : 아래로 한 칸\n",
    "    - N x N 공간을 벗어나는 움직임은 무시된다\n",
    "    - 연산 횟수는 이동 횟수에 비례 => O(N)"
   ]
  },
  {
   "cell_type": "code",
   "execution_count": 12,
   "id": "9c97f696",
   "metadata": {},
   "outputs": [
    {
     "name": "stdout",
     "output_type": "stream",
     "text": [
      "5\n"
     ]
    }
   ],
   "source": [
    "# 공간 크기\n",
    "n = int(input())"
   ]
  },
  {
   "cell_type": "code",
   "execution_count": 13,
   "id": "ab81b0e2",
   "metadata": {},
   "outputs": [],
   "source": [
    "# 시작 좌표\n",
    "x, y = 1, 1"
   ]
  },
  {
   "cell_type": "code",
   "execution_count": 14,
   "id": "96853074",
   "metadata": {},
   "outputs": [
    {
     "name": "stdout",
     "output_type": "stream",
     "text": [
      "R R R U D D\n"
     ]
    }
   ],
   "source": [
    "move_list = input().split()"
   ]
  },
  {
   "cell_type": "code",
   "execution_count": 15,
   "id": "cab90b4e",
   "metadata": {},
   "outputs": [],
   "source": [
    "move_types = ['L', 'R', 'U', 'D']\n",
    "\n",
    "# x좌표는 좌우로 움직일 때, y좌표는 상하로 움직일 때 값이 변함\n",
    "dx = [0, 0, -1, 1]\n",
    "dy = [-1, 1, 0, 0]"
   ]
  },
  {
   "cell_type": "code",
   "execution_count": 18,
   "id": "97677cb9",
   "metadata": {},
   "outputs": [
    {
     "name": "stdout",
     "output_type": "stream",
     "text": [
      "3 2\n"
     ]
    }
   ],
   "source": [
    "# 이동 계획서 확인\n",
    "for m in move_list:\n",
    "    for i in range(len(move_types)):\n",
    "        if m == move_types[i]:\n",
    "            nx = x + dx[i]\n",
    "            ny = x + dy[i]\n",
    "            \n",
    "    if nx < 1 or ny < 1 or nx > n or ny > n:\n",
    "        continue\n",
    "            \n",
    "    x, y = nx, ny\n",
    "\n",
    "print(nx, ny)"
   ]
  },
  {
   "cell_type": "markdown",
   "id": "35d93fe5",
   "metadata": {},
   "source": [
    "## 2.시각\n",
    "- 00시 00분 00초부터 N시 59분 59초까지 모든 시각 중에서 3이 하나라도 포함되는 모든 경우의 수를 구하는 프로그램 작성\n",
    "- 완전 탐색 : 비효율적인 시간 복잡도로 인하여 데이터가 큰 경우에 정상적으로 동작하지 않을 수 있음 => 100만개 이하일 때 사용\n",
    "    - 하루는 86400초 => 경우의 수가 작음 => 완젙 탐색 가능"
   ]
  },
  {
   "cell_type": "code",
   "execution_count": 19,
   "id": "2a7bee86",
   "metadata": {},
   "outputs": [
    {
     "name": "stdout",
     "output_type": "stream",
     "text": [
      "5\n"
     ]
    }
   ],
   "source": [
    "n = int(input())"
   ]
  },
  {
   "cell_type": "code",
   "execution_count": 20,
   "id": "3d65f450",
   "metadata": {},
   "outputs": [
    {
     "name": "stdout",
     "output_type": "stream",
     "text": [
      "11475\n"
     ]
    }
   ],
   "source": [
    "cnt = 0\n",
    "\n",
    "for i in range(n + 1):\n",
    "    for j in range(60):\n",
    "        for k in range(60):\n",
    "            if '3' in str(i) + str(j) + str(k):\n",
    "                cnt += 1\n",
    "                \n",
    "print(cnt)"
   ]
  },
  {
   "cell_type": "markdown",
   "id": "b819ff7d",
   "metadata": {},
   "source": [
    "## 3. 왕실의 나이트\n",
    "- 8 x 8 좌표 평면의 정원에서 나이트 이동 가능 경우의 수 구하기\n",
    "    - 수평 2 + 수평 1\n",
    "    - 수직 2 + 수평 1\n",
    "- 행 위치 : 1 ~ 8\n",
    "- 열 위치 : a ~ h\n",
    "- 정원 밖으로는 나갈 수 없다"
   ]
  },
  {
   "cell_type": "code",
   "execution_count": 21,
   "id": "56847610",
   "metadata": {},
   "outputs": [
    {
     "name": "stdout",
     "output_type": "stream",
     "text": [
      "a1\n"
     ]
    }
   ],
   "source": [
    "input_data = input()"
   ]
  },
  {
   "cell_type": "code",
   "execution_count": 46,
   "id": "44dd78cf",
   "metadata": {},
   "outputs": [],
   "source": [
    "# col값을 숫자로 변환 (a : 1, b : 2, ...)\n",
    "col = ord(input_data[0]) - ord('a') + 1# chr <-> ord"
   ]
  },
  {
   "cell_type": "code",
   "execution_count": 47,
   "id": "6bb89ba1",
   "metadata": {},
   "outputs": [],
   "source": [
    "row = int(input_data[1])"
   ]
  },
  {
   "cell_type": "code",
   "execution_count": 48,
   "id": "6c4d3137",
   "metadata": {},
   "outputs": [
    {
     "data": {
      "text/plain": [
       "1"
      ]
     },
     "execution_count": 48,
     "metadata": {},
     "output_type": "execute_result"
    }
   ],
   "source": [
    "col"
   ]
  },
  {
   "cell_type": "code",
   "execution_count": 57,
   "id": "5d089863",
   "metadata": {},
   "outputs": [],
   "source": [
    "steps = [(-2, -1), (-2, 1), (-1, -2), (-1, 2), (1, -2), (1, 2), (2, -1), (2, 1)]"
   ]
  },
  {
   "cell_type": "code",
   "execution_count": 61,
   "id": "8b76d0be",
   "metadata": {},
   "outputs": [
    {
     "data": {
      "text/plain": [
       "tuple"
      ]
     },
     "execution_count": 61,
     "metadata": {},
     "output_type": "execute_result"
    }
   ],
   "source": [
    "type(steps[0])"
   ]
  },
  {
   "cell_type": "code",
   "execution_count": 65,
   "id": "e35267bc",
   "metadata": {},
   "outputs": [
    {
     "name": "stdout",
     "output_type": "stream",
     "text": [
      "2\n"
     ]
    }
   ],
   "source": [
    "result = 0\n",
    "\n",
    "for i in steps:\n",
    "        nr = row + i[0]\n",
    "        nc = col + i[1]\n",
    "        \n",
    "        # 이동 가능한 위치면 카운트 증가\n",
    "        # 좌표는 (1, 1) ~ (8, 8)까지 밖에 없음\n",
    "        # 따라서 이동하고싶은 좌표가 이 사이에 있는 경우에만 result 추가\n",
    "        if nr >= 1 and nr <= 8 and nc >= 1 and nc <= 8:\n",
    "            result += 1\n",
    "            \n",
    "print(result)"
   ]
  },
  {
   "cell_type": "markdown",
   "id": "d61d3e2a",
   "metadata": {},
   "source": [
    "## 4. 게임 개발\n",
    "- 첫째 줄 : 맵 생성 (n, m)\n",
    "- 둘째 줄 : 캐릭터 현재 좌표 (A, B) (항상 육지)\n",
    "- 둘째 줄 : 바라보는 방향 (d)\n",
    "    - 0 : 북, 1 : 동, 2 : 남, 3 : 서\n",
    "- 셋째 줄 : 육지(0), 바다(1) 인지 북 -> 남, 서 -> 동 순서로 주어짐\n",
    "    - 맵의 외곽은 항상 바다"
   ]
  },
  {
   "cell_type": "markdown",
   "id": "efa85437",
   "metadata": {},
   "source": [
    "###  Tip\n",
    "1. 방향을 지정하는 문제 유형에선 dx, dy랑느 별도의 리스트를 만들어 방향을 정하는 것이 효과적\n",
    "2. 예외처리는 고려하지 않고 빠르게 코드를 작성하자"
   ]
  },
  {
   "cell_type": "code",
   "execution_count": 125,
   "id": "7fe8078b",
   "metadata": {},
   "outputs": [
    {
     "name": "stdout",
     "output_type": "stream",
     "text": [
      "4 4\n"
     ]
    }
   ],
   "source": [
    "# 맵 생성\n",
    "n, m = map(int, input().split())"
   ]
  },
  {
   "cell_type": "code",
   "execution_count": 126,
   "id": "aedf0926",
   "metadata": {},
   "outputs": [],
   "source": [
    "# 방문 위치 저장을 위해 맵을 0 으로 초기화\n",
    "# data = [[0 for i in range(n)] for i in range(m)]"
   ]
  },
  {
   "cell_type": "code",
   "execution_count": 127,
   "id": "0b7077e9",
   "metadata": {},
   "outputs": [],
   "source": [
    "data = [[0] * m for _ in range(n)]"
   ]
  },
  {
   "cell_type": "code",
   "execution_count": 128,
   "id": "f84c6e11",
   "metadata": {},
   "outputs": [
    {
     "name": "stdout",
     "output_type": "stream",
     "text": [
      "1 1 0\n"
     ]
    }
   ],
   "source": [
    "A, B, direction = map(int, input().split())"
   ]
  },
  {
   "cell_type": "code",
   "execution_count": 129,
   "id": "8c7de2e0",
   "metadata": {},
   "outputs": [],
   "source": [
    "# 현재 좌표 방문 처리\n",
    "data[x][y] = 1"
   ]
  },
  {
   "cell_type": "code",
   "execution_count": 130,
   "id": "4dd2ee99",
   "metadata": {},
   "outputs": [
    {
     "name": "stdout",
     "output_type": "stream",
     "text": [
      "1 1 1 1\n",
      "1 0 0 1\n",
      "1 1 0 1\n",
      "1 1 1 1\n"
     ]
    }
   ],
   "source": [
    "arr = []\n",
    "\n",
    "# 세로 크기 (n) 만큼 반복 => 전체 맵 정보 받기\n",
    "for i in range(n):\n",
    "    arr.append(list(map(int, input().split())))"
   ]
  },
  {
   "cell_type": "code",
   "execution_count": 131,
   "id": "169b1300",
   "metadata": {},
   "outputs": [],
   "source": [
    "# 북 동 남 서 방향 정리\n",
    "dx = [-1, 0, 1, 0]\n",
    "dy = [0, 1, 0, -1]"
   ]
  },
  {
   "cell_type": "code",
   "execution_count": 132,
   "id": "8c265a1e",
   "metadata": {},
   "outputs": [],
   "source": [
    "# 왼쪽 회전 함수\n",
    "def turn_left():\n",
    "    global direction\n",
    "    direction -= 1\n",
    "    \n",
    "    # 시작이 기준에서 왼쪽방향으로 90도 회전 => 북 기준 서쪽으로 회전한다고 보면 됨 => 북 서 남 동 순서 => direction -= 1하는 이유\n",
    "    if direction == -1:\n",
    "        direction = 3"
   ]
  },
  {
   "cell_type": "code",
   "execution_count": 123,
   "id": "b0aa5c2f",
   "metadata": {},
   "outputs": [
    {
     "name": "stdout",
     "output_type": "stream",
     "text": [
      "2\n",
      "3\n",
      "4\n",
      "4\n"
     ]
    }
   ],
   "source": [
    "# 시뮬레이션 시작\n",
    "count = 1\n",
    "turn_time = 0\n",
    "\n",
    "while True:\n",
    "    # 1. 현재 방향 기준 왼쪽으로 회전\n",
    "    turn_left()\n",
    "    \n",
    "    nx = A + dx[direction]\n",
    "    ny = B + dy[direction]\n",
    "    \n",
    "    # 2. 회전한 이후 정면에 가보지 않은 칸이 존재하는 경우\n",
    "    if data[nx][ny] == 0 and arr[nx][ny] == 0:\n",
    "        data[nx][ny] = 1\n",
    "        A = nx\n",
    "        B = ny\n",
    "        count += 1\n",
    "        turn_time = 0\n",
    "        continue\n",
    "    \n",
    "    # 2-2. 회전 후 가보지 않은 칸이 없는 경우\n",
    "    else:\n",
    "        turn_time +=1\n",
    "    \n",
    "    # 3. 네 방향 모두 갈 수 없는 경우\n",
    "    if turn_time == 4:\n",
    "        nx = A - dx[direction]\n",
    "        ny = B - dy[direction]\n",
    "        \n",
    "        # 뒤로 갈 수 있따면 이동\n",
    "        if arr[nx][ny] == 0:\n",
    "            A = nx\n",
    "            B = ny\n",
    "        # 뒤가 바다\n",
    "        else:\n",
    "            break\n",
    "        turn_time = 0\n",
    "        \n",
    "print(count)\n",
    "    \n",
    "        "
   ]
  },
  {
   "cell_type": "code",
   "execution_count": 124,
   "id": "c226183e",
   "metadata": {},
   "outputs": [
    {
     "name": "stdout",
     "output_type": "stream",
     "text": [
      "4 4\n",
      "1 1 0\n",
      "1 1 1 1\n",
      "1 0 0 1\n",
      "1 1 0 1\n",
      "1 1 1 1\n",
      "3\n"
     ]
    }
   ],
   "source": [
    "# N, M을 공백을 기준으로 구분하여 입력받기\n",
    "n, m = map(int, input().split())\n",
    "\n",
    "# 방문한 위치를 저장하기 위한 맵을 생성하여 0으로 초기화\n",
    "d = [[0] * m for _ in range(n)]\n",
    "# 현재 캐릭터의 X 좌표, Y 좌표, 방향을 입력받기\n",
    "x, y, direction = map(int, input().split())\n",
    "d[x][y] = 1 # 현재 좌표 방문 처리\n",
    "\n",
    "# 전체 맵 정보를 입력받기\n",
    "array = []\n",
    "for i in range(n):\n",
    "    array.append(list(map(int, input().split())))\n",
    "\n",
    "# 북, 동, 남, 서 방향 정의\n",
    "dx = [-1, 0, 1, 0]\n",
    "dy = [0, 1, 0, -1]\n",
    "\n",
    "# 왼쪽으로 회전\n",
    "def turn_left():\n",
    "    global direction\n",
    "    direction -= 1\n",
    "    if direction == -1:\n",
    "        direction = 3\n",
    "\n",
    "# 시뮬레이션 시작\n",
    "count = 1\n",
    "turn_time = 0\n",
    "while True:\n",
    "    # 왼쪽으로 회전\n",
    "    turn_left()\n",
    "    nx = x + dx[direction]\n",
    "    ny = y + dy[direction]\n",
    "    # 회전한 이후 정면에 가보지 않은 칸이 존재하는 경우 이동\n",
    "    if d[nx][ny] == 0 and array[nx][ny] == 0:\n",
    "        d[nx][ny] = 1\n",
    "        x = nx\n",
    "        y = ny\n",
    "        count += 1\n",
    "        turn_time = 0\n",
    "        continue\n",
    "    # 회전한 이후 정면에 가보지 않은 칸이 없거나 바다인 경우\n",
    "    else:\n",
    "        turn_time += 1\n",
    "    # 네 방향 모두 갈 수 없는 경우\n",
    "    if turn_time == 4:\n",
    "        nx = x - dx[direction]\n",
    "        ny = y - dy[direction]\n",
    "        # 뒤로 갈 수 있다면 이동하기\n",
    "        if array[nx][ny] == 0:\n",
    "            x = nx\n",
    "            y = ny\n",
    "        # 뒤가 바다로 막혀있는 경우\n",
    "        else:\n",
    "            break\n",
    "        turn_time = 0\n",
    "\n",
    "# 정답 출력\n",
    "print(count)"
   ]
  }
 ],
 "metadata": {
  "kernelspec": {
   "display_name": "Python 3 (ipykernel)",
   "language": "python",
   "name": "python3"
  },
  "language_info": {
   "codemirror_mode": {
    "name": "ipython",
    "version": 3
   },
   "file_extension": ".py",
   "mimetype": "text/x-python",
   "name": "python",
   "nbconvert_exporter": "python",
   "pygments_lexer": "ipython3",
   "version": "3.9.7"
  }
 },
 "nbformat": 4,
 "nbformat_minor": 5
}
