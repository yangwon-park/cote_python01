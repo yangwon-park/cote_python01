{
 "cells": [
  {
   "cell_type": "markdown",
   "id": "e3deda91",
   "metadata": {},
   "source": [
    "# 01. 거스름돈 문제\n",
    "- 거슬러줘야 할 동전의 최소 개수 구하기 => 금액이 큰 동전부터 차례대로 거슬러 주면 최소 개수!!!\n",
    "- 가지고 있는 동준 중 큰 단위가 항상 작은 단위의 배수 => 작은 단위의 동전들을 종합해 다른 해가 나올 수 없다 => 정당성 확인\n"
   ]
  },
  {
   "cell_type": "code",
   "execution_count": 3,
   "id": "f90406ba",
   "metadata": {},
   "outputs": [
    {
     "name": "stdout",
     "output_type": "stream",
     "text": [
      "n : 5\n"
     ]
    }
   ],
   "source": [
    "n = int((input(\"n : \")))"
   ]
  },
  {
   "cell_type": "code",
   "execution_count": 4,
   "id": "a39746f6",
   "metadata": {},
   "outputs": [
    {
     "name": "stdout",
     "output_type": "stream",
     "text": [
      "5\n"
     ]
    }
   ],
   "source": [
    "print(n)"
   ]
  },
  {
   "cell_type": "code",
   "execution_count": 5,
   "id": "f1b9657c",
   "metadata": {},
   "outputs": [
    {
     "name": "stdout",
     "output_type": "stream",
     "text": [
      "0\n"
     ]
    }
   ],
   "source": [
    "count = 0\n",
    "\n",
    "# 화폐의 종류만큼 반복 수행 => 시간 복잡도 : O(K)\n",
    "coin = [500, 100, 50, 10]\n",
    "\n",
    "for c in coin:\n",
    "    count += n // c\n",
    "    n %= c\n",
    "\n",
    "print(count)"
   ]
  },
  {
   "cell_type": "markdown",
   "id": "a1fc832a",
   "metadata": {},
   "source": [
    "# 02. 큰 수의 법칙\n",
    "- 가장 큰 수를 K번 더하고 두 번째로 큰 수를 한 번 더하는 연산 반복"
   ]
  },
  {
   "cell_type": "markdown",
   "id": "41238903",
   "metadata": {},
   "source": [
    "## 02-1 단순 답안"
   ]
  },
  {
   "cell_type": "code",
   "execution_count": 7,
   "id": "7e82e2a4",
   "metadata": {},
   "outputs": [
    {
     "name": "stdout",
     "output_type": "stream",
     "text": [
      "5 7 3\n",
      "2 4 5 4 6\n",
      "41\n"
     ]
    }
   ],
   "source": [
    "# n, m, k를 공백으로 구분하여 입력받음\n",
    "# n : 배열의 크기, m : 숫자가 더해지는 횟수, K : 해당 수가 연속으로 더해질 수 있는 최대 횟수\n",
    "n, m, k = map(int, input().split())\n",
    "\n",
    "# N개의 수를 공백으로 구분하여 입력받음\n",
    "data = list(map(int, input().split()))\n",
    "\n",
    "# 최종 결과를 저장할 변수\n",
    "result = 0\n",
    "\n",
    "data.sort()\n",
    "first = data[n-1]  # 정렬했으므로 가장 큰 수\n",
    "second = data[n-2] # 정렬했으므로 두 번째로 큰 수\n",
    "\n",
    "while True:\n",
    "    for i in range(k):\n",
    "        if m == 0:\n",
    "            break  # for문 탈출\n",
    "        result += first\n",
    "        m -= 1     # 횟수를 1회씩 줄여야 무한루프 탈출\n",
    "    if m == 0:\n",
    "        break      # while문 탈출\n",
    "    result += second\n",
    "    m -= 1         # 횟수를 1회씩 줄여야 무한루프 탈출\n",
    "        \n",
    "print(result)\n"
   ]
  },
  {
   "cell_type": "markdown",
   "id": "bd396bb1",
   "metadata": {},
   "source": [
    "## 02-2. 모범 답안\n",
    "- 위의 답안 경우, M의 범위가 매우 커지면 시간 초과 판정이 될 것"
   ]
  },
  {
   "cell_type": "code",
   "execution_count": 9,
   "id": "c63faa97",
   "metadata": {},
   "outputs": [
    {
     "name": "stdout",
     "output_type": "stream",
     "text": [
      "5 8 3\n",
      "2 4 5 4 6\n",
      "46\n"
     ]
    }
   ],
   "source": [
    "n, m, k = map(int, input().split())\n",
    "data = list(map(int, input().split()))\n",
    "\n",
    "data.sort()\n",
    "first = data[n-1]\n",
    "second = data[n-2]\n",
    "\n",
    "count = ((m // (k + 1)) * k) + (m % (k + 1))\n",
    "\n",
    "result = 0\n",
    "result += (count) * first\n",
    "result += (m - count) * second\n",
    "\n",
    "print(result)"
   ]
  },
  {
   "cell_type": "code",
   "execution_count": null,
   "id": "f1c54a34",
   "metadata": {},
   "outputs": [],
   "source": []
  }
 ],
 "metadata": {
  "kernelspec": {
   "display_name": "Python 3 (ipykernel)",
   "language": "python",
   "name": "python3"
  },
  "language_info": {
   "codemirror_mode": {
    "name": "ipython",
    "version": 3
   },
   "file_extension": ".py",
   "mimetype": "text/x-python",
   "name": "python",
   "nbconvert_exporter": "python",
   "pygments_lexer": "ipython3",
   "version": "3.9.7"
  }
 },
 "nbformat": 4,
 "nbformat_minor": 5
}
