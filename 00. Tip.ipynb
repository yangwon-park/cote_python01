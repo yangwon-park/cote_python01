{
 "cells": [
  {
   "cell_type": "markdown",
   "id": "629d4b4e",
   "metadata": {},
   "source": [
    "# 파이썬 코딩 테스트 유의 사항\n",
    "1. 정수형 변수 연산의 경우 자료형의 표현 범위 제한에 대해 깊이 고민할 필요가 없으나, 실수형 변수는 마찬가지로 유효숫자를 유의해야함\n",
    "2. 리스트 사용시, 코딩 테스트의 메모리 용량 제한을 유의해야한다\n",
    "    - 리스트 크기가 1000만 이상인 경우, 메모리 용량 제한에 걸릴 수 있다\n",
    "3. 파이썬 3.7 기준, 코드가 1초에 2000만 번의 연산 수행을 한다고 가정하면 실행 시간 제한에 안정적이다\n",
    "4. Pypy3을 지원한다면 속도가 더 빠르니 이를 이용하자\n",
    "5. 팀 노트 만들기(C/C++)"
   ]
  }
 ],
 "metadata": {
  "kernelspec": {
   "display_name": "Python 3 (ipykernel)",
   "language": "python",
   "name": "python3"
  },
  "language_info": {
   "codemirror_mode": {
    "name": "ipython",
    "version": 3
   },
   "file_extension": ".py",
   "mimetype": "text/x-python",
   "name": "python",
   "nbconvert_exporter": "python",
   "pygments_lexer": "ipython3",
   "version": "3.9.7"
  }
 },
 "nbformat": 4,
 "nbformat_minor": 5
}
